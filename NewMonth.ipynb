{
 "cells": [
  {
   "cell_type": "markdown",
   "metadata": {},
   "source": [
    "# 목차\n",
    "## 데이터 가져오기\n",
    "### 데이터 병합\n",
    "    - 데이터 가공\n",
    "    - merge 병합\n",
    "### 데이터 탐색\n",
    "    - boxplot\n",
    "    - 정규성\n",
    "    - t검정\n",
    "    - VIF와 공분산성 확인 ∵다중공선성 문제\n",
    "## 데이터 전처리\n",
    "- minmaxscale\n",
    "- standardscale\n",
    "- robustscale\n",
    "- log변환\n",
    "    ### 데이터 재탐색\n",
    "        - 공분산 hitmap\n",
    "        - VIF 확인\n",
    "        - 정규성 검증\n",
    "        - t검정\n",
    "## feature selection\n",
    "- decisiontree feature_importance\n",
    "- randomforest feature_importance\n",
    "- 혹은 차원축소 PCA\n",
    "- forward\n",
    "- backwards\n",
    "- stepwerd\n",
    "- LASSO, Ridge, ElastivNet\n",
    "## Modeling\n",
    "-"
   ]
  },
  {
   "cell_type": "code",
   "execution_count": null,
   "metadata": {},
   "outputs": [],
   "source": []
  }
 ],
 "metadata": {
  "language_info": {
   "name": "python"
  }
 },
 "nbformat": 4,
 "nbformat_minor": 2
}
