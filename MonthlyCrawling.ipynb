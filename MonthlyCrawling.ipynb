{
 "cells": [
  {
   "cell_type": "markdown",
   "id": "fce6c2fc",
   "metadata": {},
   "source": [
    "# 이 문서의 목표 - 데이터 수집해서 데이터 셋 만드기 \n",
    "## 데이터 수집하기 Data Crawling\n",
    "    - ecos와 fred\n",
    "## 데이터 병합 merge\n",
    "    - 데이터 가공\n",
    "    - 병합\n",
    "    - csv파일로 저장"
   ]
  },
  {
   "cell_type": "code",
   "execution_count": 382,
   "id": "02b544de-76d5-4819-aa51-697c629008f3",
   "metadata": {},
   "outputs": [
    {
     "name": "stdout",
     "output_type": "stream",
     "text": [
      "현재 작업 디렉토리: c:\\apps\\miniproj\n"
     ]
    }
   ],
   "source": [
    "import os\n",
    "current_directory = os.getcwd() # 현재 작업 디렉토리를 얻기\n",
    "print(\"현재 작업 디렉토리:\", current_directory)"
   ]
  },
  {
   "cell_type": "code",
   "execution_count": 383,
   "id": "2e0f46c4-5191-4275-b689-8a586d4bd1f7",
   "metadata": {},
   "outputs": [],
   "source": [
    "import pandas as pd\n",
    "import numpy as np\n",
    "import matplotlib.pyplot as plt\n",
    "import seaborn as sns\n",
    "import platform\n",
    "if platform.system() == \"Darwin\":          # MAC인 경우\n",
    "    plt.rc('font', family =\"AppleGothic\")\n",
    "else:\n",
    "    plt.rc('font',family='Malgun Gothic')\n",
    "\n",
    "#멧플로립에서 음수를 표시\n",
    "plt.rc('axes',unicode_minus=False)\n",
    "\n",
    "#워닝 메시지 제거\n",
    "import warnings\n",
    "warnings.filterwarnings('ignore')"
   ]
  },
  {
   "cell_type": "code",
   "execution_count": 384,
   "id": "f09c39cd-dde2-4e88-83cc-7f1266cd78a9",
   "metadata": {},
   "outputs": [
    {
     "name": "stdout",
     "output_type": "stream",
     "text": [
      "Requirement already satisfied: PublicDataReader in c:\\users\\user\\appdata\\local\\programs\\python\\python311\\lib\\site-packages (1.0.25)\n",
      "Requirement already satisfied: beautifulsoup4 in c:\\users\\user\\appdata\\local\\programs\\python\\python311\\lib\\site-packages (from PublicDataReader) (4.12.2)\n",
      "Requirement already satisfied: lxml in c:\\users\\user\\appdata\\local\\programs\\python\\python311\\lib\\site-packages (from PublicDataReader) (4.9.3)\n",
      "Requirement already satisfied: numpy in c:\\users\\user\\appdata\\local\\programs\\python\\python311\\lib\\site-packages (from PublicDataReader) (1.25.2)\n",
      "Requirement already satisfied: pandas in c:\\users\\user\\appdata\\local\\programs\\python\\python311\\lib\\site-packages (from PublicDataReader) (2.0.3)\n",
      "Requirement already satisfied: requests in c:\\users\\user\\appdata\\local\\programs\\python\\python311\\lib\\site-packages (from PublicDataReader) (2.31.0)\n",
      "Requirement already satisfied: xmltodict in c:\\users\\user\\appdata\\local\\programs\\python\\python311\\lib\\site-packages (from PublicDataReader) (0.13.0)\n",
      "Requirement already satisfied: soupsieve>1.2 in c:\\users\\user\\appdata\\local\\programs\\python\\python311\\lib\\site-packages (from beautifulsoup4->PublicDataReader) (2.4.1)\n",
      "Requirement already satisfied: python-dateutil>=2.8.2 in c:\\users\\user\\appdata\\roaming\\python\\python311\\site-packages (from pandas->PublicDataReader) (2.8.2)\n",
      "Requirement already satisfied: pytz>=2020.1 in c:\\users\\user\\appdata\\local\\programs\\python\\python311\\lib\\site-packages (from pandas->PublicDataReader) (2023.3)\n",
      "Requirement already satisfied: tzdata>=2022.1 in c:\\users\\user\\appdata\\local\\programs\\python\\python311\\lib\\site-packages (from pandas->PublicDataReader) (2023.3)\n",
      "Requirement already satisfied: charset-normalizer<4,>=2 in c:\\users\\user\\appdata\\local\\programs\\python\\python311\\lib\\site-packages (from requests->PublicDataReader) (3.2.0)\n",
      "Requirement already satisfied: idna<4,>=2.5 in c:\\users\\user\\appdata\\local\\programs\\python\\python311\\lib\\site-packages (from requests->PublicDataReader) (3.4)\n",
      "Requirement already satisfied: urllib3<3,>=1.21.1 in c:\\users\\user\\appdata\\local\\programs\\python\\python311\\lib\\site-packages (from requests->PublicDataReader) (2.0.4)\n",
      "Requirement already satisfied: certifi>=2017.4.17 in c:\\users\\user\\appdata\\local\\programs\\python\\python311\\lib\\site-packages (from requests->PublicDataReader) (2023.7.22)\n",
      "Requirement already satisfied: six>=1.5 in c:\\users\\user\\appdata\\local\\programs\\python\\python311\\lib\\site-packages (from python-dateutil>=2.8.2->pandas->PublicDataReader) (1.16.0)\n"
     ]
    },
    {
     "name": "stderr",
     "output_type": "stream",
     "text": [
      "\n",
      "[notice] A new release of pip is available: 23.1.2 -> 23.2.1\n",
      "[notice] To update, run: python.exe -m pip install --upgrade pip\n"
     ]
    }
   ],
   "source": [
    "!pip install PublicDataReader\n",
    "from PublicDataReader import Ecos\n",
    "service_key = \"2D9DY7C4S29XV51QBTPT\"\n",
    "ecos = Ecos(service_key)"
   ]
  },
  {
   "cell_type": "markdown",
   "id": "9a811b68",
   "metadata": {},
   "source": [
    "# 데이터 가져오기"
   ]
  },
  {
   "cell_type": "markdown",
   "id": "9fc21df1",
   "metadata": {},
   "source": [
    "- 원/달러 말일 종가 "
   ]
  },
  {
   "cell_type": "code",
   "execution_count": 385,
   "id": "b817d1a0",
   "metadata": {},
   "outputs": [],
   "source": [
    "KRWUSD = ecos.get_statistic_search(통계표코드='731Y006', 주기=\"M\", 검색시작일자=\"200212\", 검색종료일자=\"202310\")"
   ]
  },
  {
   "cell_type": "code",
   "execution_count": 386,
   "id": "1024b17f",
   "metadata": {},
   "outputs": [],
   "source": [
    "KRWUSD = KRWUSD.loc[KRWUSD['통계항목코드1'] == '0000003'].loc[KRWUSD['통계항목코드2'] == '0000200'][['시점', '값']].rename(columns = {'값':'KRW/USD'})"
   ]
  },
  {
   "cell_type": "code",
   "execution_count": 387,
   "id": "e28d3371",
   "metadata": {},
   "outputs": [
    {
     "data": {
      "text/html": [
       "<div>\n",
       "<style scoped>\n",
       "    .dataframe tbody tr th:only-of-type {\n",
       "        vertical-align: middle;\n",
       "    }\n",
       "\n",
       "    .dataframe tbody tr th {\n",
       "        vertical-align: top;\n",
       "    }\n",
       "\n",
       "    .dataframe thead th {\n",
       "        text-align: right;\n",
       "    }\n",
       "</style>\n",
       "<table border=\"1\" class=\"dataframe\">\n",
       "  <thead>\n",
       "    <tr style=\"text-align: right;\">\n",
       "      <th></th>\n",
       "      <th>시점</th>\n",
       "      <th>KRW/USD</th>\n",
       "    </tr>\n",
       "  </thead>\n",
       "  <tbody>\n",
       "    <tr>\n",
       "      <th>1</th>\n",
       "      <td>200212</td>\n",
       "      <td>1186.2</td>\n",
       "    </tr>\n",
       "    <tr>\n",
       "      <th>2</th>\n",
       "      <td>200301</td>\n",
       "      <td>1170.1</td>\n",
       "    </tr>\n",
       "    <tr>\n",
       "      <th>4</th>\n",
       "      <td>200302</td>\n",
       "      <td>1193.7</td>\n",
       "    </tr>\n",
       "    <tr>\n",
       "      <th>6</th>\n",
       "      <td>200303</td>\n",
       "      <td>1254.6</td>\n",
       "    </tr>\n",
       "    <tr>\n",
       "      <th>9</th>\n",
       "      <td>200304</td>\n",
       "      <td>1215.3</td>\n",
       "    </tr>\n",
       "    <tr>\n",
       "      <th>...</th>\n",
       "      <td>...</td>\n",
       "      <td>...</td>\n",
       "    </tr>\n",
       "    <tr>\n",
       "      <th>3109</th>\n",
       "      <td>202305</td>\n",
       "      <td>1327.2</td>\n",
       "    </tr>\n",
       "    <tr>\n",
       "      <th>3132</th>\n",
       "      <td>202306</td>\n",
       "      <td>1317.7</td>\n",
       "    </tr>\n",
       "    <tr>\n",
       "      <th>3145</th>\n",
       "      <td>202307</td>\n",
       "      <td>1274.6</td>\n",
       "    </tr>\n",
       "    <tr>\n",
       "      <th>3163</th>\n",
       "      <td>202308</td>\n",
       "      <td>1321.8</td>\n",
       "    </tr>\n",
       "    <tr>\n",
       "      <th>3195</th>\n",
       "      <td>202309</td>\n",
       "      <td>1349.3</td>\n",
       "    </tr>\n",
       "  </tbody>\n",
       "</table>\n",
       "<p>250 rows × 2 columns</p>\n",
       "</div>"
      ],
      "text/plain": [
       "          시점 KRW/USD\n",
       "1     200212  1186.2\n",
       "2     200301  1170.1\n",
       "4     200302  1193.7\n",
       "6     200303  1254.6\n",
       "9     200304  1215.3\n",
       "...      ...     ...\n",
       "3109  202305  1327.2\n",
       "3132  202306  1317.7\n",
       "3145  202307  1274.6\n",
       "3163  202308  1321.8\n",
       "3195  202309  1349.3\n",
       "\n",
       "[250 rows x 2 columns]"
      ]
     },
     "execution_count": 387,
     "metadata": {},
     "output_type": "execute_result"
    }
   ],
   "source": [
    "KRWUSD"
   ]
  },
  {
   "cell_type": "markdown",
   "id": "ca6347d4",
   "metadata": {},
   "source": [
    "- E1000 경제심리지수(원계열)"
   ]
  },
  {
   "cell_type": "code",
   "execution_count": 388,
   "id": "ed32e7a3",
   "metadata": {},
   "outputs": [],
   "source": [
    "E1000 = ecos.get_statistic_search(통계표코드='513Y001', 주기=\"M\", 검색시작일자=\"200212\", 검색종료일자=\"202310\")\n",
    "E1000 = E1000.loc[E1000['통계항목코드1'] == 'E1000']\n",
    "E1000 = E1000[['시점', '값']].rename(columns = {'값':'경제심리지수(원계열)'})"
   ]
  },
  {
   "cell_type": "code",
   "execution_count": 389,
   "id": "49ed6334-6214-4ccf-9987-e758a1be90d0",
   "metadata": {},
   "outputs": [
    {
     "data": {
      "text/html": [
       "<div>\n",
       "<style scoped>\n",
       "    .dataframe tbody tr th:only-of-type {\n",
       "        vertical-align: middle;\n",
       "    }\n",
       "\n",
       "    .dataframe tbody tr th {\n",
       "        vertical-align: top;\n",
       "    }\n",
       "\n",
       "    .dataframe thead th {\n",
       "        text-align: right;\n",
       "    }\n",
       "</style>\n",
       "<table border=\"1\" class=\"dataframe\">\n",
       "  <thead>\n",
       "    <tr style=\"text-align: right;\">\n",
       "      <th></th>\n",
       "      <th>시점</th>\n",
       "      <th>경제심리지수(원계열)</th>\n",
       "    </tr>\n",
       "  </thead>\n",
       "  <tbody>\n",
       "    <tr>\n",
       "      <th>0</th>\n",
       "      <td>200301</td>\n",
       "      <td>101</td>\n",
       "    </tr>\n",
       "    <tr>\n",
       "      <th>2</th>\n",
       "      <td>200302</td>\n",
       "      <td>102.3</td>\n",
       "    </tr>\n",
       "    <tr>\n",
       "      <th>5</th>\n",
       "      <td>200303</td>\n",
       "      <td>92.3</td>\n",
       "    </tr>\n",
       "    <tr>\n",
       "      <th>6</th>\n",
       "      <td>200304</td>\n",
       "      <td>98</td>\n",
       "    </tr>\n",
       "    <tr>\n",
       "      <th>9</th>\n",
       "      <td>200305</td>\n",
       "      <td>96.1</td>\n",
       "    </tr>\n",
       "    <tr>\n",
       "      <th>...</th>\n",
       "      <td>...</td>\n",
       "      <td>...</td>\n",
       "    </tr>\n",
       "    <tr>\n",
       "      <th>488</th>\n",
       "      <td>202305</td>\n",
       "      <td>94.2</td>\n",
       "    </tr>\n",
       "    <tr>\n",
       "      <th>491</th>\n",
       "      <td>202306</td>\n",
       "      <td>95.7</td>\n",
       "    </tr>\n",
       "    <tr>\n",
       "      <th>492</th>\n",
       "      <td>202307</td>\n",
       "      <td>94.1</td>\n",
       "    </tr>\n",
       "    <tr>\n",
       "      <th>494</th>\n",
       "      <td>202308</td>\n",
       "      <td>94</td>\n",
       "    </tr>\n",
       "    <tr>\n",
       "      <th>497</th>\n",
       "      <td>202309</td>\n",
       "      <td>92.7</td>\n",
       "    </tr>\n",
       "  </tbody>\n",
       "</table>\n",
       "<p>249 rows × 2 columns</p>\n",
       "</div>"
      ],
      "text/plain": [
       "         시점 경제심리지수(원계열)\n",
       "0    200301         101\n",
       "2    200302       102.3\n",
       "5    200303        92.3\n",
       "6    200304          98\n",
       "9    200305        96.1\n",
       "..      ...         ...\n",
       "488  202305        94.2\n",
       "491  202306        95.7\n",
       "492  202307        94.1\n",
       "494  202308          94\n",
       "497  202309        92.7\n",
       "\n",
       "[249 rows x 2 columns]"
      ]
     },
     "execution_count": 389,
     "metadata": {},
     "output_type": "execute_result"
    }
   ],
   "source": [
    "E1000"
   ]
  },
  {
   "cell_type": "markdown",
   "id": "f0046558",
   "metadata": {},
   "source": [
    "- A001 뉴스심리지수"
   ]
  },
  {
   "cell_type": "code",
   "execution_count": 390,
   "id": "d4e140fb",
   "metadata": {},
   "outputs": [],
   "source": [
    "A001 = ecos.get_statistic_search(통계표코드='521Y001', 주기=\"M\", 검색시작일자=\"200212\", 검색종료일자=\"202310\")\n",
    "A001 = A001.loc[A001['통계항목코드1'] == 'A001']\n",
    "A001 = A001[['시점', '값']].rename(columns = {'값':'뉴스심리지수'})"
   ]
  },
  {
   "cell_type": "code",
   "execution_count": 391,
   "id": "ef355dde",
   "metadata": {},
   "outputs": [
    {
     "data": {
      "text/html": [
       "<div>\n",
       "<style scoped>\n",
       "    .dataframe tbody tr th:only-of-type {\n",
       "        vertical-align: middle;\n",
       "    }\n",
       "\n",
       "    .dataframe tbody tr th {\n",
       "        vertical-align: top;\n",
       "    }\n",
       "\n",
       "    .dataframe thead th {\n",
       "        text-align: right;\n",
       "    }\n",
       "</style>\n",
       "<table border=\"1\" class=\"dataframe\">\n",
       "  <thead>\n",
       "    <tr style=\"text-align: right;\">\n",
       "      <th></th>\n",
       "      <th>시점</th>\n",
       "      <th>뉴스심리지수</th>\n",
       "    </tr>\n",
       "  </thead>\n",
       "  <tbody>\n",
       "    <tr>\n",
       "      <th>0</th>\n",
       "      <td>200501</td>\n",
       "      <td>106.39</td>\n",
       "    </tr>\n",
       "    <tr>\n",
       "      <th>1</th>\n",
       "      <td>200502</td>\n",
       "      <td>110.62</td>\n",
       "    </tr>\n",
       "    <tr>\n",
       "      <th>2</th>\n",
       "      <td>200503</td>\n",
       "      <td>103.98</td>\n",
       "    </tr>\n",
       "    <tr>\n",
       "      <th>3</th>\n",
       "      <td>200504</td>\n",
       "      <td>100.87</td>\n",
       "    </tr>\n",
       "    <tr>\n",
       "      <th>4</th>\n",
       "      <td>200505</td>\n",
       "      <td>101.94</td>\n",
       "    </tr>\n",
       "    <tr>\n",
       "      <th>...</th>\n",
       "      <td>...</td>\n",
       "      <td>...</td>\n",
       "    </tr>\n",
       "    <tr>\n",
       "      <th>221</th>\n",
       "      <td>202306</td>\n",
       "      <td>101.64</td>\n",
       "    </tr>\n",
       "    <tr>\n",
       "      <th>222</th>\n",
       "      <td>202307</td>\n",
       "      <td>102.08</td>\n",
       "    </tr>\n",
       "    <tr>\n",
       "      <th>223</th>\n",
       "      <td>202308</td>\n",
       "      <td>99.03</td>\n",
       "    </tr>\n",
       "    <tr>\n",
       "      <th>224</th>\n",
       "      <td>202309</td>\n",
       "      <td>100.78</td>\n",
       "    </tr>\n",
       "    <tr>\n",
       "      <th>225</th>\n",
       "      <td>202310</td>\n",
       "      <td>91.86</td>\n",
       "    </tr>\n",
       "  </tbody>\n",
       "</table>\n",
       "<p>226 rows × 2 columns</p>\n",
       "</div>"
      ],
      "text/plain": [
       "         시점  뉴스심리지수\n",
       "0    200501  106.39\n",
       "1    200502  110.62\n",
       "2    200503  103.98\n",
       "3    200504  100.87\n",
       "4    200505  101.94\n",
       "..      ...     ...\n",
       "221  202306  101.64\n",
       "222  202307  102.08\n",
       "223  202308   99.03\n",
       "224  202309  100.78\n",
       "225  202310   91.86\n",
       "\n",
       "[226 rows x 2 columns]"
      ]
     },
     "execution_count": 391,
     "metadata": {},
     "output_type": "execute_result"
    }
   ],
   "source": [
    "A001"
   ]
  },
  {
   "cell_type": "markdown",
   "id": "0a20c659",
   "metadata": {},
   "source": [
    "- Droped FME 소비자심리지수"
   ]
  },
  {
   "cell_type": "code",
   "execution_count": 392,
   "id": "01b17e6f",
   "metadata": {},
   "outputs": [],
   "source": [
    "# FME = ecos.get_statistic_search(통계표코드='511Y002', 주기=\"M\", 검색시작일자=\"200212\", 검색종료일자=\"202310\")\n",
    "# FME = FME.loc[FME['통계항목코드1'] == 'FME'].loc[FME['통계항목코드2'] == '99988']\n",
    "# FME = FME[['시점', '값']].rename(columns = {'값':'소비자심리지수'})"
   ]
  },
  {
   "cell_type": "code",
   "execution_count": 393,
   "id": "fe53f631",
   "metadata": {},
   "outputs": [],
   "source": [
    "# FME"
   ]
  },
  {
   "cell_type": "markdown",
   "id": "3c96111c",
   "metadata": {},
   "source": [
    "- Droped AM 수출실적"
   ]
  },
  {
   "cell_type": "code",
   "execution_count": 394,
   "id": "4e9fb653",
   "metadata": {},
   "outputs": [],
   "source": [
    "# X1 = ecos.get_statistic_search(통계표코드='512Y013', 주기=\"M\", 검색시작일자=\"200212\", 검색종료일자=\"202310\")"
   ]
  },
  {
   "cell_type": "code",
   "execution_count": 395,
   "id": "ffd4ab04",
   "metadata": {},
   "outputs": [],
   "source": [
    "# AM = X1.loc[X1['통계항목코드1'] == 'X8000'].loc[X1['통계항목코드2'] == 'AM']\n",
    "# AM = AM[['시점', '값']].rename(columns = {'값':'수출실적'})\n",
    "# AM"
   ]
  },
  {
   "cell_type": "markdown",
   "id": "da02d090",
   "metadata": {},
   "source": [
    "- AN 원자재구입가격실적"
   ]
  },
  {
   "cell_type": "code",
   "execution_count": 396,
   "id": "5c60937f",
   "metadata": {},
   "outputs": [],
   "source": [
    "AN = X1.loc[X1['통계항목코드1'] == 'X8000'].loc[X1['통계항목코드2'] == 'AN']\n",
    "AN = AN[['시점', '값']].rename(columns = {'값':'원자재구입가격실적'})"
   ]
  },
  {
   "cell_type": "code",
   "execution_count": 397,
   "id": "856a22ba",
   "metadata": {},
   "outputs": [
    {
     "data": {
      "text/html": [
       "<div>\n",
       "<style scoped>\n",
       "    .dataframe tbody tr th:only-of-type {\n",
       "        vertical-align: middle;\n",
       "    }\n",
       "\n",
       "    .dataframe tbody tr th {\n",
       "        vertical-align: top;\n",
       "    }\n",
       "\n",
       "    .dataframe thead th {\n",
       "        text-align: right;\n",
       "    }\n",
       "</style>\n",
       "<table border=\"1\" class=\"dataframe\">\n",
       "  <thead>\n",
       "    <tr style=\"text-align: right;\">\n",
       "      <th></th>\n",
       "      <th>시점</th>\n",
       "      <th>원자재구입가격실적</th>\n",
       "    </tr>\n",
       "  </thead>\n",
       "  <tbody>\n",
       "    <tr>\n",
       "      <th>114</th>\n",
       "      <td>200301</td>\n",
       "      <td>119</td>\n",
       "    </tr>\n",
       "    <tr>\n",
       "      <th>146</th>\n",
       "      <td>200302</td>\n",
       "      <td>126</td>\n",
       "    </tr>\n",
       "    <tr>\n",
       "      <th>263</th>\n",
       "      <td>200303</td>\n",
       "      <td>137</td>\n",
       "    </tr>\n",
       "    <tr>\n",
       "      <th>435</th>\n",
       "      <td>200304</td>\n",
       "      <td>118</td>\n",
       "    </tr>\n",
       "    <tr>\n",
       "      <th>548</th>\n",
       "      <td>200305</td>\n",
       "      <td>110</td>\n",
       "    </tr>\n",
       "    <tr>\n",
       "      <th>...</th>\n",
       "      <td>...</td>\n",
       "      <td>...</td>\n",
       "    </tr>\n",
       "    <tr>\n",
       "      <th>29373</th>\n",
       "      <td>202305</td>\n",
       "      <td>104</td>\n",
       "    </tr>\n",
       "    <tr>\n",
       "      <th>29589</th>\n",
       "      <td>202306</td>\n",
       "      <td>110</td>\n",
       "    </tr>\n",
       "    <tr>\n",
       "      <th>29732</th>\n",
       "      <td>202307</td>\n",
       "      <td>103</td>\n",
       "    </tr>\n",
       "    <tr>\n",
       "      <th>29783</th>\n",
       "      <td>202308</td>\n",
       "      <td>103</td>\n",
       "    </tr>\n",
       "    <tr>\n",
       "      <th>29874</th>\n",
       "      <td>202309</td>\n",
       "      <td>113</td>\n",
       "    </tr>\n",
       "  </tbody>\n",
       "</table>\n",
       "<p>249 rows × 2 columns</p>\n",
       "</div>"
      ],
      "text/plain": [
       "           시점 원자재구입가격실적\n",
       "114    200301       119\n",
       "146    200302       126\n",
       "263    200303       137\n",
       "435    200304       118\n",
       "548    200305       110\n",
       "...       ...       ...\n",
       "29373  202305       104\n",
       "29589  202306       110\n",
       "29732  202307       103\n",
       "29783  202308       103\n",
       "29874  202309       113\n",
       "\n",
       "[249 rows x 2 columns]"
      ]
     },
     "execution_count": 397,
     "metadata": {},
     "output_type": "execute_result"
    }
   ],
   "source": [
    "AN"
   ]
  },
  {
   "cell_type": "markdown",
   "id": "3754f06c",
   "metadata": {},
   "source": [
    "- Droped BM 수출전망"
   ]
  },
  {
   "cell_type": "code",
   "execution_count": 398,
   "id": "91152ef8",
   "metadata": {},
   "outputs": [],
   "source": [
    "# X2 = ecos.get_statistic_search(통계표코드='512Y014', 주기=\"M\", 검색시작일자=\"200212\", 검색종료일자=\"202310\")"
   ]
  },
  {
   "cell_type": "code",
   "execution_count": 399,
   "id": "0c72da59",
   "metadata": {},
   "outputs": [],
   "source": [
    "# BM = X2.loc[X2['통계항목코드1'] == 'X8000'].loc[X2['통계항목코드2'] == 'BM'][['시점', '값']].rename(columns = {'값':'수출전망'})\n"
   ]
  },
  {
   "cell_type": "code",
   "execution_count": 400,
   "id": "51a1c171",
   "metadata": {},
   "outputs": [],
   "source": [
    "# BM"
   ]
  },
  {
   "cell_type": "markdown",
   "id": "d8905712",
   "metadata": {},
   "source": [
    "- Droped BN 원자재구입가격전망"
   ]
  },
  {
   "cell_type": "code",
   "execution_count": 401,
   "id": "21ffbe37",
   "metadata": {},
   "outputs": [],
   "source": [
    "# BN = X2.loc[X2['통계항목코드1'] == 'X8000'].loc[X2['통계항목코드2'] == 'BN'][['시점', '값']].rename(columns = {'값':'원자재구입가격전망'})"
   ]
  },
  {
   "cell_type": "code",
   "execution_count": 402,
   "id": "af352f15",
   "metadata": {},
   "outputs": [],
   "source": [
    "# BN"
   ]
  },
  {
   "cell_type": "markdown",
   "id": "a0be77ba",
   "metadata": {},
   "source": [
    "- KOM2 M2(말잔, 원계열)"
   ]
  },
  {
   "cell_type": "code",
   "execution_count": 403,
   "id": "f50aa02e",
   "metadata": {},
   "outputs": [],
   "source": [
    "KOM2 = ecos.get_statistic_search(통계표코드='101Y002', 주기=\"M\", 검색시작일자=\"200212\", 검색종료일자=\"202310\")"
   ]
  },
  {
   "cell_type": "code",
   "execution_count": 404,
   "id": "0180ef74",
   "metadata": {},
   "outputs": [],
   "source": [
    "KOM2 = KOM2.loc[KOM2['통계항목코드1'] == 'BBGA00'][['시점', '값']].rename(columns = {'값':'M2(말잔, 원계열)'})"
   ]
  },
  {
   "cell_type": "code",
   "execution_count": 405,
   "id": "63c4bf47",
   "metadata": {},
   "outputs": [
    {
     "data": {
      "text/html": [
       "<div>\n",
       "<style scoped>\n",
       "    .dataframe tbody tr th:only-of-type {\n",
       "        vertical-align: middle;\n",
       "    }\n",
       "\n",
       "    .dataframe tbody tr th {\n",
       "        vertical-align: top;\n",
       "    }\n",
       "\n",
       "    .dataframe thead th {\n",
       "        text-align: right;\n",
       "    }\n",
       "</style>\n",
       "<table border=\"1\" class=\"dataframe\">\n",
       "  <thead>\n",
       "    <tr style=\"text-align: right;\">\n",
       "      <th></th>\n",
       "      <th>시점</th>\n",
       "      <th>M2(말잔, 원계열)</th>\n",
       "    </tr>\n",
       "  </thead>\n",
       "  <tbody>\n",
       "    <tr>\n",
       "      <th>14</th>\n",
       "      <td>200212</td>\n",
       "      <td>872075.6</td>\n",
       "    </tr>\n",
       "    <tr>\n",
       "      <th>30</th>\n",
       "      <td>200301</td>\n",
       "      <td>880756.1</td>\n",
       "    </tr>\n",
       "    <tr>\n",
       "      <th>45</th>\n",
       "      <td>200302</td>\n",
       "      <td>886044.7</td>\n",
       "    </tr>\n",
       "    <tr>\n",
       "      <th>50</th>\n",
       "      <td>200303</td>\n",
       "      <td>887799</td>\n",
       "    </tr>\n",
       "    <tr>\n",
       "      <th>70</th>\n",
       "      <td>200304</td>\n",
       "      <td>881195.8</td>\n",
       "    </tr>\n",
       "    <tr>\n",
       "      <th>...</th>\n",
       "      <td>...</td>\n",
       "      <td>...</td>\n",
       "    </tr>\n",
       "    <tr>\n",
       "      <th>3901</th>\n",
       "      <td>202303</td>\n",
       "      <td>3776930.1</td>\n",
       "    </tr>\n",
       "    <tr>\n",
       "      <th>3906</th>\n",
       "      <td>202304</td>\n",
       "      <td>3773397.2</td>\n",
       "    </tr>\n",
       "    <tr>\n",
       "      <th>3934</th>\n",
       "      <td>202305</td>\n",
       "      <td>3777762.1</td>\n",
       "    </tr>\n",
       "    <tr>\n",
       "      <th>3948</th>\n",
       "      <td>202306</td>\n",
       "      <td>3808194.2</td>\n",
       "    </tr>\n",
       "    <tr>\n",
       "      <th>3952</th>\n",
       "      <td>202307</td>\n",
       "      <td>3788168.8</td>\n",
       "    </tr>\n",
       "  </tbody>\n",
       "</table>\n",
       "<p>248 rows × 2 columns</p>\n",
       "</div>"
      ],
      "text/plain": [
       "          시점 M2(말잔, 원계열)\n",
       "14    200212    872075.6\n",
       "30    200301    880756.1\n",
       "45    200302    886044.7\n",
       "50    200303      887799\n",
       "70    200304    881195.8\n",
       "...      ...         ...\n",
       "3901  202303   3776930.1\n",
       "3906  202304   3773397.2\n",
       "3934  202305   3777762.1\n",
       "3948  202306   3808194.2\n",
       "3952  202307   3788168.8\n",
       "\n",
       "[248 rows x 2 columns]"
      ]
     },
     "execution_count": 405,
     "metadata": {},
     "output_type": "execute_result"
    }
   ],
   "source": [
    "KOM2"
   ]
  },
  {
   "cell_type": "markdown",
   "id": "c3b08556",
   "metadata": {},
   "source": [
    "- M2NS 미국M2(말잔)"
   ]
  },
  {
   "cell_type": "code",
   "execution_count": 406,
   "id": "de011bbd",
   "metadata": {},
   "outputs": [],
   "source": [
    "from PublicDataReader import Fred\n",
    "# FRED API 키\n",
    "fred_api_key = \"84b09e605b74ea1c8d9d0c0de14920b2\"\n",
    "# 인스턴스 생성하기\n",
    "fred = Fred(fred_api_key)"
   ]
  },
  {
   "cell_type": "code",
   "execution_count": 407,
   "id": "71f3ad98",
   "metadata": {},
   "outputs": [
    {
     "data": {
      "text/html": [
       "<div>\n",
       "<style scoped>\n",
       "    .dataframe tbody tr th:only-of-type {\n",
       "        vertical-align: middle;\n",
       "    }\n",
       "\n",
       "    .dataframe tbody tr th {\n",
       "        vertical-align: top;\n",
       "    }\n",
       "\n",
       "    .dataframe thead th {\n",
       "        text-align: right;\n",
       "    }\n",
       "</style>\n",
       "<table border=\"1\" class=\"dataframe\">\n",
       "  <thead>\n",
       "    <tr style=\"text-align: right;\">\n",
       "      <th></th>\n",
       "      <th>id</th>\n",
       "      <th>realtime_start</th>\n",
       "      <th>realtime_end</th>\n",
       "      <th>title</th>\n",
       "      <th>observation_start</th>\n",
       "      <th>observation_end</th>\n",
       "      <th>frequency</th>\n",
       "      <th>frequency_short</th>\n",
       "      <th>units</th>\n",
       "      <th>units_short</th>\n",
       "      <th>seasonal_adjustment</th>\n",
       "      <th>seasonal_adjustment_short</th>\n",
       "      <th>last_updated</th>\n",
       "      <th>popularity</th>\n",
       "      <th>group_popularity</th>\n",
       "      <th>notes</th>\n",
       "    </tr>\n",
       "  </thead>\n",
       "  <tbody>\n",
       "    <tr>\n",
       "      <th>1</th>\n",
       "      <td>CPIAUCNS</td>\n",
       "      <td>2023-10-10</td>\n",
       "      <td>2023-10-10</td>\n",
       "      <td>Consumer Price Index for All Urban Consumers: ...</td>\n",
       "      <td>1913-01-01</td>\n",
       "      <td>2023-08-01</td>\n",
       "      <td>Monthly</td>\n",
       "      <td>M</td>\n",
       "      <td>Index 1982-1984=100</td>\n",
       "      <td>Index 1982-1984=100</td>\n",
       "      <td>Not Seasonally Adjusted</td>\n",
       "      <td>NSA</td>\n",
       "      <td>2023-09-13 07:42:02-05</td>\n",
       "      <td>72</td>\n",
       "      <td>94</td>\n",
       "      <td>Handbook of Methods (https://www.bls.gov/opub/...</td>\n",
       "    </tr>\n",
       "  </tbody>\n",
       "</table>\n",
       "</div>"
      ],
      "text/plain": [
       "         id realtime_start realtime_end  \\\n",
       "1  CPIAUCNS     2023-10-10   2023-10-10   \n",
       "\n",
       "                                               title observation_start  \\\n",
       "1  Consumer Price Index for All Urban Consumers: ...        1913-01-01   \n",
       "\n",
       "  observation_end frequency frequency_short                units  \\\n",
       "1      2023-08-01   Monthly               M  Index 1982-1984=100   \n",
       "\n",
       "           units_short      seasonal_adjustment seasonal_adjustment_short  \\\n",
       "1  Index 1982-1984=100  Not Seasonally Adjusted                       NSA   \n",
       "\n",
       "             last_updated  popularity  group_popularity  \\\n",
       "1  2023-09-13 07:42:02-05          72                94   \n",
       "\n",
       "                                               notes  \n",
       "1  Handbook of Methods (https://www.bls.gov/opub/...  "
      ]
     },
     "execution_count": 407,
     "metadata": {},
     "output_type": "execute_result"
    }
   ],
   "source": [
    "search_text = \"consumer price index\"\n",
    "result = fred.get_data(api_name=\"series_search\", search_text=search_text)\n",
    "result.loc[result['id'] == \"CPIAUCNS\"]"
   ]
  },
  {
   "cell_type": "code",
   "execution_count": 408,
   "id": "0ea56be8",
   "metadata": {},
   "outputs": [
    {
     "data": {
      "text/html": [
       "<div>\n",
       "<style scoped>\n",
       "    .dataframe tbody tr th:only-of-type {\n",
       "        vertical-align: middle;\n",
       "    }\n",
       "\n",
       "    .dataframe tbody tr th {\n",
       "        vertical-align: top;\n",
       "    }\n",
       "\n",
       "    .dataframe thead th {\n",
       "        text-align: right;\n",
       "    }\n",
       "</style>\n",
       "<table border=\"1\" class=\"dataframe\">\n",
       "  <thead>\n",
       "    <tr style=\"text-align: right;\">\n",
       "      <th></th>\n",
       "      <th>realtime_start</th>\n",
       "      <th>realtime_end</th>\n",
       "      <th>date</th>\n",
       "      <th>value</th>\n",
       "    </tr>\n",
       "  </thead>\n",
       "  <tbody>\n",
       "    <tr>\n",
       "      <th>771</th>\n",
       "      <td>2023-10-10</td>\n",
       "      <td>2023-10-10</td>\n",
       "      <td>2023-04-01</td>\n",
       "      <td>20865.9</td>\n",
       "    </tr>\n",
       "    <tr>\n",
       "      <th>772</th>\n",
       "      <td>2023-10-10</td>\n",
       "      <td>2023-10-10</td>\n",
       "      <td>2023-05-01</td>\n",
       "      <td>20749.1</td>\n",
       "    </tr>\n",
       "    <tr>\n",
       "      <th>773</th>\n",
       "      <td>2023-10-10</td>\n",
       "      <td>2023-10-10</td>\n",
       "      <td>2023-06-01</td>\n",
       "      <td>20802.6</td>\n",
       "    </tr>\n",
       "    <tr>\n",
       "      <th>774</th>\n",
       "      <td>2023-10-10</td>\n",
       "      <td>2023-10-10</td>\n",
       "      <td>2023-07-01</td>\n",
       "      <td>20786.2</td>\n",
       "    </tr>\n",
       "    <tr>\n",
       "      <th>775</th>\n",
       "      <td>2023-10-10</td>\n",
       "      <td>2023-10-10</td>\n",
       "      <td>2023-08-01</td>\n",
       "      <td>20760.3</td>\n",
       "    </tr>\n",
       "  </tbody>\n",
       "</table>\n",
       "</div>"
      ],
      "text/plain": [
       "    realtime_start realtime_end        date    value\n",
       "771     2023-10-10   2023-10-10  2023-04-01  20865.9\n",
       "772     2023-10-10   2023-10-10  2023-05-01  20749.1\n",
       "773     2023-10-10   2023-10-10  2023-06-01  20802.6\n",
       "774     2023-10-10   2023-10-10  2023-07-01  20786.2\n",
       "775     2023-10-10   2023-10-10  2023-08-01  20760.3"
      ]
     },
     "execution_count": 408,
     "metadata": {},
     "output_type": "execute_result"
    }
   ],
   "source": [
    "# 시리즈 ID 값\n",
    "series_id = \"M2NS\"\n",
    "# 시리즈 데이터 조회\n",
    "M2NS = fred.get_data(api_name=\"series_observations\", series_id=series_id)\n",
    "M2NS.tail()"
   ]
  },
  {
   "cell_type": "code",
   "execution_count": 409,
   "id": "3b17cdfd",
   "metadata": {},
   "outputs": [],
   "source": [
    "M2NS = M2NS[['date', 'value']].rename(columns={'date':'시점', 'value':'미국M2'})"
   ]
  },
  {
   "cell_type": "code",
   "execution_count": 410,
   "id": "7e0fc1fb",
   "metadata": {},
   "outputs": [
    {
     "data": {
      "text/html": [
       "<div>\n",
       "<style scoped>\n",
       "    .dataframe tbody tr th:only-of-type {\n",
       "        vertical-align: middle;\n",
       "    }\n",
       "\n",
       "    .dataframe tbody tr th {\n",
       "        vertical-align: top;\n",
       "    }\n",
       "\n",
       "    .dataframe thead th {\n",
       "        text-align: right;\n",
       "    }\n",
       "</style>\n",
       "<table border=\"1\" class=\"dataframe\">\n",
       "  <thead>\n",
       "    <tr style=\"text-align: right;\">\n",
       "      <th></th>\n",
       "      <th>시점</th>\n",
       "      <th>미국M2</th>\n",
       "    </tr>\n",
       "  </thead>\n",
       "  <tbody>\n",
       "    <tr>\n",
       "      <th>0</th>\n",
       "      <td>1959-01-01</td>\n",
       "      <td>289.8</td>\n",
       "    </tr>\n",
       "    <tr>\n",
       "      <th>1</th>\n",
       "      <td>1959-02-01</td>\n",
       "      <td>287.7</td>\n",
       "    </tr>\n",
       "    <tr>\n",
       "      <th>2</th>\n",
       "      <td>1959-03-01</td>\n",
       "      <td>287.9</td>\n",
       "    </tr>\n",
       "    <tr>\n",
       "      <th>3</th>\n",
       "      <td>1959-04-01</td>\n",
       "      <td>290.2</td>\n",
       "    </tr>\n",
       "    <tr>\n",
       "      <th>4</th>\n",
       "      <td>1959-05-01</td>\n",
       "      <td>290.2</td>\n",
       "    </tr>\n",
       "    <tr>\n",
       "      <th>...</th>\n",
       "      <td>...</td>\n",
       "      <td>...</td>\n",
       "    </tr>\n",
       "    <tr>\n",
       "      <th>771</th>\n",
       "      <td>2023-04-01</td>\n",
       "      <td>20865.9</td>\n",
       "    </tr>\n",
       "    <tr>\n",
       "      <th>772</th>\n",
       "      <td>2023-05-01</td>\n",
       "      <td>20749.1</td>\n",
       "    </tr>\n",
       "    <tr>\n",
       "      <th>773</th>\n",
       "      <td>2023-06-01</td>\n",
       "      <td>20802.6</td>\n",
       "    </tr>\n",
       "    <tr>\n",
       "      <th>774</th>\n",
       "      <td>2023-07-01</td>\n",
       "      <td>20786.2</td>\n",
       "    </tr>\n",
       "    <tr>\n",
       "      <th>775</th>\n",
       "      <td>2023-08-01</td>\n",
       "      <td>20760.3</td>\n",
       "    </tr>\n",
       "  </tbody>\n",
       "</table>\n",
       "<p>776 rows × 2 columns</p>\n",
       "</div>"
      ],
      "text/plain": [
       "             시점     미국M2\n",
       "0    1959-01-01    289.8\n",
       "1    1959-02-01    287.7\n",
       "2    1959-03-01    287.9\n",
       "3    1959-04-01    290.2\n",
       "4    1959-05-01    290.2\n",
       "..          ...      ...\n",
       "771  2023-04-01  20865.9\n",
       "772  2023-05-01  20749.1\n",
       "773  2023-06-01  20802.6\n",
       "774  2023-07-01  20786.2\n",
       "775  2023-08-01  20760.3\n",
       "\n",
       "[776 rows x 2 columns]"
      ]
     },
     "execution_count": 410,
     "metadata": {},
     "output_type": "execute_result"
    }
   ],
   "source": [
    "M2NS"
   ]
  },
  {
   "cell_type": "markdown",
   "id": "2bcb0468",
   "metadata": {},
   "source": [
    "- USBIR 미국 기준금리"
   ]
  },
  {
   "cell_type": "code",
   "execution_count": 411,
   "id": "34d06ac3",
   "metadata": {},
   "outputs": [],
   "source": [
    "USBIR = ecos.get_statistic_search(통계표코드='902Y006', 주기=\"M\", 검색시작일자=\"200212\", 검색종료일자=\"202310\")"
   ]
  },
  {
   "cell_type": "code",
   "execution_count": 412,
   "id": "f10ddc05",
   "metadata": {},
   "outputs": [],
   "source": [
    "USBIR = USBIR.loc[USBIR['통계항목코드1'] == 'US'][['시점', '값']].rename(columns = {'값':'USBIR'})"
   ]
  },
  {
   "cell_type": "markdown",
   "id": "e85ed35d",
   "metadata": {},
   "source": [
    "- KOBIR 한국 기준금리"
   ]
  },
  {
   "cell_type": "code",
   "execution_count": 413,
   "id": "eb4646ee",
   "metadata": {},
   "outputs": [],
   "source": [
    "KOBIR = ecos.get_statistic_search(통계표코드='902Y006', 주기=\"M\", 검색시작일자=\"200212\", 검색종료일자=\"202310\")"
   ]
  },
  {
   "cell_type": "code",
   "execution_count": 414,
   "id": "2b5b3a1d",
   "metadata": {},
   "outputs": [],
   "source": [
    "KOBIR = KOBIR.loc[KOBIR['통계항목코드1'] == 'KR'][['시점', '값']].rename(columns = {'값':'KOBIR'})"
   ]
  },
  {
   "cell_type": "markdown",
   "id": "a1c3bdb7",
   "metadata": {},
   "source": [
    "- KOTN 한국 10년물 국채수익률"
   ]
  },
  {
   "cell_type": "code",
   "execution_count": 415,
   "id": "d21ca316",
   "metadata": {},
   "outputs": [],
   "source": [
    "# 한국 30년 국채수익률이 2013년부터 이므로 데이터가 적으니 10년물로 한다\n",
    "# 10년물은 2000년부터 데이터가 있다."
   ]
  },
  {
   "cell_type": "code",
   "execution_count": 416,
   "id": "7a050bc1",
   "metadata": {},
   "outputs": [],
   "source": [
    "KOTN = ecos.get_statistic_search(통계표코드='721Y001', 주기=\"M\", 검색시작일자=\"200212\", 검색종료일자=\"202310\")"
   ]
  },
  {
   "cell_type": "code",
   "execution_count": 417,
   "id": "bf0b7d5a",
   "metadata": {},
   "outputs": [],
   "source": [
    "KOTN = KOTN.loc[KOTN['통계항목코드1'] == '5050000'][['시점', '값']].rename(columns = {'값':'KOTN'})"
   ]
  },
  {
   "cell_type": "markdown",
   "id": "99f9a564",
   "metadata": {},
   "source": [
    "- USTN 미국 10년물 국채수익률"
   ]
  },
  {
   "cell_type": "code",
   "execution_count": 418,
   "id": "824f116d",
   "metadata": {},
   "outputs": [],
   "source": [
    "USTN = ecos.get_statistic_search(통계표코드='902Y001', 주기=\"M\", 검색시작일자=\"200212\", 검색종료일자=\"202310\")"
   ]
  },
  {
   "cell_type": "code",
   "execution_count": 419,
   "id": "658f148c",
   "metadata": {},
   "outputs": [],
   "source": [
    "USTN = USTN.loc[USTN['통계항목코드1'] == '1020403'][['시점', '값']].rename(columns = {'값':'USTN'})"
   ]
  },
  {
   "cell_type": "code",
   "execution_count": 420,
   "id": "338f91c8",
   "metadata": {},
   "outputs": [
    {
     "data": {
      "text/html": [
       "<div>\n",
       "<style scoped>\n",
       "    .dataframe tbody tr th:only-of-type {\n",
       "        vertical-align: middle;\n",
       "    }\n",
       "\n",
       "    .dataframe tbody tr th {\n",
       "        vertical-align: top;\n",
       "    }\n",
       "\n",
       "    .dataframe thead th {\n",
       "        text-align: right;\n",
       "    }\n",
       "</style>\n",
       "<table border=\"1\" class=\"dataframe\">\n",
       "  <thead>\n",
       "    <tr style=\"text-align: right;\">\n",
       "      <th></th>\n",
       "      <th>시점</th>\n",
       "      <th>USTN</th>\n",
       "    </tr>\n",
       "  </thead>\n",
       "  <tbody>\n",
       "    <tr>\n",
       "      <th>981</th>\n",
       "      <td>200212</td>\n",
       "      <td>3.816</td>\n",
       "    </tr>\n",
       "    <tr>\n",
       "      <th>982</th>\n",
       "      <td>200301</td>\n",
       "      <td>3.962</td>\n",
       "    </tr>\n",
       "    <tr>\n",
       "      <th>983</th>\n",
       "      <td>200302</td>\n",
       "      <td>3.69</td>\n",
       "    </tr>\n",
       "    <tr>\n",
       "      <th>984</th>\n",
       "      <td>200303</td>\n",
       "      <td>3.796</td>\n",
       "    </tr>\n",
       "    <tr>\n",
       "      <th>985</th>\n",
       "      <td>200304</td>\n",
       "      <td>3.836</td>\n",
       "    </tr>\n",
       "    <tr>\n",
       "      <th>...</th>\n",
       "      <td>...</td>\n",
       "      <td>...</td>\n",
       "    </tr>\n",
       "    <tr>\n",
       "      <th>1226</th>\n",
       "      <td>202305</td>\n",
       "      <td>3.643</td>\n",
       "    </tr>\n",
       "    <tr>\n",
       "      <th>1227</th>\n",
       "      <td>202306</td>\n",
       "      <td>3.837</td>\n",
       "    </tr>\n",
       "    <tr>\n",
       "      <th>1228</th>\n",
       "      <td>202307</td>\n",
       "      <td>3.959</td>\n",
       "    </tr>\n",
       "    <tr>\n",
       "      <th>1229</th>\n",
       "      <td>202308</td>\n",
       "      <td>4.108</td>\n",
       "    </tr>\n",
       "    <tr>\n",
       "      <th>1230</th>\n",
       "      <td>202309</td>\n",
       "      <td>4.571</td>\n",
       "    </tr>\n",
       "  </tbody>\n",
       "</table>\n",
       "<p>250 rows × 2 columns</p>\n",
       "</div>"
      ],
      "text/plain": [
       "          시점   USTN\n",
       "981   200212  3.816\n",
       "982   200301  3.962\n",
       "983   200302   3.69\n",
       "984   200303  3.796\n",
       "985   200304  3.836\n",
       "...      ...    ...\n",
       "1226  202305  3.643\n",
       "1227  202306  3.837\n",
       "1228  202307  3.959\n",
       "1229  202308  4.108\n",
       "1230  202309  4.571\n",
       "\n",
       "[250 rows x 2 columns]"
      ]
     },
     "execution_count": 420,
     "metadata": {},
     "output_type": "execute_result"
    }
   ],
   "source": [
    "USTN"
   ]
  },
  {
   "cell_type": "markdown",
   "id": "d4589b5f",
   "metadata": {},
   "source": [
    "- Droped KORIBOR 한국 RIBOR 금리"
   ]
  },
  {
   "cell_type": "code",
   "execution_count": 421,
   "id": "8f5f908b",
   "metadata": {},
   "outputs": [],
   "source": [
    "# KORIBOR=ecos.get_statistic_search(통계표코드='902Y001', 주기=\"M\", 검색시작일자=\"200212\", 검색종료일자=\"202310\")"
   ]
  },
  {
   "cell_type": "code",
   "execution_count": 422,
   "id": "3303e038",
   "metadata": {},
   "outputs": [],
   "source": [
    "# KORIBOR = KORIBOR.loc[KORIBOR['통계항목코드1'] == '1010205'][['시점', '값']].rename(columns = {'값':'KORIBOR'})"
   ]
  },
  {
   "cell_type": "markdown",
   "id": "a4a7c6b0",
   "metadata": {},
   "source": [
    "- Droped USROBOR 미국 RIBOR 금리"
   ]
  },
  {
   "cell_type": "code",
   "execution_count": 423,
   "id": "a0bc9f56",
   "metadata": {},
   "outputs": [],
   "source": [
    "# USRIBOR = ecos.get_statistic_search(통계표코드='902Y001', 주기=\"M\", 검색시작일자=\"200212\", 검색종료일자=\"202310\")"
   ]
  },
  {
   "cell_type": "code",
   "execution_count": 424,
   "id": "3435dd46",
   "metadata": {},
   "outputs": [],
   "source": [
    "# USRIBOR = USRIBOR.loc[USRIBOR['통계항목코드1'] == '1030401'][['시점', '값']].rename(columns = {'값':'USRIBOR'})"
   ]
  },
  {
   "cell_type": "code",
   "execution_count": 425,
   "id": "41db6b19",
   "metadata": {},
   "outputs": [],
   "source": [
    "# USRIBOR"
   ]
  },
  {
   "cell_type": "markdown",
   "id": "b619b207",
   "metadata": {},
   "source": [
    "- REGEXTOTUSD 달러결제수출금액"
   ]
  },
  {
   "cell_type": "code",
   "execution_count": 426,
   "id": "1896f17f",
   "metadata": {},
   "outputs": [],
   "source": [
    "REGEXTOTUSD = ecos.get_statistic_search(통계표코드='303Y001', 주기=\"M\", 검색시작일자=\"200212\", 검색종료일자=\"202310\")"
   ]
  },
  {
   "cell_type": "code",
   "execution_count": 427,
   "id": "5ecd0b5c",
   "metadata": {},
   "outputs": [],
   "source": [
    "# REGEXTOTUSD = \n",
    "REGEXTOTUSD = REGEXTOTUSD.loc[REGEXTOTUSD['통계항목코드1'] == 'REGEXTOTUSD'].loc[REGEXTOTUSD['통계항목코드2'] == 'AMT'][['시점', '값']].rename(columns = {'값':'달러결제수출금액'})"
   ]
  },
  {
   "cell_type": "code",
   "execution_count": 428,
   "id": "72be25ee",
   "metadata": {},
   "outputs": [
    {
     "data": {
      "text/html": [
       "<div>\n",
       "<style scoped>\n",
       "    .dataframe tbody tr th:only-of-type {\n",
       "        vertical-align: middle;\n",
       "    }\n",
       "\n",
       "    .dataframe tbody tr th {\n",
       "        vertical-align: top;\n",
       "    }\n",
       "\n",
       "    .dataframe thead th {\n",
       "        text-align: right;\n",
       "    }\n",
       "</style>\n",
       "<table border=\"1\" class=\"dataframe\">\n",
       "  <thead>\n",
       "    <tr style=\"text-align: right;\">\n",
       "      <th></th>\n",
       "      <th>시점</th>\n",
       "      <th>달러결제수출금액</th>\n",
       "    </tr>\n",
       "  </thead>\n",
       "  <tbody>\n",
       "    <tr>\n",
       "      <th>85</th>\n",
       "      <td>200212</td>\n",
       "      <td>13006.3</td>\n",
       "    </tr>\n",
       "    <tr>\n",
       "      <th>229</th>\n",
       "      <td>200301</td>\n",
       "      <td>12274.1</td>\n",
       "    </tr>\n",
       "    <tr>\n",
       "      <th>271</th>\n",
       "      <td>200302</td>\n",
       "      <td>11373.2</td>\n",
       "    </tr>\n",
       "    <tr>\n",
       "      <th>430</th>\n",
       "      <td>200303</td>\n",
       "      <td>13201.6</td>\n",
       "    </tr>\n",
       "    <tr>\n",
       "      <th>558</th>\n",
       "      <td>200304</td>\n",
       "      <td>13417.3</td>\n",
       "    </tr>\n",
       "    <tr>\n",
       "      <th>...</th>\n",
       "      <td>...</td>\n",
       "      <td>...</td>\n",
       "    </tr>\n",
       "    <tr>\n",
       "      <th>34922</th>\n",
       "      <td>202208</td>\n",
       "      <td>48689.5</td>\n",
       "    </tr>\n",
       "    <tr>\n",
       "      <th>35008</th>\n",
       "      <td>202209</td>\n",
       "      <td>48955.1</td>\n",
       "    </tr>\n",
       "    <tr>\n",
       "      <th>35260</th>\n",
       "      <td>202210</td>\n",
       "      <td>44748.6</td>\n",
       "    </tr>\n",
       "    <tr>\n",
       "      <th>35323</th>\n",
       "      <td>202211</td>\n",
       "      <td>43660.8</td>\n",
       "    </tr>\n",
       "    <tr>\n",
       "      <th>35563</th>\n",
       "      <td>202212</td>\n",
       "      <td>45861.6</td>\n",
       "    </tr>\n",
       "  </tbody>\n",
       "</table>\n",
       "<p>241 rows × 2 columns</p>\n",
       "</div>"
      ],
      "text/plain": [
       "           시점 달러결제수출금액\n",
       "85     200212  13006.3\n",
       "229    200301  12274.1\n",
       "271    200302  11373.2\n",
       "430    200303  13201.6\n",
       "558    200304  13417.3\n",
       "...       ...      ...\n",
       "34922  202208  48689.5\n",
       "35008  202209  48955.1\n",
       "35260  202210  44748.6\n",
       "35323  202211  43660.8\n",
       "35563  202212  45861.6\n",
       "\n",
       "[241 rows x 2 columns]"
      ]
     },
     "execution_count": 428,
     "metadata": {},
     "output_type": "execute_result"
    }
   ],
   "source": [
    "REGEXTOTUSD"
   ]
  },
  {
   "cell_type": "markdown",
   "id": "f38f8126",
   "metadata": {},
   "source": [
    "- REGIMTOTUSD 달러결제수입금액"
   ]
  },
  {
   "cell_type": "code",
   "execution_count": 429,
   "id": "ec93ac73",
   "metadata": {},
   "outputs": [],
   "source": [
    "REGIMTOTUSD = ecos.get_statistic_search(통계표코드='303Y004', 주기=\"M\", 검색시작일자=\"200212\", 검색종료일자=\"202310\")"
   ]
  },
  {
   "cell_type": "code",
   "execution_count": 430,
   "id": "56fc59dd",
   "metadata": {},
   "outputs": [],
   "source": [
    "REGIMTOTUSD = REGIMTOTUSD.loc[REGIMTOTUSD['통계항목코드1'] == 'REGIMTOTUSD'].loc[REGIMTOTUSD['통계항목코드2'] == 'AMT'][['시점', '값']].rename(columns = {'값':'달러결제수입금액'})"
   ]
  },
  {
   "cell_type": "code",
   "execution_count": 431,
   "id": "1d67514f",
   "metadata": {},
   "outputs": [
    {
     "data": {
      "text/html": [
       "<div>\n",
       "<style scoped>\n",
       "    .dataframe tbody tr th:only-of-type {\n",
       "        vertical-align: middle;\n",
       "    }\n",
       "\n",
       "    .dataframe tbody tr th {\n",
       "        vertical-align: top;\n",
       "    }\n",
       "\n",
       "    .dataframe thead th {\n",
       "        text-align: right;\n",
       "    }\n",
       "</style>\n",
       "<table border=\"1\" class=\"dataframe\">\n",
       "  <thead>\n",
       "    <tr style=\"text-align: right;\">\n",
       "      <th></th>\n",
       "      <th>시점</th>\n",
       "      <th>달러결제수입금액</th>\n",
       "    </tr>\n",
       "  </thead>\n",
       "  <tbody>\n",
       "    <tr>\n",
       "      <th>55</th>\n",
       "      <td>200212</td>\n",
       "      <td>11063.3</td>\n",
       "    </tr>\n",
       "    <tr>\n",
       "      <th>202</th>\n",
       "      <td>200301</td>\n",
       "      <td>11545.6</td>\n",
       "    </tr>\n",
       "    <tr>\n",
       "      <th>338</th>\n",
       "      <td>200302</td>\n",
       "      <td>10549.5</td>\n",
       "    </tr>\n",
       "    <tr>\n",
       "      <th>430</th>\n",
       "      <td>200303</td>\n",
       "      <td>12351.8</td>\n",
       "    </tr>\n",
       "    <tr>\n",
       "      <th>611</th>\n",
       "      <td>200304</td>\n",
       "      <td>11325.3</td>\n",
       "    </tr>\n",
       "    <tr>\n",
       "      <th>...</th>\n",
       "      <td>...</td>\n",
       "      <td>...</td>\n",
       "    </tr>\n",
       "    <tr>\n",
       "      <th>34704</th>\n",
       "      <td>202208</td>\n",
       "      <td>55181.8</td>\n",
       "    </tr>\n",
       "    <tr>\n",
       "      <th>34804</th>\n",
       "      <td>202209</td>\n",
       "      <td>51457.7</td>\n",
       "    </tr>\n",
       "    <tr>\n",
       "      <th>35053</th>\n",
       "      <td>202210</td>\n",
       "      <td>49349.4</td>\n",
       "    </tr>\n",
       "    <tr>\n",
       "      <th>35230</th>\n",
       "      <td>202211</td>\n",
       "      <td>48129</td>\n",
       "    </tr>\n",
       "    <tr>\n",
       "      <th>35338</th>\n",
       "      <td>202212</td>\n",
       "      <td>47994.5</td>\n",
       "    </tr>\n",
       "  </tbody>\n",
       "</table>\n",
       "<p>241 rows × 2 columns</p>\n",
       "</div>"
      ],
      "text/plain": [
       "           시점 달러결제수입금액\n",
       "55     200212  11063.3\n",
       "202    200301  11545.6\n",
       "338    200302  10549.5\n",
       "430    200303  12351.8\n",
       "611    200304  11325.3\n",
       "...       ...      ...\n",
       "34704  202208  55181.8\n",
       "34804  202209  51457.7\n",
       "35053  202210  49349.4\n",
       "35230  202211    48129\n",
       "35338  202212  47994.5\n",
       "\n",
       "[241 rows x 2 columns]"
      ]
     },
     "execution_count": 431,
     "metadata": {},
     "output_type": "execute_result"
    }
   ],
   "source": [
    "REGIMTOTUSD"
   ]
  },
  {
   "cell_type": "markdown",
   "id": "19584183",
   "metadata": {},
   "source": [
    "- EXUSDR 달러결제수출비율"
   ]
  },
  {
   "cell_type": "code",
   "execution_count": 432,
   "id": "e33e8949",
   "metadata": {},
   "outputs": [],
   "source": [
    "EXUSDR = ecos.get_statistic_search(통계표코드='303Y001', 주기=\"M\", 검색시작일자=\"200212\", 검색종료일자=\"202310\")"
   ]
  },
  {
   "cell_type": "code",
   "execution_count": 433,
   "id": "64028ef4",
   "metadata": {},
   "outputs": [],
   "source": [
    "EXUSDR = EXUSDR.loc[EXUSDR['통계항목코드1'] == 'REGEXTOTUSD'].loc[EXUSDR['통계항목코드2'] == 'RATIO'][['시점', '값']].rename(columns = {'값':'달러결제수출비율'})"
   ]
  },
  {
   "cell_type": "code",
   "execution_count": 434,
   "id": "533b83c4",
   "metadata": {},
   "outputs": [
    {
     "data": {
      "text/html": [
       "<div>\n",
       "<style scoped>\n",
       "    .dataframe tbody tr th:only-of-type {\n",
       "        vertical-align: middle;\n",
       "    }\n",
       "\n",
       "    .dataframe tbody tr th {\n",
       "        vertical-align: top;\n",
       "    }\n",
       "\n",
       "    .dataframe thead th {\n",
       "        text-align: right;\n",
       "    }\n",
       "</style>\n",
       "<table border=\"1\" class=\"dataframe\">\n",
       "  <thead>\n",
       "    <tr style=\"text-align: right;\">\n",
       "      <th></th>\n",
       "      <th>시점</th>\n",
       "      <th>달러결제수출비율</th>\n",
       "    </tr>\n",
       "  </thead>\n",
       "  <tbody>\n",
       "    <tr>\n",
       "      <th>86</th>\n",
       "      <td>200212</td>\n",
       "      <td>86.6</td>\n",
       "    </tr>\n",
       "    <tr>\n",
       "      <th>230</th>\n",
       "      <td>200301</td>\n",
       "      <td>85.7</td>\n",
       "    </tr>\n",
       "    <tr>\n",
       "      <th>272</th>\n",
       "      <td>200302</td>\n",
       "      <td>85.3</td>\n",
       "    </tr>\n",
       "    <tr>\n",
       "      <th>474</th>\n",
       "      <td>200303</td>\n",
       "      <td>85.8</td>\n",
       "    </tr>\n",
       "    <tr>\n",
       "      <th>559</th>\n",
       "      <td>200304</td>\n",
       "      <td>85.3</td>\n",
       "    </tr>\n",
       "    <tr>\n",
       "      <th>...</th>\n",
       "      <td>...</td>\n",
       "      <td>...</td>\n",
       "    </tr>\n",
       "    <tr>\n",
       "      <th>34923</th>\n",
       "      <td>202208</td>\n",
       "      <td>86</td>\n",
       "    </tr>\n",
       "    <tr>\n",
       "      <th>35009</th>\n",
       "      <td>202209</td>\n",
       "      <td>85.6</td>\n",
       "    </tr>\n",
       "    <tr>\n",
       "      <th>35261</th>\n",
       "      <td>202210</td>\n",
       "      <td>85.4</td>\n",
       "    </tr>\n",
       "    <tr>\n",
       "      <th>35324</th>\n",
       "      <td>202211</td>\n",
       "      <td>84.3</td>\n",
       "    </tr>\n",
       "    <tr>\n",
       "      <th>35564</th>\n",
       "      <td>202212</td>\n",
       "      <td>83.6</td>\n",
       "    </tr>\n",
       "  </tbody>\n",
       "</table>\n",
       "<p>241 rows × 2 columns</p>\n",
       "</div>"
      ],
      "text/plain": [
       "           시점 달러결제수출비율\n",
       "86     200212     86.6\n",
       "230    200301     85.7\n",
       "272    200302     85.3\n",
       "474    200303     85.8\n",
       "559    200304     85.3\n",
       "...       ...      ...\n",
       "34923  202208       86\n",
       "35009  202209     85.6\n",
       "35261  202210     85.4\n",
       "35324  202211     84.3\n",
       "35564  202212     83.6\n",
       "\n",
       "[241 rows x 2 columns]"
      ]
     },
     "execution_count": 434,
     "metadata": {},
     "output_type": "execute_result"
    }
   ],
   "source": [
    "EXUSDR"
   ]
  },
  {
   "cell_type": "markdown",
   "id": "a332e2c5",
   "metadata": {},
   "source": [
    "- IMUSDR 달러결제수입비율"
   ]
  },
  {
   "cell_type": "code",
   "execution_count": 435,
   "id": "fc6d0f51",
   "metadata": {},
   "outputs": [],
   "source": [
    "IMUSDR = ecos.get_statistic_search(통계표코드='303Y004', 주기=\"M\", 검색시작일자=\"200212\", 검색종료일자=\"202310\")"
   ]
  },
  {
   "cell_type": "code",
   "execution_count": 436,
   "id": "d1938a09",
   "metadata": {},
   "outputs": [],
   "source": [
    "IMUSDR = IMUSDR.loc[IMUSDR['통계항목코드1'] == 'REGIMTOTUSD'].loc[IMUSDR['통계항목코드2'] == 'RATIO'][['시점', '값']].rename(columns = {'값':'달러결제수입비율'})"
   ]
  },
  {
   "cell_type": "code",
   "execution_count": 437,
   "id": "feb1ab50",
   "metadata": {},
   "outputs": [
    {
     "data": {
      "text/html": [
       "<div>\n",
       "<style scoped>\n",
       "    .dataframe tbody tr th:only-of-type {\n",
       "        vertical-align: middle;\n",
       "    }\n",
       "\n",
       "    .dataframe tbody tr th {\n",
       "        vertical-align: top;\n",
       "    }\n",
       "\n",
       "    .dataframe thead th {\n",
       "        text-align: right;\n",
       "    }\n",
       "</style>\n",
       "<table border=\"1\" class=\"dataframe\">\n",
       "  <thead>\n",
       "    <tr style=\"text-align: right;\">\n",
       "      <th></th>\n",
       "      <th>시점</th>\n",
       "      <th>달러결제수입비율</th>\n",
       "    </tr>\n",
       "  </thead>\n",
       "  <tbody>\n",
       "    <tr>\n",
       "      <th>56</th>\n",
       "      <td>200212</td>\n",
       "      <td>76.6</td>\n",
       "    </tr>\n",
       "    <tr>\n",
       "      <th>203</th>\n",
       "      <td>200301</td>\n",
       "      <td>79.7</td>\n",
       "    </tr>\n",
       "    <tr>\n",
       "      <th>339</th>\n",
       "      <td>200302</td>\n",
       "      <td>76.1</td>\n",
       "    </tr>\n",
       "    <tr>\n",
       "      <th>431</th>\n",
       "      <td>200303</td>\n",
       "      <td>77.8</td>\n",
       "    </tr>\n",
       "    <tr>\n",
       "      <th>612</th>\n",
       "      <td>200304</td>\n",
       "      <td>76.7</td>\n",
       "    </tr>\n",
       "    <tr>\n",
       "      <th>...</th>\n",
       "      <td>...</td>\n",
       "      <td>...</td>\n",
       "    </tr>\n",
       "    <tr>\n",
       "      <th>34705</th>\n",
       "      <td>202208</td>\n",
       "      <td>83.6</td>\n",
       "    </tr>\n",
       "    <tr>\n",
       "      <th>34805</th>\n",
       "      <td>202209</td>\n",
       "      <td>84.3</td>\n",
       "    </tr>\n",
       "    <tr>\n",
       "      <th>35054</th>\n",
       "      <td>202210</td>\n",
       "      <td>83.4</td>\n",
       "    </tr>\n",
       "    <tr>\n",
       "      <th>35231</th>\n",
       "      <td>202211</td>\n",
       "      <td>81.8</td>\n",
       "    </tr>\n",
       "    <tr>\n",
       "      <th>35339</th>\n",
       "      <td>202212</td>\n",
       "      <td>80.5</td>\n",
       "    </tr>\n",
       "  </tbody>\n",
       "</table>\n",
       "<p>241 rows × 2 columns</p>\n",
       "</div>"
      ],
      "text/plain": [
       "           시점 달러결제수입비율\n",
       "56     200212     76.6\n",
       "203    200301     79.7\n",
       "339    200302     76.1\n",
       "431    200303     77.8\n",
       "612    200304     76.7\n",
       "...       ...      ...\n",
       "34705  202208     83.6\n",
       "34805  202209     84.3\n",
       "35054  202210     83.4\n",
       "35231  202211     81.8\n",
       "35339  202212     80.5\n",
       "\n",
       "[241 rows x 2 columns]"
      ]
     },
     "execution_count": 437,
     "metadata": {},
     "output_type": "execute_result"
    }
   ],
   "source": [
    "IMUSDR"
   ]
  },
  {
   "cell_type": "markdown",
   "id": "7056faf4",
   "metadata": {},
   "source": [
    "- KOPPI 한국생산자물가지수"
   ]
  },
  {
   "cell_type": "code",
   "execution_count": 438,
   "id": "3fb79a8c",
   "metadata": {},
   "outputs": [],
   "source": [
    "KOPPI = ecos.get_statistic_search(통계표코드='902Y007', 주기=\"M\", 검색시작일자=\"200212\", 검색종료일자=\"202310\")"
   ]
  },
  {
   "cell_type": "code",
   "execution_count": 439,
   "id": "0f2c07b8",
   "metadata": {},
   "outputs": [],
   "source": [
    "KOPPI = KOPPI.loc[KOPPI['통계항목코드1'] == 'KR'][['시점', '값']].rename(columns = {'값':'한국생산자물가지수'})"
   ]
  },
  {
   "cell_type": "markdown",
   "id": "323f6cf0",
   "metadata": {},
   "source": [
    "- USPPI 미국생산자물가지수"
   ]
  },
  {
   "cell_type": "code",
   "execution_count": 440,
   "id": "c93e70cf",
   "metadata": {},
   "outputs": [],
   "source": [
    "USPPI = ecos.get_statistic_search(통계표코드='902Y007', 주기=\"M\", 검색시작일자=\"200212\", 검색종료일자=\"202310\")"
   ]
  },
  {
   "cell_type": "code",
   "execution_count": 441,
   "id": "7f90519c",
   "metadata": {},
   "outputs": [],
   "source": [
    "USPPI = USPPI.loc[USPPI['통계항목코드1'] == 'US'][['시점', '값']].rename(columns = {'값':'미국생산자물가지수'})"
   ]
  },
  {
   "cell_type": "markdown",
   "id": "eaccb957",
   "metadata": {},
   "source": [
    "- Droped KOCAB 한국경상수지"
   ]
  },
  {
   "cell_type": "code",
   "execution_count": 442,
   "id": "0ed9beb5",
   "metadata": {},
   "outputs": [],
   "source": [
    "# KOCAB = ecos.get_statistic_search(통계표코드='902Y007', 주기=\"M\", 검색시작일자=\"200212\", 검색종료일자=\"202310\")"
   ]
  },
  {
   "cell_type": "code",
   "execution_count": 443,
   "id": "1c2f2cef",
   "metadata": {},
   "outputs": [],
   "source": [
    "# KOCAB = KOCAB.loc[KOCAB['통계항목코드1'] == 'KR'][['시점', '값']].rename(columns = {'값':'한국경상수지'})"
   ]
  },
  {
   "cell_type": "markdown",
   "id": "fbe09b6b",
   "metadata": {},
   "source": [
    "- Droped USCAB 미국경상수지"
   ]
  },
  {
   "cell_type": "code",
   "execution_count": 444,
   "id": "c4f79844",
   "metadata": {},
   "outputs": [],
   "source": [
    "# USCAB = ecos.get_statistic_search(통계표코드='902Y007', 주기=\"M\", 검색시작일자=\"200212\", 검색종료일자=\"202310\")"
   ]
  },
  {
   "cell_type": "code",
   "execution_count": 445,
   "id": "16e36adf",
   "metadata": {},
   "outputs": [],
   "source": [
    "# USCAB = USCAB.loc[USCAB['통계항목코드1'] == 'KR'][['시점', '값']].rename(columns = {'값':'미국경상수지'})"
   ]
  },
  {
   "cell_type": "markdown",
   "id": "d6a1b227",
   "metadata": {},
   "source": [
    "- KOFER 한국외환보유액"
   ]
  },
  {
   "cell_type": "code",
   "execution_count": 446,
   "id": "83a0d261",
   "metadata": {},
   "outputs": [],
   "source": [
    "KOFER = ecos.get_statistic_search(통계표코드='902Y014', 주기=\"M\", 검색시작일자=\"200212\", 검색종료일자=\"202310\")"
   ]
  },
  {
   "cell_type": "code",
   "execution_count": 447,
   "id": "151f7fd3",
   "metadata": {},
   "outputs": [],
   "source": [
    "KOFER = KOFER.loc[KOFER['통계항목코드1'] == 'KR'][['시점', '값']].rename(columns = {'값':'한국외환보유액'})"
   ]
  },
  {
   "cell_type": "markdown",
   "id": "3ef65741",
   "metadata": {},
   "source": [
    "- USFER 미국외환보유액"
   ]
  },
  {
   "cell_type": "code",
   "execution_count": 448,
   "id": "0ad58d94",
   "metadata": {},
   "outputs": [],
   "source": [
    "USFER = ecos.get_statistic_search(통계표코드='902Y014', 주기=\"M\", 검색시작일자=\"200212\", 검색종료일자=\"202310\")"
   ]
  },
  {
   "cell_type": "code",
   "execution_count": 449,
   "id": "3e610c4c",
   "metadata": {},
   "outputs": [],
   "source": [
    "USFER = USFER.loc[USFER['통계항목코드1'] == 'US'][['시점', '값']].rename(columns = {'값':'미국외환보유액'})"
   ]
  },
  {
   "cell_type": "markdown",
   "id": "4314725f",
   "metadata": {},
   "source": [
    "- droped KOIPI 한국산업생산자지수"
   ]
  },
  {
   "cell_type": "code",
   "execution_count": 450,
   "id": "f29b058d",
   "metadata": {},
   "outputs": [],
   "source": [
    "# KOIPI = ecos.get_statistic_search(통계표코드='902Y020', 주기=\"M\", 검색시작일자=\"200212\", 검색종료일자=\"202310\")"
   ]
  },
  {
   "cell_type": "code",
   "execution_count": 451,
   "id": "3cf01cf4",
   "metadata": {},
   "outputs": [],
   "source": [
    "# KOIPI = KOIPI.loc[KOIPI['통계항목코드1'] == 'KOR'][['시점', '값']].rename(columns = {'값':'한국산업생산지수'})"
   ]
  },
  {
   "cell_type": "markdown",
   "id": "1a240207",
   "metadata": {},
   "source": [
    "- droped USIPI 미국산업생산지수"
   ]
  },
  {
   "cell_type": "code",
   "execution_count": 452,
   "id": "64005845",
   "metadata": {},
   "outputs": [],
   "source": [
    "# USIPI = ecos.get_statistic_search(통계표코드='902Y020', 주기=\"M\", 검색시작일자=\"200212\", 검색종료일자=\"202310\")"
   ]
  },
  {
   "cell_type": "code",
   "execution_count": 453,
   "id": "76d09c31",
   "metadata": {},
   "outputs": [],
   "source": [
    "# USIPI = USIPI.loc[USIPI['통계항목코드1'] == 'USA'][['시점', '값']].rename(columns = {'값':'미국산업생산지수'})"
   ]
  },
  {
   "cell_type": "markdown",
   "id": "bed790a7",
   "metadata": {},
   "source": [
    "- KOUR 한국실업률"
   ]
  },
  {
   "cell_type": "code",
   "execution_count": 454,
   "id": "5b4d383e",
   "metadata": {},
   "outputs": [],
   "source": [
    "KOUR = ecos.get_statistic_search(통계표코드='902Y021', 주기=\"M\", 검색시작일자=\"200212\", 검색종료일자=\"202310\")"
   ]
  },
  {
   "cell_type": "code",
   "execution_count": 455,
   "id": "a342b717",
   "metadata": {},
   "outputs": [],
   "source": [
    "KOUR = KOUR.loc[KOUR['통계항목코드1'] == 'KOR'][['시점', '값']].rename(columns = {'값':'한국실업률'})"
   ]
  },
  {
   "cell_type": "markdown",
   "id": "e0fb0df2",
   "metadata": {},
   "source": [
    "- USUR 미국실업률"
   ]
  },
  {
   "cell_type": "code",
   "execution_count": 456,
   "id": "1fccc676",
   "metadata": {},
   "outputs": [],
   "source": [
    "USUR = ecos.get_statistic_search(통계표코드='902Y021', 주기=\"M\", 검색시작일자=\"200212\", 검색종료일자=\"202310\")"
   ]
  },
  {
   "cell_type": "code",
   "execution_count": 457,
   "id": "2514f350",
   "metadata": {},
   "outputs": [],
   "source": [
    "USUR = USUR.loc[USUR['통계항목코드1'] == 'USA'][['시점', '값']].rename(columns = {'값':'미국실업률'})"
   ]
  },
  {
   "cell_type": "markdown",
   "id": "5db6722f",
   "metadata": {},
   "source": [
    "- KOSPI"
   ]
  },
  {
   "cell_type": "code",
   "execution_count": 458,
   "id": "65571356",
   "metadata": {},
   "outputs": [],
   "source": [
    "KOSPI = ecos.get_statistic_search(통계표코드='902Y002', 주기=\"M\", 검색시작일자=\"200212\", 검색종료일자=\"202310\")"
   ]
  },
  {
   "cell_type": "code",
   "execution_count": 459,
   "id": "f452298d",
   "metadata": {},
   "outputs": [],
   "source": [
    "KOSPI = KOSPI.loc[KOSPI['통계항목코드1'] == '3010101'][['시점', '값']].rename(columns = {'값':'KOSPI'})"
   ]
  },
  {
   "cell_type": "markdown",
   "id": "6bba5439",
   "metadata": {},
   "source": [
    "- DJI Dow Jones"
   ]
  },
  {
   "cell_type": "code",
   "execution_count": 460,
   "id": "bdb8a394",
   "metadata": {},
   "outputs": [],
   "source": [
    "DJI = ecos.get_statistic_search(통계표코드='902Y002', 주기=\"M\", 검색시작일자=\"200212\", 검색종료일자=\"202310\")"
   ]
  },
  {
   "cell_type": "code",
   "execution_count": 461,
   "id": "5f757041",
   "metadata": {},
   "outputs": [],
   "source": [
    "DJI = DJI.loc[DJI['통계항목코드1'] == '3020101'][['시점', '값']].rename(columns = {'값':'Dow Jones'})"
   ]
  },
  {
   "cell_type": "markdown",
   "id": "8fb74943",
   "metadata": {},
   "source": [
    "# 데이터 병합"
   ]
  },
  {
   "cell_type": "markdown",
   "id": "4f7056c6",
   "metadata": {},
   "source": [
    "- 시점 일치"
   ]
  },
  {
   "cell_type": "code",
   "execution_count": 462,
   "id": "e16409c6",
   "metadata": {},
   "outputs": [],
   "source": [
    "from datetime import datetime, timedelta\n",
    "from dateutil.relativedelta import relativedelta"
   ]
  },
  {
   "cell_type": "code",
   "execution_count": 463,
   "id": "074a61dc",
   "metadata": {},
   "outputs": [],
   "source": [
    "# 이번 달의 월말 데이터로 다음 달의 원/달러 환율을 예측할 것이므로 label인 원/달러 종가를 당긴다\n",
    "KRWUSD['시점'] = pd.to_datetime(KRWUSD['시점'], format='%Y%m').apply(lambda X: X - relativedelta(months=1)).dt.strftime('%Y%m')"
   ]
  },
  {
   "cell_type": "code",
   "execution_count": 464,
   "id": "3b684c6c",
   "metadata": {},
   "outputs": [],
   "source": [
    "# 값은 해당 월에 대한 전망치를 담았으니 데이터를 전망을 한 시점인 한 달 전으로 변경\n",
    "# BM['시점'] = pd.to_datetime(BM['시점'], format='%Y%m').apply(lambda X: X - relativedelta(months=1)).dt.strftime('%Y%m')"
   ]
  },
  {
   "cell_type": "code",
   "execution_count": 465,
   "id": "5be9f4da",
   "metadata": {},
   "outputs": [],
   "source": [
    "# 값은 해당 월에 대한 전망치를 담았으니 데이터를 전망을 한 시점인 한 달 전으로 변경\n",
    "# BN['시점'] = pd.to_datetime(BN['시점'], format='%Y%m').apply(lambda X: X - relativedelta(months=1)).dt.strftime('%Y%m')"
   ]
  },
  {
   "cell_type": "code",
   "execution_count": 466,
   "id": "7856237b",
   "metadata": {},
   "outputs": [],
   "source": [
    "# 형식을 통일\n",
    "M2NS['시점'] = pd.to_datetime(M2NS['시점'], infer_datetime_format=True).dt.strftime('%Y%m')"
   ]
  },
  {
   "cell_type": "markdown",
   "id": "ac9d5818",
   "metadata": {},
   "source": [
    "- 병합"
   ]
  },
  {
   "cell_type": "code",
   "execution_count": 467,
   "id": "f1cc93b0",
   "metadata": {},
   "outputs": [
    {
     "data": {
      "text/html": [
       "<div>\n",
       "<style scoped>\n",
       "    .dataframe tbody tr th:only-of-type {\n",
       "        vertical-align: middle;\n",
       "    }\n",
       "\n",
       "    .dataframe tbody tr th {\n",
       "        vertical-align: top;\n",
       "    }\n",
       "\n",
       "    .dataframe thead th {\n",
       "        text-align: right;\n",
       "    }\n",
       "</style>\n",
       "<table border=\"1\" class=\"dataframe\">\n",
       "  <thead>\n",
       "    <tr style=\"text-align: right;\">\n",
       "      <th></th>\n",
       "      <th>시점</th>\n",
       "      <th>KRW/USD</th>\n",
       "      <th>경제심리지수(원계열)</th>\n",
       "      <th>뉴스심리지수</th>\n",
       "      <th>원자재구입가격실적</th>\n",
       "      <th>M2(말잔, 원계열)</th>\n",
       "      <th>미국M2</th>\n",
       "      <th>USBIR</th>\n",
       "      <th>KOBIR</th>\n",
       "      <th>KOTN</th>\n",
       "      <th>...</th>\n",
       "      <th>달러결제수출비율</th>\n",
       "      <th>달러결제수입비율</th>\n",
       "      <th>한국생산자물가지수</th>\n",
       "      <th>미국생산자물가지수</th>\n",
       "      <th>한국외환보유액</th>\n",
       "      <th>미국외환보유액</th>\n",
       "      <th>한국실업률</th>\n",
       "      <th>미국실업률</th>\n",
       "      <th>KOSPI</th>\n",
       "      <th>Dow Jones</th>\n",
       "    </tr>\n",
       "  </thead>\n",
       "  <tbody>\n",
       "    <tr>\n",
       "      <th>0</th>\n",
       "      <td>200501</td>\n",
       "      <td>1006</td>\n",
       "      <td>95.3</td>\n",
       "      <td>106.39</td>\n",
       "      <td>125</td>\n",
       "      <td>951377.5</td>\n",
       "      <td>6404.1</td>\n",
       "      <td>2.25</td>\n",
       "      <td>3.25</td>\n",
       "      <td>4.42</td>\n",
       "      <td>...</td>\n",
       "      <td>82.3</td>\n",
       "      <td>77.9</td>\n",
       "      <td>86.59</td>\n",
       "      <td>83.65</td>\n",
       "      <td>199699</td>\n",
       "      <td>85425</td>\n",
       "      <td>3.8</td>\n",
       "      <td>5.3</td>\n",
       "      <td>932.7</td>\n",
       "      <td>10489.94</td>\n",
       "    </tr>\n",
       "    <tr>\n",
       "      <th>1</th>\n",
       "      <td>200502</td>\n",
       "      <td>1015.5</td>\n",
       "      <td>108.1</td>\n",
       "      <td>110.62</td>\n",
       "      <td>121</td>\n",
       "      <td>970720</td>\n",
       "      <td>6405.7</td>\n",
       "      <td>2.5</td>\n",
       "      <td>3.25</td>\n",
       "      <td>4.88</td>\n",
       "      <td>...</td>\n",
       "      <td>82.9</td>\n",
       "      <td>77.9</td>\n",
       "      <td>86.77</td>\n",
       "      <td>84.04</td>\n",
       "      <td>202162</td>\n",
       "      <td>79780</td>\n",
       "      <td>3.7</td>\n",
       "      <td>5.4</td>\n",
       "      <td>1011.36</td>\n",
       "      <td>10766.23</td>\n",
       "    </tr>\n",
       "    <tr>\n",
       "      <th>2</th>\n",
       "      <td>200503</td>\n",
       "      <td>997.1</td>\n",
       "      <td>110.9</td>\n",
       "      <td>103.98</td>\n",
       "      <td>124</td>\n",
       "      <td>970629.1</td>\n",
       "      <td>6464.9</td>\n",
       "      <td>2.75</td>\n",
       "      <td>3.25</td>\n",
       "      <td>4.77</td>\n",
       "      <td>...</td>\n",
       "      <td>82</td>\n",
       "      <td>78.9</td>\n",
       "      <td>86.85</td>\n",
       "      <td>85.2</td>\n",
       "      <td>205447</td>\n",
       "      <td>79029</td>\n",
       "      <td>3.7</td>\n",
       "      <td>5.2</td>\n",
       "      <td>965.68</td>\n",
       "      <td>10503.76</td>\n",
       "    </tr>\n",
       "    <tr>\n",
       "      <th>3</th>\n",
       "      <td>200504</td>\n",
       "      <td>1007.7</td>\n",
       "      <td>110.4</td>\n",
       "      <td>100.87</td>\n",
       "      <td>126</td>\n",
       "      <td>987882.7</td>\n",
       "      <td>6508.3</td>\n",
       "      <td>2.75</td>\n",
       "      <td>3.25</td>\n",
       "      <td>4.69</td>\n",
       "      <td>...</td>\n",
       "      <td>82.5</td>\n",
       "      <td>78.6</td>\n",
       "      <td>87.09</td>\n",
       "      <td>85.93</td>\n",
       "      <td>206376</td>\n",
       "      <td>79483</td>\n",
       "      <td>3.7</td>\n",
       "      <td>5.2</td>\n",
       "      <td>911.3</td>\n",
       "      <td>10192.51</td>\n",
       "    </tr>\n",
       "    <tr>\n",
       "      <th>4</th>\n",
       "      <td>200505</td>\n",
       "      <td>1025.4</td>\n",
       "      <td>103.8</td>\n",
       "      <td>101.94</td>\n",
       "      <td>116</td>\n",
       "      <td>987197.7</td>\n",
       "      <td>6459.8</td>\n",
       "      <td>3</td>\n",
       "      <td>3.25</td>\n",
       "      <td>4.42</td>\n",
       "      <td>...</td>\n",
       "      <td>82.6</td>\n",
       "      <td>79.8</td>\n",
       "      <td>86.52</td>\n",
       "      <td>85.54</td>\n",
       "      <td>206100</td>\n",
       "      <td>78027</td>\n",
       "      <td>3.7</td>\n",
       "      <td>5.1</td>\n",
       "      <td>970.21</td>\n",
       "      <td>10467.48</td>\n",
       "    </tr>\n",
       "    <tr>\n",
       "      <th>...</th>\n",
       "      <td>...</td>\n",
       "      <td>...</td>\n",
       "      <td>...</td>\n",
       "      <td>...</td>\n",
       "      <td>...</td>\n",
       "      <td>...</td>\n",
       "      <td>...</td>\n",
       "      <td>...</td>\n",
       "      <td>...</td>\n",
       "      <td>...</td>\n",
       "      <td>...</td>\n",
       "      <td>...</td>\n",
       "      <td>...</td>\n",
       "      <td>...</td>\n",
       "      <td>...</td>\n",
       "      <td>...</td>\n",
       "      <td>...</td>\n",
       "      <td>...</td>\n",
       "      <td>...</td>\n",
       "      <td>...</td>\n",
       "      <td>...</td>\n",
       "    </tr>\n",
       "    <tr>\n",
       "      <th>203</th>\n",
       "      <td>202112</td>\n",
       "      <td>1205.5</td>\n",
       "      <td>104.5</td>\n",
       "      <td>111.48</td>\n",
       "      <td>129</td>\n",
       "      <td>3613687.6</td>\n",
       "      <td>21646.7</td>\n",
       "      <td>0.125</td>\n",
       "      <td>1</td>\n",
       "      <td>2.187</td>\n",
       "      <td>...</td>\n",
       "      <td>84.5</td>\n",
       "      <td>81.1</td>\n",
       "      <td>114.29</td>\n",
       "      <td>133.72</td>\n",
       "      <td>463118.36</td>\n",
       "      <td>251568.25</td>\n",
       "      <td>3.6</td>\n",
       "      <td>3.9</td>\n",
       "      <td>2977.65</td>\n",
       "      <td>36338.3</td>\n",
       "    </tr>\n",
       "    <tr>\n",
       "      <th>204</th>\n",
       "      <td>202201</td>\n",
       "      <td>1202.3</td>\n",
       "      <td>105.7</td>\n",
       "      <td>103.28</td>\n",
       "      <td>134</td>\n",
       "      <td>3629712.4</td>\n",
       "      <td>21628.5</td>\n",
       "      <td>0.125</td>\n",
       "      <td>1.25</td>\n",
       "      <td>2.492</td>\n",
       "      <td>...</td>\n",
       "      <td>83.8</td>\n",
       "      <td>84.5</td>\n",
       "      <td>115.49</td>\n",
       "      <td>129.7</td>\n",
       "      <td>461527</td>\n",
       "      <td>249552.86</td>\n",
       "      <td>3.3</td>\n",
       "      <td>4</td>\n",
       "      <td>2663.34</td>\n",
       "      <td>35131.86</td>\n",
       "    </tr>\n",
       "    <tr>\n",
       "      <th>205</th>\n",
       "      <td>202202</td>\n",
       "      <td>1212.1</td>\n",
       "      <td>105.8</td>\n",
       "      <td>103.65</td>\n",
       "      <td>135</td>\n",
       "      <td>3657117.3</td>\n",
       "      <td>21582.5</td>\n",
       "      <td>0.125</td>\n",
       "      <td>1.25</td>\n",
       "      <td>2.69</td>\n",
       "      <td>...</td>\n",
       "      <td>84.5</td>\n",
       "      <td>81.6</td>\n",
       "      <td>116.04</td>\n",
       "      <td>131.17</td>\n",
       "      <td>461766</td>\n",
       "      <td>250691.9</td>\n",
       "      <td>2.8</td>\n",
       "      <td>3.8</td>\n",
       "      <td>2699.18</td>\n",
       "      <td>33892.6</td>\n",
       "    </tr>\n",
       "    <tr>\n",
       "      <th>206</th>\n",
       "      <td>202203</td>\n",
       "      <td>1255.9</td>\n",
       "      <td>103.5</td>\n",
       "      <td>103.64</td>\n",
       "      <td>153</td>\n",
       "      <td>3652818.7</td>\n",
       "      <td>21855.7</td>\n",
       "      <td>0.375</td>\n",
       "      <td>1.25</td>\n",
       "      <td>2.784</td>\n",
       "      <td>...</td>\n",
       "      <td>85.1</td>\n",
       "      <td>81.8</td>\n",
       "      <td>117.81</td>\n",
       "      <td>133.86</td>\n",
       "      <td>457810</td>\n",
       "      <td>246958.19</td>\n",
       "      <td>2.8</td>\n",
       "      <td>3.6</td>\n",
       "      <td>2757.65</td>\n",
       "      <td>34678.35</td>\n",
       "    </tr>\n",
       "    <tr>\n",
       "      <th>207</th>\n",
       "      <td>202204</td>\n",
       "      <td>1237.2</td>\n",
       "      <td>105.8</td>\n",
       "      <td>104.68</td>\n",
       "      <td>147</td>\n",
       "      <td>3675692.3</td>\n",
       "      <td>21848.1</td>\n",
       "      <td>0.375</td>\n",
       "      <td>1.5</td>\n",
       "      <td>3.219</td>\n",
       "      <td>...</td>\n",
       "      <td>84.5</td>\n",
       "      <td>82.5</td>\n",
       "      <td>119.72</td>\n",
       "      <td>134.68</td>\n",
       "      <td>449298</td>\n",
       "      <td>240221.75</td>\n",
       "      <td>2.8</td>\n",
       "      <td>3.6</td>\n",
       "      <td>2695.05</td>\n",
       "      <td>32977.21</td>\n",
       "    </tr>\n",
       "  </tbody>\n",
       "</table>\n",
       "<p>208 rows × 23 columns</p>\n",
       "</div>"
      ],
      "text/plain": [
       "         시점 KRW/USD 경제심리지수(원계열)  뉴스심리지수 원자재구입가격실적 M2(말잔, 원계열)     미국M2  USBIR  \\\n",
       "0    200501    1006        95.3  106.39       125    951377.5   6404.1   2.25   \n",
       "1    200502  1015.5       108.1  110.62       121      970720   6405.7    2.5   \n",
       "2    200503   997.1       110.9  103.98       124    970629.1   6464.9   2.75   \n",
       "3    200504  1007.7       110.4  100.87       126    987882.7   6508.3   2.75   \n",
       "4    200505  1025.4       103.8  101.94       116    987197.7   6459.8      3   \n",
       "..      ...     ...         ...     ...       ...         ...      ...    ...   \n",
       "203  202112  1205.5       104.5  111.48       129   3613687.6  21646.7  0.125   \n",
       "204  202201  1202.3       105.7  103.28       134   3629712.4  21628.5  0.125   \n",
       "205  202202  1212.1       105.8  103.65       135   3657117.3  21582.5  0.125   \n",
       "206  202203  1255.9       103.5  103.64       153   3652818.7  21855.7  0.375   \n",
       "207  202204  1237.2       105.8  104.68       147   3675692.3  21848.1  0.375   \n",
       "\n",
       "    KOBIR   KOTN  ... 달러결제수출비율 달러결제수입비율 한국생산자물가지수 미국생산자물가지수    한국외환보유액  \\\n",
       "0    3.25   4.42  ...     82.3     77.9     86.59     83.65     199699   \n",
       "1    3.25   4.88  ...     82.9     77.9     86.77     84.04     202162   \n",
       "2    3.25   4.77  ...       82     78.9     86.85      85.2     205447   \n",
       "3    3.25   4.69  ...     82.5     78.6     87.09     85.93     206376   \n",
       "4    3.25   4.42  ...     82.6     79.8     86.52     85.54     206100   \n",
       "..    ...    ...  ...      ...      ...       ...       ...        ...   \n",
       "203     1  2.187  ...     84.5     81.1    114.29    133.72  463118.36   \n",
       "204  1.25  2.492  ...     83.8     84.5    115.49     129.7     461527   \n",
       "205  1.25   2.69  ...     84.5     81.6    116.04    131.17     461766   \n",
       "206  1.25  2.784  ...     85.1     81.8    117.81    133.86     457810   \n",
       "207   1.5  3.219  ...     84.5     82.5    119.72    134.68     449298   \n",
       "\n",
       "       미국외환보유액 한국실업률 미국실업률    KOSPI Dow Jones  \n",
       "0        85425   3.8   5.3    932.7  10489.94  \n",
       "1        79780   3.7   5.4  1011.36  10766.23  \n",
       "2        79029   3.7   5.2   965.68  10503.76  \n",
       "3        79483   3.7   5.2    911.3  10192.51  \n",
       "4        78027   3.7   5.1   970.21  10467.48  \n",
       "..         ...   ...   ...      ...       ...  \n",
       "203  251568.25   3.6   3.9  2977.65   36338.3  \n",
       "204  249552.86   3.3     4  2663.34  35131.86  \n",
       "205   250691.9   2.8   3.8  2699.18   33892.6  \n",
       "206  246958.19   2.8   3.6  2757.65  34678.35  \n",
       "207  240221.75   2.8   3.6  2695.05  32977.21  \n",
       "\n",
       "[208 rows x 23 columns]"
      ]
     },
     "execution_count": 467,
     "metadata": {},
     "output_type": "execute_result"
    }
   ],
   "source": [
    "df = E1000['시점']\n",
    "df_list = [KRWUSD, E1000, A001, AN, KOM2, M2NS, USBIR, KOBIR, KOTN, USTN, REGEXTOTUSD, REGIMTOTUSD, EXUSDR, IMUSDR, KOPPI, USPPI, KOFER, USFER, KOUR, USUR, KOSPI, DJI]\n",
    "for i in df_list:\n",
    "    df = pd.merge(df, i)\n",
    "df"
   ]
  },
  {
   "cell_type": "markdown",
   "id": "a7e55a1f",
   "metadata": {},
   "source": [
    "- to_csv"
   ]
  },
  {
   "cell_type": "code",
   "execution_count": 468,
   "id": "94d023dd",
   "metadata": {},
   "outputs": [],
   "source": [
    "filename = 'monthly_data.csv'\n",
    "df.to_csv(current_directory+'/'+filename)"
   ]
  },
  {
   "cell_type": "code",
   "execution_count": null,
   "id": "04e3711c",
   "metadata": {},
   "outputs": [],
   "source": []
  }
 ],
 "metadata": {
  "kernelspec": {
   "display_name": "Python 3 (ipykernel)",
   "language": "python",
   "name": "python3"
  },
  "language_info": {
   "codemirror_mode": {
    "name": "ipython",
    "version": 3
   },
   "file_extension": ".py",
   "mimetype": "text/x-python",
   "name": "python",
   "nbconvert_exporter": "python",
   "pygments_lexer": "ipython3",
   "version": "3.11.4"
  }
 },
 "nbformat": 4,
 "nbformat_minor": 5
}
