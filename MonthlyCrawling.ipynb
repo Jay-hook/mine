{
 "cells": [
  {
   "cell_type": "markdown",
   "id": "fce6c2fc",
   "metadata": {},
   "source": [
    "# 이 문서의 목표 - 데이터 수집해서 데이터 셋 만드기 \n",
    "## 데이터 수집하기 Data Crawling\n",
    "    - ecos와 fred\n",
    "## 데이터 병합 merge\n",
    "    - 데이터 가공\n",
    "    - 병합\n",
    "    - csv파일로 저장"
   ]
  },
  {
   "cell_type": "code",
   "execution_count": 202,
   "id": "02b544de-76d5-4819-aa51-697c629008f3",
   "metadata": {},
   "outputs": [
    {
     "name": "stdout",
     "output_type": "stream",
     "text": [
      "현재 작업 디렉토리: c:\\Users\\jay_hook\\myhub\\miniproj\n"
     ]
    }
   ],
   "source": [
    "import os\n",
    "current_directory = os.getcwd() # 현재 작업 디렉토리를 얻기\n",
    "print(\"현재 작업 디렉토리:\", current_directory)"
   ]
  },
  {
   "cell_type": "code",
   "execution_count": 203,
   "id": "2e0f46c4-5191-4275-b689-8a586d4bd1f7",
   "metadata": {},
   "outputs": [],
   "source": [
    "import pandas as pd\n",
    "import numpy as np\n",
    "import matplotlib.pyplot as plt\n",
    "import seaborn as sns\n",
    "import platform\n",
    "if platform.system() == \"Darwin\":          # MAC인 경우\n",
    "    plt.rc('font', family =\"AppleGothic\")\n",
    "else:\n",
    "    plt.rc('font',family='Malgun Gothic')\n",
    "\n",
    "#멧플로립에서 음수를 표시\n",
    "plt.rc('axes',unicode_minus=False)\n",
    "\n",
    "#워닝 메시지 제거\n",
    "import warnings\n",
    "warnings.filterwarnings('ignore')"
   ]
  },
  {
   "cell_type": "code",
   "execution_count": 204,
   "id": "f09c39cd-dde2-4e88-83cc-7f1266cd78a9",
   "metadata": {},
   "outputs": [
    {
     "name": "stdout",
     "output_type": "stream",
     "text": [
      "Requirement already satisfied: PublicDataReader in c:\\users\\jay_hook\\appdata\\local\\programs\\python\\python311\\lib\\site-packages (1.0.25)\n",
      "Requirement already satisfied: beautifulsoup4 in c:\\users\\jay_hook\\appdata\\local\\programs\\python\\python311\\lib\\site-packages (from PublicDataReader) (4.12.2)\n",
      "Requirement already satisfied: lxml in c:\\users\\jay_hook\\appdata\\local\\programs\\python\\python311\\lib\\site-packages (from PublicDataReader) (4.9.3)\n",
      "Requirement already satisfied: numpy in c:\\users\\jay_hook\\appdata\\local\\programs\\python\\python311\\lib\\site-packages (from PublicDataReader) (1.26.0)\n",
      "Requirement already satisfied: pandas in c:\\users\\jay_hook\\appdata\\local\\programs\\python\\python311\\lib\\site-packages (from PublicDataReader) (2.1.1)\n",
      "Requirement already satisfied: requests in c:\\users\\jay_hook\\appdata\\local\\programs\\python\\python311\\lib\\site-packages (from PublicDataReader) (2.31.0)\n",
      "Requirement already satisfied: xmltodict in c:\\users\\jay_hook\\appdata\\local\\programs\\python\\python311\\lib\\site-packages (from PublicDataReader) (0.13.0)\n",
      "Requirement already satisfied: soupsieve>1.2 in c:\\users\\jay_hook\\appdata\\local\\programs\\python\\python311\\lib\\site-packages (from beautifulsoup4->PublicDataReader) (2.5)\n",
      "Requirement already satisfied: python-dateutil>=2.8.2 in c:\\users\\jay_hook\\appdata\\roaming\\python\\python311\\site-packages (from pandas->PublicDataReader) (2.8.2)\n",
      "Requirement already satisfied: pytz>=2020.1 in c:\\users\\jay_hook\\appdata\\local\\programs\\python\\python311\\lib\\site-packages (from pandas->PublicDataReader) (2023.3.post1)\n",
      "Requirement already satisfied: tzdata>=2022.1 in c:\\users\\jay_hook\\appdata\\local\\programs\\python\\python311\\lib\\site-packages (from pandas->PublicDataReader) (2023.3)\n",
      "Requirement already satisfied: charset-normalizer<4,>=2 in c:\\users\\jay_hook\\appdata\\local\\programs\\python\\python311\\lib\\site-packages (from requests->PublicDataReader) (3.3.0)\n",
      "Requirement already satisfied: idna<4,>=2.5 in c:\\users\\jay_hook\\appdata\\local\\programs\\python\\python311\\lib\\site-packages (from requests->PublicDataReader) (3.4)\n",
      "Requirement already satisfied: urllib3<3,>=1.21.1 in c:\\users\\jay_hook\\appdata\\local\\programs\\python\\python311\\lib\\site-packages (from requests->PublicDataReader) (2.0.5)\n",
      "Requirement already satisfied: certifi>=2017.4.17 in c:\\users\\jay_hook\\appdata\\local\\programs\\python\\python311\\lib\\site-packages (from requests->PublicDataReader) (2023.7.22)\n",
      "Requirement already satisfied: six>=1.5 in c:\\users\\jay_hook\\appdata\\roaming\\python\\python311\\site-packages (from python-dateutil>=2.8.2->pandas->PublicDataReader) (1.16.0)\n"
     ]
    }
   ],
   "source": [
    "!pip install PublicDataReader\n",
    "from PublicDataReader import Ecos\n",
    "service_key = \"2D9DY7C4S29XV51QBTPT\"\n",
    "ecos = Ecos(service_key)"
   ]
  },
  {
   "cell_type": "markdown",
   "id": "9a811b68",
   "metadata": {},
   "source": [
    "# 데이터 가져오기"
   ]
  },
  {
   "cell_type": "markdown",
   "id": "9fc21df1",
   "metadata": {},
   "source": [
    "- 원/달러 말일 종가 "
   ]
  },
  {
   "cell_type": "code",
   "execution_count": 205,
   "id": "b817d1a0",
   "metadata": {},
   "outputs": [],
   "source": [
    "KRWUSD = ecos.get_statistic_search(통계표코드='731Y006', 주기=\"M\", 검색시작일자=\"200212\", 검색종료일자=\"202310\")"
   ]
  },
  {
   "cell_type": "code",
   "execution_count": 206,
   "id": "1024b17f",
   "metadata": {},
   "outputs": [],
   "source": [
    "KRWUSD = KRWUSD.loc[KRWUSD['통계항목코드1'] == '0000003'].loc[KRWUSD['통계항목코드2'] == '0000200'][['시점', '값']].rename(columns = {'값':'KRW/USD'})"
   ]
  },
  {
   "cell_type": "code",
   "execution_count": 207,
   "id": "e28d3371",
   "metadata": {},
   "outputs": [
    {
     "data": {
      "text/html": [
       "<div>\n",
       "<style scoped>\n",
       "    .dataframe tbody tr th:only-of-type {\n",
       "        vertical-align: middle;\n",
       "    }\n",
       "\n",
       "    .dataframe tbody tr th {\n",
       "        vertical-align: top;\n",
       "    }\n",
       "\n",
       "    .dataframe thead th {\n",
       "        text-align: right;\n",
       "    }\n",
       "</style>\n",
       "<table border=\"1\" class=\"dataframe\">\n",
       "  <thead>\n",
       "    <tr style=\"text-align: right;\">\n",
       "      <th></th>\n",
       "      <th>시점</th>\n",
       "      <th>KRW/USD</th>\n",
       "    </tr>\n",
       "  </thead>\n",
       "  <tbody>\n",
       "    <tr>\n",
       "      <th>1</th>\n",
       "      <td>200212</td>\n",
       "      <td>1186.2</td>\n",
       "    </tr>\n",
       "    <tr>\n",
       "      <th>2</th>\n",
       "      <td>200301</td>\n",
       "      <td>1170.1</td>\n",
       "    </tr>\n",
       "    <tr>\n",
       "      <th>4</th>\n",
       "      <td>200302</td>\n",
       "      <td>1193.7</td>\n",
       "    </tr>\n",
       "    <tr>\n",
       "      <th>6</th>\n",
       "      <td>200303</td>\n",
       "      <td>1254.6</td>\n",
       "    </tr>\n",
       "    <tr>\n",
       "      <th>9</th>\n",
       "      <td>200304</td>\n",
       "      <td>1215.3</td>\n",
       "    </tr>\n",
       "    <tr>\n",
       "      <th>...</th>\n",
       "      <td>...</td>\n",
       "      <td>...</td>\n",
       "    </tr>\n",
       "    <tr>\n",
       "      <th>3109</th>\n",
       "      <td>202305</td>\n",
       "      <td>1327.2</td>\n",
       "    </tr>\n",
       "    <tr>\n",
       "      <th>3132</th>\n",
       "      <td>202306</td>\n",
       "      <td>1317.7</td>\n",
       "    </tr>\n",
       "    <tr>\n",
       "      <th>3145</th>\n",
       "      <td>202307</td>\n",
       "      <td>1274.6</td>\n",
       "    </tr>\n",
       "    <tr>\n",
       "      <th>3163</th>\n",
       "      <td>202308</td>\n",
       "      <td>1321.8</td>\n",
       "    </tr>\n",
       "    <tr>\n",
       "      <th>3195</th>\n",
       "      <td>202309</td>\n",
       "      <td>1349.3</td>\n",
       "    </tr>\n",
       "  </tbody>\n",
       "</table>\n",
       "<p>250 rows × 2 columns</p>\n",
       "</div>"
      ],
      "text/plain": [
       "          시점 KRW/USD\n",
       "1     200212  1186.2\n",
       "2     200301  1170.1\n",
       "4     200302  1193.7\n",
       "6     200303  1254.6\n",
       "9     200304  1215.3\n",
       "...      ...     ...\n",
       "3109  202305  1327.2\n",
       "3132  202306  1317.7\n",
       "3145  202307  1274.6\n",
       "3163  202308  1321.8\n",
       "3195  202309  1349.3\n",
       "\n",
       "[250 rows x 2 columns]"
      ]
     },
     "execution_count": 207,
     "metadata": {},
     "output_type": "execute_result"
    }
   ],
   "source": [
    "KRWUSD"
   ]
  },
  {
   "cell_type": "markdown",
   "id": "ca6347d4",
   "metadata": {},
   "source": [
    "- E1000 경제심리지수(원계열)"
   ]
  },
  {
   "cell_type": "code",
   "execution_count": 208,
   "id": "ed32e7a3",
   "metadata": {},
   "outputs": [],
   "source": [
    "E1000 = ecos.get_statistic_search(통계표코드='513Y001', 주기=\"M\", 검색시작일자=\"200212\", 검색종료일자=\"202310\")\n",
    "E1000 = E1000.loc[E1000['통계항목코드1'] == 'E1000']\n",
    "E1000 = E1000[['시점', '값']].rename(columns = {'값':'경제심리지수(원계열)'})"
   ]
  },
  {
   "cell_type": "code",
   "execution_count": 209,
   "id": "49ed6334-6214-4ccf-9987-e758a1be90d0",
   "metadata": {},
   "outputs": [
    {
     "data": {
      "text/html": [
       "<div>\n",
       "<style scoped>\n",
       "    .dataframe tbody tr th:only-of-type {\n",
       "        vertical-align: middle;\n",
       "    }\n",
       "\n",
       "    .dataframe tbody tr th {\n",
       "        vertical-align: top;\n",
       "    }\n",
       "\n",
       "    .dataframe thead th {\n",
       "        text-align: right;\n",
       "    }\n",
       "</style>\n",
       "<table border=\"1\" class=\"dataframe\">\n",
       "  <thead>\n",
       "    <tr style=\"text-align: right;\">\n",
       "      <th></th>\n",
       "      <th>시점</th>\n",
       "      <th>경제심리지수(원계열)</th>\n",
       "    </tr>\n",
       "  </thead>\n",
       "  <tbody>\n",
       "    <tr>\n",
       "      <th>0</th>\n",
       "      <td>200301</td>\n",
       "      <td>101</td>\n",
       "    </tr>\n",
       "    <tr>\n",
       "      <th>2</th>\n",
       "      <td>200302</td>\n",
       "      <td>102.3</td>\n",
       "    </tr>\n",
       "    <tr>\n",
       "      <th>5</th>\n",
       "      <td>200303</td>\n",
       "      <td>92.3</td>\n",
       "    </tr>\n",
       "    <tr>\n",
       "      <th>6</th>\n",
       "      <td>200304</td>\n",
       "      <td>98</td>\n",
       "    </tr>\n",
       "    <tr>\n",
       "      <th>9</th>\n",
       "      <td>200305</td>\n",
       "      <td>96.1</td>\n",
       "    </tr>\n",
       "    <tr>\n",
       "      <th>...</th>\n",
       "      <td>...</td>\n",
       "      <td>...</td>\n",
       "    </tr>\n",
       "    <tr>\n",
       "      <th>488</th>\n",
       "      <td>202305</td>\n",
       "      <td>94.2</td>\n",
       "    </tr>\n",
       "    <tr>\n",
       "      <th>491</th>\n",
       "      <td>202306</td>\n",
       "      <td>95.7</td>\n",
       "    </tr>\n",
       "    <tr>\n",
       "      <th>492</th>\n",
       "      <td>202307</td>\n",
       "      <td>94.1</td>\n",
       "    </tr>\n",
       "    <tr>\n",
       "      <th>494</th>\n",
       "      <td>202308</td>\n",
       "      <td>94</td>\n",
       "    </tr>\n",
       "    <tr>\n",
       "      <th>497</th>\n",
       "      <td>202309</td>\n",
       "      <td>92.7</td>\n",
       "    </tr>\n",
       "  </tbody>\n",
       "</table>\n",
       "<p>249 rows × 2 columns</p>\n",
       "</div>"
      ],
      "text/plain": [
       "         시점 경제심리지수(원계열)\n",
       "0    200301         101\n",
       "2    200302       102.3\n",
       "5    200303        92.3\n",
       "6    200304          98\n",
       "9    200305        96.1\n",
       "..      ...         ...\n",
       "488  202305        94.2\n",
       "491  202306        95.7\n",
       "492  202307        94.1\n",
       "494  202308          94\n",
       "497  202309        92.7\n",
       "\n",
       "[249 rows x 2 columns]"
      ]
     },
     "execution_count": 209,
     "metadata": {},
     "output_type": "execute_result"
    }
   ],
   "source": [
    "E1000"
   ]
  },
  {
   "cell_type": "markdown",
   "id": "f0046558",
   "metadata": {},
   "source": [
    "- A001 뉴스심리지수"
   ]
  },
  {
   "cell_type": "code",
   "execution_count": 210,
   "id": "d4e140fb",
   "metadata": {},
   "outputs": [],
   "source": [
    "A001 = ecos.get_statistic_search(통계표코드='521Y001', 주기=\"M\", 검색시작일자=\"200212\", 검색종료일자=\"202310\")\n",
    "A001 = A001.loc[A001['통계항목코드1'] == 'A001']\n",
    "A001 = A001[['시점', '값']].rename(columns = {'값':'뉴스심리지수'})"
   ]
  },
  {
   "cell_type": "code",
   "execution_count": 211,
   "id": "ef355dde",
   "metadata": {},
   "outputs": [
    {
     "data": {
      "text/html": [
       "<div>\n",
       "<style scoped>\n",
       "    .dataframe tbody tr th:only-of-type {\n",
       "        vertical-align: middle;\n",
       "    }\n",
       "\n",
       "    .dataframe tbody tr th {\n",
       "        vertical-align: top;\n",
       "    }\n",
       "\n",
       "    .dataframe thead th {\n",
       "        text-align: right;\n",
       "    }\n",
       "</style>\n",
       "<table border=\"1\" class=\"dataframe\">\n",
       "  <thead>\n",
       "    <tr style=\"text-align: right;\">\n",
       "      <th></th>\n",
       "      <th>시점</th>\n",
       "      <th>뉴스심리지수</th>\n",
       "    </tr>\n",
       "  </thead>\n",
       "  <tbody>\n",
       "    <tr>\n",
       "      <th>0</th>\n",
       "      <td>200501</td>\n",
       "      <td>106.39</td>\n",
       "    </tr>\n",
       "    <tr>\n",
       "      <th>1</th>\n",
       "      <td>200502</td>\n",
       "      <td>110.62</td>\n",
       "    </tr>\n",
       "    <tr>\n",
       "      <th>2</th>\n",
       "      <td>200503</td>\n",
       "      <td>103.98</td>\n",
       "    </tr>\n",
       "    <tr>\n",
       "      <th>3</th>\n",
       "      <td>200504</td>\n",
       "      <td>100.87</td>\n",
       "    </tr>\n",
       "    <tr>\n",
       "      <th>4</th>\n",
       "      <td>200505</td>\n",
       "      <td>101.94</td>\n",
       "    </tr>\n",
       "    <tr>\n",
       "      <th>...</th>\n",
       "      <td>...</td>\n",
       "      <td>...</td>\n",
       "    </tr>\n",
       "    <tr>\n",
       "      <th>221</th>\n",
       "      <td>202306</td>\n",
       "      <td>101.64</td>\n",
       "    </tr>\n",
       "    <tr>\n",
       "      <th>222</th>\n",
       "      <td>202307</td>\n",
       "      <td>102.08</td>\n",
       "    </tr>\n",
       "    <tr>\n",
       "      <th>223</th>\n",
       "      <td>202308</td>\n",
       "      <td>99.03</td>\n",
       "    </tr>\n",
       "    <tr>\n",
       "      <th>224</th>\n",
       "      <td>202309</td>\n",
       "      <td>100.78</td>\n",
       "    </tr>\n",
       "    <tr>\n",
       "      <th>225</th>\n",
       "      <td>202310</td>\n",
       "      <td>91.86</td>\n",
       "    </tr>\n",
       "  </tbody>\n",
       "</table>\n",
       "<p>226 rows × 2 columns</p>\n",
       "</div>"
      ],
      "text/plain": [
       "         시점  뉴스심리지수\n",
       "0    200501  106.39\n",
       "1    200502  110.62\n",
       "2    200503  103.98\n",
       "3    200504  100.87\n",
       "4    200505  101.94\n",
       "..      ...     ...\n",
       "221  202306  101.64\n",
       "222  202307  102.08\n",
       "223  202308   99.03\n",
       "224  202309  100.78\n",
       "225  202310   91.86\n",
       "\n",
       "[226 rows x 2 columns]"
      ]
     },
     "execution_count": 211,
     "metadata": {},
     "output_type": "execute_result"
    }
   ],
   "source": [
    "A001"
   ]
  },
  {
   "cell_type": "markdown",
   "id": "0a20c659",
   "metadata": {},
   "source": [
    "- Droped FME 소비자심리지수"
   ]
  },
  {
   "cell_type": "code",
   "execution_count": 212,
   "id": "01b17e6f",
   "metadata": {},
   "outputs": [],
   "source": [
    "# FME = ecos.get_statistic_search(통계표코드='511Y002', 주기=\"M\", 검색시작일자=\"200212\", 검색종료일자=\"202310\")\n",
    "# FME = FME.loc[FME['통계항목코드1'] == 'FME'].loc[FME['통계항목코드2'] == '99988']\n",
    "# FME = FME[['시점', '값']].rename(columns = {'값':'소비자심리지수'})"
   ]
  },
  {
   "cell_type": "code",
   "execution_count": 213,
   "id": "fe53f631",
   "metadata": {},
   "outputs": [],
   "source": [
    "# FME"
   ]
  },
  {
   "cell_type": "markdown",
   "id": "3c96111c",
   "metadata": {},
   "source": [
    "- Droped AM 수출실적"
   ]
  },
  {
   "cell_type": "code",
   "execution_count": 214,
   "id": "4e9fb653",
   "metadata": {},
   "outputs": [],
   "source": [
    "X1 = ecos.get_statistic_search(통계표코드='512Y013', 주기=\"M\", 검색시작일자=\"200212\", 검색종료일자=\"202310\")"
   ]
  },
  {
   "cell_type": "code",
   "execution_count": 215,
   "id": "ffd4ab04",
   "metadata": {},
   "outputs": [],
   "source": [
    "# AM = X1.loc[X1['통계항목코드1'] == 'X8000'].loc[X1['통계항목코드2'] == 'AM']\n",
    "# AM = AM[['시점', '값']].rename(columns = {'값':'수출실적'})\n",
    "# AM"
   ]
  },
  {
   "cell_type": "markdown",
   "id": "da02d090",
   "metadata": {},
   "source": [
    "- AN 원자재구입가격실적"
   ]
  },
  {
   "cell_type": "code",
   "execution_count": 216,
   "id": "5c60937f",
   "metadata": {},
   "outputs": [],
   "source": [
    "AN = X1.loc[X1['통계항목코드1'] == 'X8000'].loc[X1['통계항목코드2'] == 'AN']\n",
    "AN = AN[['시점', '값']].rename(columns = {'값':'원자재구입가격실적'})"
   ]
  },
  {
   "cell_type": "code",
   "execution_count": 217,
   "id": "856a22ba",
   "metadata": {},
   "outputs": [
    {
     "data": {
      "text/html": [
       "<div>\n",
       "<style scoped>\n",
       "    .dataframe tbody tr th:only-of-type {\n",
       "        vertical-align: middle;\n",
       "    }\n",
       "\n",
       "    .dataframe tbody tr th {\n",
       "        vertical-align: top;\n",
       "    }\n",
       "\n",
       "    .dataframe thead th {\n",
       "        text-align: right;\n",
       "    }\n",
       "</style>\n",
       "<table border=\"1\" class=\"dataframe\">\n",
       "  <thead>\n",
       "    <tr style=\"text-align: right;\">\n",
       "      <th></th>\n",
       "      <th>시점</th>\n",
       "      <th>원자재구입가격실적</th>\n",
       "    </tr>\n",
       "  </thead>\n",
       "  <tbody>\n",
       "    <tr>\n",
       "      <th>114</th>\n",
       "      <td>200301</td>\n",
       "      <td>119</td>\n",
       "    </tr>\n",
       "    <tr>\n",
       "      <th>146</th>\n",
       "      <td>200302</td>\n",
       "      <td>126</td>\n",
       "    </tr>\n",
       "    <tr>\n",
       "      <th>263</th>\n",
       "      <td>200303</td>\n",
       "      <td>137</td>\n",
       "    </tr>\n",
       "    <tr>\n",
       "      <th>435</th>\n",
       "      <td>200304</td>\n",
       "      <td>118</td>\n",
       "    </tr>\n",
       "    <tr>\n",
       "      <th>548</th>\n",
       "      <td>200305</td>\n",
       "      <td>110</td>\n",
       "    </tr>\n",
       "    <tr>\n",
       "      <th>...</th>\n",
       "      <td>...</td>\n",
       "      <td>...</td>\n",
       "    </tr>\n",
       "    <tr>\n",
       "      <th>29373</th>\n",
       "      <td>202305</td>\n",
       "      <td>104</td>\n",
       "    </tr>\n",
       "    <tr>\n",
       "      <th>29589</th>\n",
       "      <td>202306</td>\n",
       "      <td>110</td>\n",
       "    </tr>\n",
       "    <tr>\n",
       "      <th>29732</th>\n",
       "      <td>202307</td>\n",
       "      <td>103</td>\n",
       "    </tr>\n",
       "    <tr>\n",
       "      <th>29783</th>\n",
       "      <td>202308</td>\n",
       "      <td>103</td>\n",
       "    </tr>\n",
       "    <tr>\n",
       "      <th>29874</th>\n",
       "      <td>202309</td>\n",
       "      <td>113</td>\n",
       "    </tr>\n",
       "  </tbody>\n",
       "</table>\n",
       "<p>249 rows × 2 columns</p>\n",
       "</div>"
      ],
      "text/plain": [
       "           시점 원자재구입가격실적\n",
       "114    200301       119\n",
       "146    200302       126\n",
       "263    200303       137\n",
       "435    200304       118\n",
       "548    200305       110\n",
       "...       ...       ...\n",
       "29373  202305       104\n",
       "29589  202306       110\n",
       "29732  202307       103\n",
       "29783  202308       103\n",
       "29874  202309       113\n",
       "\n",
       "[249 rows x 2 columns]"
      ]
     },
     "execution_count": 217,
     "metadata": {},
     "output_type": "execute_result"
    }
   ],
   "source": [
    "AN"
   ]
  },
  {
   "cell_type": "markdown",
   "id": "3754f06c",
   "metadata": {},
   "source": [
    "- Droped BM 수출전망"
   ]
  },
  {
   "cell_type": "code",
   "execution_count": 218,
   "id": "91152ef8",
   "metadata": {},
   "outputs": [],
   "source": [
    "# X2 = ecos.get_statistic_search(통계표코드='512Y014', 주기=\"M\", 검색시작일자=\"200212\", 검색종료일자=\"202310\")"
   ]
  },
  {
   "cell_type": "code",
   "execution_count": 219,
   "id": "0c72da59",
   "metadata": {},
   "outputs": [],
   "source": [
    "# BM = X2.loc[X2['통계항목코드1'] == 'X8000'].loc[X2['통계항목코드2'] == 'BM'][['시점', '값']].rename(columns = {'값':'수출전망'})\n"
   ]
  },
  {
   "cell_type": "code",
   "execution_count": 220,
   "id": "51a1c171",
   "metadata": {},
   "outputs": [],
   "source": [
    "# BM"
   ]
  },
  {
   "cell_type": "markdown",
   "id": "d8905712",
   "metadata": {},
   "source": [
    "- Droped BN 원자재구입가격전망"
   ]
  },
  {
   "cell_type": "code",
   "execution_count": 221,
   "id": "21ffbe37",
   "metadata": {},
   "outputs": [],
   "source": [
    "# BN = X2.loc[X2['통계항목코드1'] == 'X8000'].loc[X2['통계항목코드2'] == 'BN'][['시점', '값']].rename(columns = {'값':'원자재구입가격전망'})"
   ]
  },
  {
   "cell_type": "code",
   "execution_count": 222,
   "id": "af352f15",
   "metadata": {},
   "outputs": [],
   "source": [
    "# BN"
   ]
  },
  {
   "cell_type": "markdown",
   "id": "a0be77ba",
   "metadata": {},
   "source": [
    "- KOM2 M2(말잔, 원계열)"
   ]
  },
  {
   "cell_type": "code",
   "execution_count": 223,
   "id": "f50aa02e",
   "metadata": {},
   "outputs": [],
   "source": [
    "KOM2 = ecos.get_statistic_search(통계표코드='101Y002', 주기=\"M\", 검색시작일자=\"200212\", 검색종료일자=\"202310\")"
   ]
  },
  {
   "cell_type": "code",
   "execution_count": 224,
   "id": "0180ef74",
   "metadata": {},
   "outputs": [],
   "source": [
    "KOM2 = KOM2.loc[KOM2['통계항목코드1'] == 'BBGA00'][['시점', '값']].rename(columns = {'값':'M2(말잔, 원계열)'})"
   ]
  },
  {
   "cell_type": "code",
   "execution_count": 225,
   "id": "63c4bf47",
   "metadata": {},
   "outputs": [
    {
     "data": {
      "text/html": [
       "<div>\n",
       "<style scoped>\n",
       "    .dataframe tbody tr th:only-of-type {\n",
       "        vertical-align: middle;\n",
       "    }\n",
       "\n",
       "    .dataframe tbody tr th {\n",
       "        vertical-align: top;\n",
       "    }\n",
       "\n",
       "    .dataframe thead th {\n",
       "        text-align: right;\n",
       "    }\n",
       "</style>\n",
       "<table border=\"1\" class=\"dataframe\">\n",
       "  <thead>\n",
       "    <tr style=\"text-align: right;\">\n",
       "      <th></th>\n",
       "      <th>시점</th>\n",
       "      <th>M2(말잔, 원계열)</th>\n",
       "    </tr>\n",
       "  </thead>\n",
       "  <tbody>\n",
       "    <tr>\n",
       "      <th>0</th>\n",
       "      <td>200212</td>\n",
       "      <td>872075.6</td>\n",
       "    </tr>\n",
       "    <tr>\n",
       "      <th>1</th>\n",
       "      <td>200301</td>\n",
       "      <td>880756.1</td>\n",
       "    </tr>\n",
       "    <tr>\n",
       "      <th>2</th>\n",
       "      <td>200302</td>\n",
       "      <td>886044.7</td>\n",
       "    </tr>\n",
       "    <tr>\n",
       "      <th>3</th>\n",
       "      <td>200303</td>\n",
       "      <td>887799</td>\n",
       "    </tr>\n",
       "    <tr>\n",
       "      <th>4</th>\n",
       "      <td>200304</td>\n",
       "      <td>881195.8</td>\n",
       "    </tr>\n",
       "    <tr>\n",
       "      <th>...</th>\n",
       "      <td>...</td>\n",
       "      <td>...</td>\n",
       "    </tr>\n",
       "    <tr>\n",
       "      <th>243</th>\n",
       "      <td>202303</td>\n",
       "      <td>3776930.1</td>\n",
       "    </tr>\n",
       "    <tr>\n",
       "      <th>244</th>\n",
       "      <td>202304</td>\n",
       "      <td>3773397.2</td>\n",
       "    </tr>\n",
       "    <tr>\n",
       "      <th>245</th>\n",
       "      <td>202305</td>\n",
       "      <td>3777762.1</td>\n",
       "    </tr>\n",
       "    <tr>\n",
       "      <th>246</th>\n",
       "      <td>202306</td>\n",
       "      <td>3808194.2</td>\n",
       "    </tr>\n",
       "    <tr>\n",
       "      <th>247</th>\n",
       "      <td>202307</td>\n",
       "      <td>3788168.8</td>\n",
       "    </tr>\n",
       "  </tbody>\n",
       "</table>\n",
       "<p>248 rows × 2 columns</p>\n",
       "</div>"
      ],
      "text/plain": [
       "         시점 M2(말잔, 원계열)\n",
       "0    200212    872075.6\n",
       "1    200301    880756.1\n",
       "2    200302    886044.7\n",
       "3    200303      887799\n",
       "4    200304    881195.8\n",
       "..      ...         ...\n",
       "243  202303   3776930.1\n",
       "244  202304   3773397.2\n",
       "245  202305   3777762.1\n",
       "246  202306   3808194.2\n",
       "247  202307   3788168.8\n",
       "\n",
       "[248 rows x 2 columns]"
      ]
     },
     "execution_count": 225,
     "metadata": {},
     "output_type": "execute_result"
    }
   ],
   "source": [
    "KOM2"
   ]
  },
  {
   "cell_type": "markdown",
   "id": "c3b08556",
   "metadata": {},
   "source": [
    "- M2NS 미국M2(말잔)"
   ]
  },
  {
   "cell_type": "code",
   "execution_count": 226,
   "id": "de011bbd",
   "metadata": {},
   "outputs": [],
   "source": [
    "from PublicDataReader import Fred\n",
    "# FRED API 키\n",
    "fred_api_key = \"84b09e605b74ea1c8d9d0c0de14920b2\"\n",
    "# 인스턴스 생성하기\n",
    "fred = Fred(fred_api_key)"
   ]
  },
  {
   "cell_type": "code",
   "execution_count": 227,
   "id": "71f3ad98",
   "metadata": {},
   "outputs": [
    {
     "data": {
      "text/html": [
       "<div>\n",
       "<style scoped>\n",
       "    .dataframe tbody tr th:only-of-type {\n",
       "        vertical-align: middle;\n",
       "    }\n",
       "\n",
       "    .dataframe tbody tr th {\n",
       "        vertical-align: top;\n",
       "    }\n",
       "\n",
       "    .dataframe thead th {\n",
       "        text-align: right;\n",
       "    }\n",
       "</style>\n",
       "<table border=\"1\" class=\"dataframe\">\n",
       "  <thead>\n",
       "    <tr style=\"text-align: right;\">\n",
       "      <th></th>\n",
       "      <th>id</th>\n",
       "      <th>realtime_start</th>\n",
       "      <th>realtime_end</th>\n",
       "      <th>title</th>\n",
       "      <th>observation_start</th>\n",
       "      <th>observation_end</th>\n",
       "      <th>frequency</th>\n",
       "      <th>frequency_short</th>\n",
       "      <th>units</th>\n",
       "      <th>units_short</th>\n",
       "      <th>seasonal_adjustment</th>\n",
       "      <th>seasonal_adjustment_short</th>\n",
       "      <th>last_updated</th>\n",
       "      <th>popularity</th>\n",
       "      <th>group_popularity</th>\n",
       "      <th>notes</th>\n",
       "    </tr>\n",
       "  </thead>\n",
       "  <tbody>\n",
       "    <tr>\n",
       "      <th>1</th>\n",
       "      <td>CPIAUCNS</td>\n",
       "      <td>2023-10-10</td>\n",
       "      <td>2023-10-10</td>\n",
       "      <td>Consumer Price Index for All Urban Consumers: ...</td>\n",
       "      <td>1913-01-01</td>\n",
       "      <td>2023-08-01</td>\n",
       "      <td>Monthly</td>\n",
       "      <td>M</td>\n",
       "      <td>Index 1982-1984=100</td>\n",
       "      <td>Index 1982-1984=100</td>\n",
       "      <td>Not Seasonally Adjusted</td>\n",
       "      <td>NSA</td>\n",
       "      <td>2023-09-13 07:42:02-05</td>\n",
       "      <td>72</td>\n",
       "      <td>94</td>\n",
       "      <td>Handbook of Methods (https://www.bls.gov/opub/...</td>\n",
       "    </tr>\n",
       "  </tbody>\n",
       "</table>\n",
       "</div>"
      ],
      "text/plain": [
       "         id realtime_start realtime_end  \\\n",
       "1  CPIAUCNS     2023-10-10   2023-10-10   \n",
       "\n",
       "                                               title observation_start  \\\n",
       "1  Consumer Price Index for All Urban Consumers: ...        1913-01-01   \n",
       "\n",
       "  observation_end frequency frequency_short                units  \\\n",
       "1      2023-08-01   Monthly               M  Index 1982-1984=100   \n",
       "\n",
       "           units_short      seasonal_adjustment seasonal_adjustment_short  \\\n",
       "1  Index 1982-1984=100  Not Seasonally Adjusted                       NSA   \n",
       "\n",
       "             last_updated  popularity  group_popularity  \\\n",
       "1  2023-09-13 07:42:02-05          72                94   \n",
       "\n",
       "                                               notes  \n",
       "1  Handbook of Methods (https://www.bls.gov/opub/...  "
      ]
     },
     "execution_count": 227,
     "metadata": {},
     "output_type": "execute_result"
    }
   ],
   "source": [
    "search_text = \"consumer price index\"\n",
    "result = fred.get_data(api_name=\"series_search\", search_text=search_text)\n",
    "result.loc[result['id'] == \"CPIAUCNS\"]"
   ]
  },
  {
   "cell_type": "code",
   "execution_count": 228,
   "id": "0ea56be8",
   "metadata": {},
   "outputs": [
    {
     "data": {
      "text/html": [
       "<div>\n",
       "<style scoped>\n",
       "    .dataframe tbody tr th:only-of-type {\n",
       "        vertical-align: middle;\n",
       "    }\n",
       "\n",
       "    .dataframe tbody tr th {\n",
       "        vertical-align: top;\n",
       "    }\n",
       "\n",
       "    .dataframe thead th {\n",
       "        text-align: right;\n",
       "    }\n",
       "</style>\n",
       "<table border=\"1\" class=\"dataframe\">\n",
       "  <thead>\n",
       "    <tr style=\"text-align: right;\">\n",
       "      <th></th>\n",
       "      <th>realtime_start</th>\n",
       "      <th>realtime_end</th>\n",
       "      <th>date</th>\n",
       "      <th>value</th>\n",
       "    </tr>\n",
       "  </thead>\n",
       "  <tbody>\n",
       "    <tr>\n",
       "      <th>771</th>\n",
       "      <td>2023-10-10</td>\n",
       "      <td>2023-10-10</td>\n",
       "      <td>2023-04-01</td>\n",
       "      <td>20865.9</td>\n",
       "    </tr>\n",
       "    <tr>\n",
       "      <th>772</th>\n",
       "      <td>2023-10-10</td>\n",
       "      <td>2023-10-10</td>\n",
       "      <td>2023-05-01</td>\n",
       "      <td>20749.1</td>\n",
       "    </tr>\n",
       "    <tr>\n",
       "      <th>773</th>\n",
       "      <td>2023-10-10</td>\n",
       "      <td>2023-10-10</td>\n",
       "      <td>2023-06-01</td>\n",
       "      <td>20802.6</td>\n",
       "    </tr>\n",
       "    <tr>\n",
       "      <th>774</th>\n",
       "      <td>2023-10-10</td>\n",
       "      <td>2023-10-10</td>\n",
       "      <td>2023-07-01</td>\n",
       "      <td>20786.2</td>\n",
       "    </tr>\n",
       "    <tr>\n",
       "      <th>775</th>\n",
       "      <td>2023-10-10</td>\n",
       "      <td>2023-10-10</td>\n",
       "      <td>2023-08-01</td>\n",
       "      <td>20760.3</td>\n",
       "    </tr>\n",
       "  </tbody>\n",
       "</table>\n",
       "</div>"
      ],
      "text/plain": [
       "    realtime_start realtime_end        date    value\n",
       "771     2023-10-10   2023-10-10  2023-04-01  20865.9\n",
       "772     2023-10-10   2023-10-10  2023-05-01  20749.1\n",
       "773     2023-10-10   2023-10-10  2023-06-01  20802.6\n",
       "774     2023-10-10   2023-10-10  2023-07-01  20786.2\n",
       "775     2023-10-10   2023-10-10  2023-08-01  20760.3"
      ]
     },
     "execution_count": 228,
     "metadata": {},
     "output_type": "execute_result"
    }
   ],
   "source": [
    "# 시리즈 ID 값\n",
    "series_id = \"M2NS\"\n",
    "# 시리즈 데이터 조회\n",
    "M2NS = fred.get_data(api_name=\"series_observations\", series_id=series_id)\n",
    "M2NS.tail()"
   ]
  },
  {
   "cell_type": "code",
   "execution_count": 229,
   "id": "3b17cdfd",
   "metadata": {},
   "outputs": [],
   "source": [
    "M2NS = M2NS[['date', 'value']].rename(columns={'date':'시점', 'value':'미국M2'})"
   ]
  },
  {
   "cell_type": "code",
   "execution_count": 230,
   "id": "7e0fc1fb",
   "metadata": {},
   "outputs": [
    {
     "data": {
      "text/html": [
       "<div>\n",
       "<style scoped>\n",
       "    .dataframe tbody tr th:only-of-type {\n",
       "        vertical-align: middle;\n",
       "    }\n",
       "\n",
       "    .dataframe tbody tr th {\n",
       "        vertical-align: top;\n",
       "    }\n",
       "\n",
       "    .dataframe thead th {\n",
       "        text-align: right;\n",
       "    }\n",
       "</style>\n",
       "<table border=\"1\" class=\"dataframe\">\n",
       "  <thead>\n",
       "    <tr style=\"text-align: right;\">\n",
       "      <th></th>\n",
       "      <th>시점</th>\n",
       "      <th>미국M2</th>\n",
       "    </tr>\n",
       "  </thead>\n",
       "  <tbody>\n",
       "    <tr>\n",
       "      <th>0</th>\n",
       "      <td>1959-01-01</td>\n",
       "      <td>289.8</td>\n",
       "    </tr>\n",
       "    <tr>\n",
       "      <th>1</th>\n",
       "      <td>1959-02-01</td>\n",
       "      <td>287.7</td>\n",
       "    </tr>\n",
       "    <tr>\n",
       "      <th>2</th>\n",
       "      <td>1959-03-01</td>\n",
       "      <td>287.9</td>\n",
       "    </tr>\n",
       "    <tr>\n",
       "      <th>3</th>\n",
       "      <td>1959-04-01</td>\n",
       "      <td>290.2</td>\n",
       "    </tr>\n",
       "    <tr>\n",
       "      <th>4</th>\n",
       "      <td>1959-05-01</td>\n",
       "      <td>290.2</td>\n",
       "    </tr>\n",
       "    <tr>\n",
       "      <th>...</th>\n",
       "      <td>...</td>\n",
       "      <td>...</td>\n",
       "    </tr>\n",
       "    <tr>\n",
       "      <th>771</th>\n",
       "      <td>2023-04-01</td>\n",
       "      <td>20865.9</td>\n",
       "    </tr>\n",
       "    <tr>\n",
       "      <th>772</th>\n",
       "      <td>2023-05-01</td>\n",
       "      <td>20749.1</td>\n",
       "    </tr>\n",
       "    <tr>\n",
       "      <th>773</th>\n",
       "      <td>2023-06-01</td>\n",
       "      <td>20802.6</td>\n",
       "    </tr>\n",
       "    <tr>\n",
       "      <th>774</th>\n",
       "      <td>2023-07-01</td>\n",
       "      <td>20786.2</td>\n",
       "    </tr>\n",
       "    <tr>\n",
       "      <th>775</th>\n",
       "      <td>2023-08-01</td>\n",
       "      <td>20760.3</td>\n",
       "    </tr>\n",
       "  </tbody>\n",
       "</table>\n",
       "<p>776 rows × 2 columns</p>\n",
       "</div>"
      ],
      "text/plain": [
       "             시점     미국M2\n",
       "0    1959-01-01    289.8\n",
       "1    1959-02-01    287.7\n",
       "2    1959-03-01    287.9\n",
       "3    1959-04-01    290.2\n",
       "4    1959-05-01    290.2\n",
       "..          ...      ...\n",
       "771  2023-04-01  20865.9\n",
       "772  2023-05-01  20749.1\n",
       "773  2023-06-01  20802.6\n",
       "774  2023-07-01  20786.2\n",
       "775  2023-08-01  20760.3\n",
       "\n",
       "[776 rows x 2 columns]"
      ]
     },
     "execution_count": 230,
     "metadata": {},
     "output_type": "execute_result"
    }
   ],
   "source": [
    "M2NS"
   ]
  },
  {
   "cell_type": "markdown",
   "id": "2bcb0468",
   "metadata": {},
   "source": [
    "- USBIR 미국 기준금리"
   ]
  },
  {
   "cell_type": "code",
   "execution_count": 231,
   "id": "34d06ac3",
   "metadata": {},
   "outputs": [],
   "source": [
    "USBIR = ecos.get_statistic_search(통계표코드='902Y006', 주기=\"M\", 검색시작일자=\"200212\", 검색종료일자=\"202310\")"
   ]
  },
  {
   "cell_type": "code",
   "execution_count": 232,
   "id": "f10ddc05",
   "metadata": {},
   "outputs": [],
   "source": [
    "USBIR = USBIR.loc[USBIR['통계항목코드1'] == 'US'][['시점', '값']].rename(columns = {'값':'USBIR'})"
   ]
  },
  {
   "cell_type": "markdown",
   "id": "e85ed35d",
   "metadata": {},
   "source": [
    "- KOBIR 한국 기준금리"
   ]
  },
  {
   "cell_type": "code",
   "execution_count": 233,
   "id": "eb4646ee",
   "metadata": {},
   "outputs": [],
   "source": [
    "KOBIR = ecos.get_statistic_search(통계표코드='902Y006', 주기=\"M\", 검색시작일자=\"200212\", 검색종료일자=\"202310\")"
   ]
  },
  {
   "cell_type": "code",
   "execution_count": 234,
   "id": "2b5b3a1d",
   "metadata": {},
   "outputs": [],
   "source": [
    "KOBIR = KOBIR.loc[KOBIR['통계항목코드1'] == 'KR'][['시점', '값']].rename(columns = {'값':'KOBIR'})"
   ]
  },
  {
   "cell_type": "markdown",
   "id": "a1c3bdb7",
   "metadata": {},
   "source": [
    "- KOTN 한국 10년물 국채수익률"
   ]
  },
  {
   "cell_type": "code",
   "execution_count": 235,
   "id": "d21ca316",
   "metadata": {},
   "outputs": [],
   "source": [
    "# 한국 30년 국채수익률이 2013년부터 이므로 데이터가 적으니 10년물로 한다\n",
    "# 10년물은 2000년부터 데이터가 있다."
   ]
  },
  {
   "cell_type": "code",
   "execution_count": 236,
   "id": "7a050bc1",
   "metadata": {},
   "outputs": [],
   "source": [
    "KOTN = ecos.get_statistic_search(통계표코드='721Y001', 주기=\"M\", 검색시작일자=\"200212\", 검색종료일자=\"202310\")"
   ]
  },
  {
   "cell_type": "code",
   "execution_count": 237,
   "id": "bf0b7d5a",
   "metadata": {},
   "outputs": [],
   "source": [
    "KOTN = KOTN.loc[KOTN['통계항목코드1'] == '5050000'][['시점', '값']].rename(columns = {'값':'KOTN'})"
   ]
  },
  {
   "cell_type": "markdown",
   "id": "99f9a564",
   "metadata": {},
   "source": [
    "- USTN 미국 10년물 국채수익률"
   ]
  },
  {
   "cell_type": "code",
   "execution_count": 238,
   "id": "824f116d",
   "metadata": {},
   "outputs": [],
   "source": [
    "USTN = ecos.get_statistic_search(통계표코드='902Y001', 주기=\"M\", 검색시작일자=\"200212\", 검색종료일자=\"202310\")"
   ]
  },
  {
   "cell_type": "code",
   "execution_count": 239,
   "id": "658f148c",
   "metadata": {},
   "outputs": [],
   "source": [
    "USTN = USTN.loc[USTN['통계항목코드1'] == '1020403'][['시점', '값']].rename(columns = {'값':'USTN'})"
   ]
  },
  {
   "cell_type": "code",
   "execution_count": 240,
   "id": "338f91c8",
   "metadata": {},
   "outputs": [
    {
     "data": {
      "text/html": [
       "<div>\n",
       "<style scoped>\n",
       "    .dataframe tbody tr th:only-of-type {\n",
       "        vertical-align: middle;\n",
       "    }\n",
       "\n",
       "    .dataframe tbody tr th {\n",
       "        vertical-align: top;\n",
       "    }\n",
       "\n",
       "    .dataframe thead th {\n",
       "        text-align: right;\n",
       "    }\n",
       "</style>\n",
       "<table border=\"1\" class=\"dataframe\">\n",
       "  <thead>\n",
       "    <tr style=\"text-align: right;\">\n",
       "      <th></th>\n",
       "      <th>시점</th>\n",
       "      <th>USTN</th>\n",
       "    </tr>\n",
       "  </thead>\n",
       "  <tbody>\n",
       "    <tr>\n",
       "      <th>981</th>\n",
       "      <td>200212</td>\n",
       "      <td>3.816</td>\n",
       "    </tr>\n",
       "    <tr>\n",
       "      <th>982</th>\n",
       "      <td>200301</td>\n",
       "      <td>3.962</td>\n",
       "    </tr>\n",
       "    <tr>\n",
       "      <th>983</th>\n",
       "      <td>200302</td>\n",
       "      <td>3.69</td>\n",
       "    </tr>\n",
       "    <tr>\n",
       "      <th>984</th>\n",
       "      <td>200303</td>\n",
       "      <td>3.796</td>\n",
       "    </tr>\n",
       "    <tr>\n",
       "      <th>985</th>\n",
       "      <td>200304</td>\n",
       "      <td>3.836</td>\n",
       "    </tr>\n",
       "    <tr>\n",
       "      <th>...</th>\n",
       "      <td>...</td>\n",
       "      <td>...</td>\n",
       "    </tr>\n",
       "    <tr>\n",
       "      <th>1226</th>\n",
       "      <td>202305</td>\n",
       "      <td>3.643</td>\n",
       "    </tr>\n",
       "    <tr>\n",
       "      <th>1227</th>\n",
       "      <td>202306</td>\n",
       "      <td>3.837</td>\n",
       "    </tr>\n",
       "    <tr>\n",
       "      <th>1228</th>\n",
       "      <td>202307</td>\n",
       "      <td>3.959</td>\n",
       "    </tr>\n",
       "    <tr>\n",
       "      <th>1229</th>\n",
       "      <td>202308</td>\n",
       "      <td>4.108</td>\n",
       "    </tr>\n",
       "    <tr>\n",
       "      <th>1230</th>\n",
       "      <td>202309</td>\n",
       "      <td>4.571</td>\n",
       "    </tr>\n",
       "  </tbody>\n",
       "</table>\n",
       "<p>250 rows × 2 columns</p>\n",
       "</div>"
      ],
      "text/plain": [
       "          시점   USTN\n",
       "981   200212  3.816\n",
       "982   200301  3.962\n",
       "983   200302   3.69\n",
       "984   200303  3.796\n",
       "985   200304  3.836\n",
       "...      ...    ...\n",
       "1226  202305  3.643\n",
       "1227  202306  3.837\n",
       "1228  202307  3.959\n",
       "1229  202308  4.108\n",
       "1230  202309  4.571\n",
       "\n",
       "[250 rows x 2 columns]"
      ]
     },
     "execution_count": 240,
     "metadata": {},
     "output_type": "execute_result"
    }
   ],
   "source": [
    "USTN"
   ]
  },
  {
   "cell_type": "markdown",
   "id": "d4589b5f",
   "metadata": {},
   "source": [
    "- Droped KORIBOR 한국 RIBOR 금리"
   ]
  },
  {
   "cell_type": "code",
   "execution_count": 241,
   "id": "8f5f908b",
   "metadata": {},
   "outputs": [],
   "source": [
    "# KORIBOR=ecos.get_statistic_search(통계표코드='902Y001', 주기=\"M\", 검색시작일자=\"200212\", 검색종료일자=\"202310\")"
   ]
  },
  {
   "cell_type": "code",
   "execution_count": 242,
   "id": "3303e038",
   "metadata": {},
   "outputs": [],
   "source": [
    "# KORIBOR = KORIBOR.loc[KORIBOR['통계항목코드1'] == '1010205'][['시점', '값']].rename(columns = {'값':'KORIBOR'})"
   ]
  },
  {
   "cell_type": "markdown",
   "id": "a4a7c6b0",
   "metadata": {},
   "source": [
    "- Droped USROBOR 미국 RIBOR 금리"
   ]
  },
  {
   "cell_type": "code",
   "execution_count": 243,
   "id": "a0bc9f56",
   "metadata": {},
   "outputs": [],
   "source": [
    "# USRIBOR = ecos.get_statistic_search(통계표코드='902Y001', 주기=\"M\", 검색시작일자=\"200212\", 검색종료일자=\"202310\")"
   ]
  },
  {
   "cell_type": "code",
   "execution_count": 244,
   "id": "3435dd46",
   "metadata": {},
   "outputs": [],
   "source": [
    "# USRIBOR = USRIBOR.loc[USRIBOR['통계항목코드1'] == '1030401'][['시점', '값']].rename(columns = {'값':'USRIBOR'})"
   ]
  },
  {
   "cell_type": "code",
   "execution_count": 245,
   "id": "41db6b19",
   "metadata": {},
   "outputs": [],
   "source": [
    "# USRIBOR"
   ]
  },
  {
   "cell_type": "markdown",
   "id": "b619b207",
   "metadata": {},
   "source": [
    "- REGEXTOTUSD 달러결제수출금액"
   ]
  },
  {
   "cell_type": "code",
   "execution_count": 246,
   "id": "1896f17f",
   "metadata": {},
   "outputs": [],
   "source": [
    "REGEXTOTUSD = ecos.get_statistic_search(통계표코드='303Y001', 주기=\"M\", 검색시작일자=\"200212\", 검색종료일자=\"202310\")"
   ]
  },
  {
   "cell_type": "code",
   "execution_count": 247,
   "id": "5ecd0b5c",
   "metadata": {},
   "outputs": [],
   "source": [
    "# REGEXTOTUSD = \n",
    "REGEXTOTUSD = REGEXTOTUSD.loc[REGEXTOTUSD['통계항목코드1'] == 'REGEXTOTUSD'].loc[REGEXTOTUSD['통계항목코드2'] == 'AMT'][['시점', '값']].rename(columns = {'값':'달러결제수출금액'})"
   ]
  },
  {
   "cell_type": "code",
   "execution_count": 248,
   "id": "72be25ee",
   "metadata": {},
   "outputs": [
    {
     "data": {
      "text/html": [
       "<div>\n",
       "<style scoped>\n",
       "    .dataframe tbody tr th:only-of-type {\n",
       "        vertical-align: middle;\n",
       "    }\n",
       "\n",
       "    .dataframe tbody tr th {\n",
       "        vertical-align: top;\n",
       "    }\n",
       "\n",
       "    .dataframe thead th {\n",
       "        text-align: right;\n",
       "    }\n",
       "</style>\n",
       "<table border=\"1\" class=\"dataframe\">\n",
       "  <thead>\n",
       "    <tr style=\"text-align: right;\">\n",
       "      <th></th>\n",
       "      <th>시점</th>\n",
       "      <th>달러결제수출금액</th>\n",
       "    </tr>\n",
       "  </thead>\n",
       "  <tbody>\n",
       "    <tr>\n",
       "      <th>85</th>\n",
       "      <td>200212</td>\n",
       "      <td>13006.3</td>\n",
       "    </tr>\n",
       "    <tr>\n",
       "      <th>229</th>\n",
       "      <td>200301</td>\n",
       "      <td>12274.1</td>\n",
       "    </tr>\n",
       "    <tr>\n",
       "      <th>271</th>\n",
       "      <td>200302</td>\n",
       "      <td>11373.2</td>\n",
       "    </tr>\n",
       "    <tr>\n",
       "      <th>430</th>\n",
       "      <td>200303</td>\n",
       "      <td>13201.6</td>\n",
       "    </tr>\n",
       "    <tr>\n",
       "      <th>558</th>\n",
       "      <td>200304</td>\n",
       "      <td>13417.3</td>\n",
       "    </tr>\n",
       "    <tr>\n",
       "      <th>...</th>\n",
       "      <td>...</td>\n",
       "      <td>...</td>\n",
       "    </tr>\n",
       "    <tr>\n",
       "      <th>34922</th>\n",
       "      <td>202208</td>\n",
       "      <td>48689.5</td>\n",
       "    </tr>\n",
       "    <tr>\n",
       "      <th>35008</th>\n",
       "      <td>202209</td>\n",
       "      <td>48955.1</td>\n",
       "    </tr>\n",
       "    <tr>\n",
       "      <th>35260</th>\n",
       "      <td>202210</td>\n",
       "      <td>44748.6</td>\n",
       "    </tr>\n",
       "    <tr>\n",
       "      <th>35323</th>\n",
       "      <td>202211</td>\n",
       "      <td>43660.8</td>\n",
       "    </tr>\n",
       "    <tr>\n",
       "      <th>35563</th>\n",
       "      <td>202212</td>\n",
       "      <td>45861.6</td>\n",
       "    </tr>\n",
       "  </tbody>\n",
       "</table>\n",
       "<p>241 rows × 2 columns</p>\n",
       "</div>"
      ],
      "text/plain": [
       "           시점 달러결제수출금액\n",
       "85     200212  13006.3\n",
       "229    200301  12274.1\n",
       "271    200302  11373.2\n",
       "430    200303  13201.6\n",
       "558    200304  13417.3\n",
       "...       ...      ...\n",
       "34922  202208  48689.5\n",
       "35008  202209  48955.1\n",
       "35260  202210  44748.6\n",
       "35323  202211  43660.8\n",
       "35563  202212  45861.6\n",
       "\n",
       "[241 rows x 2 columns]"
      ]
     },
     "execution_count": 248,
     "metadata": {},
     "output_type": "execute_result"
    }
   ],
   "source": [
    "REGEXTOTUSD"
   ]
  },
  {
   "cell_type": "markdown",
   "id": "f38f8126",
   "metadata": {},
   "source": [
    "- REGIMTOTUSD 달러결제수입금액"
   ]
  },
  {
   "cell_type": "code",
   "execution_count": 249,
   "id": "ec93ac73",
   "metadata": {},
   "outputs": [],
   "source": [
    "REGIMTOTUSD = ecos.get_statistic_search(통계표코드='303Y004', 주기=\"M\", 검색시작일자=\"200212\", 검색종료일자=\"202310\")"
   ]
  },
  {
   "cell_type": "code",
   "execution_count": 250,
   "id": "56fc59dd",
   "metadata": {},
   "outputs": [],
   "source": [
    "REGIMTOTUSD = REGIMTOTUSD.loc[REGIMTOTUSD['통계항목코드1'] == 'REGIMTOTUSD'].loc[REGIMTOTUSD['통계항목코드2'] == 'AMT'][['시점', '값']].rename(columns = {'값':'달러결제수입금액'})"
   ]
  },
  {
   "cell_type": "code",
   "execution_count": 251,
   "id": "1d67514f",
   "metadata": {},
   "outputs": [
    {
     "data": {
      "text/html": [
       "<div>\n",
       "<style scoped>\n",
       "    .dataframe tbody tr th:only-of-type {\n",
       "        vertical-align: middle;\n",
       "    }\n",
       "\n",
       "    .dataframe tbody tr th {\n",
       "        vertical-align: top;\n",
       "    }\n",
       "\n",
       "    .dataframe thead th {\n",
       "        text-align: right;\n",
       "    }\n",
       "</style>\n",
       "<table border=\"1\" class=\"dataframe\">\n",
       "  <thead>\n",
       "    <tr style=\"text-align: right;\">\n",
       "      <th></th>\n",
       "      <th>시점</th>\n",
       "      <th>달러결제수입금액</th>\n",
       "    </tr>\n",
       "  </thead>\n",
       "  <tbody>\n",
       "    <tr>\n",
       "      <th>55</th>\n",
       "      <td>200212</td>\n",
       "      <td>11063.3</td>\n",
       "    </tr>\n",
       "    <tr>\n",
       "      <th>202</th>\n",
       "      <td>200301</td>\n",
       "      <td>11545.6</td>\n",
       "    </tr>\n",
       "    <tr>\n",
       "      <th>338</th>\n",
       "      <td>200302</td>\n",
       "      <td>10549.5</td>\n",
       "    </tr>\n",
       "    <tr>\n",
       "      <th>430</th>\n",
       "      <td>200303</td>\n",
       "      <td>12351.8</td>\n",
       "    </tr>\n",
       "    <tr>\n",
       "      <th>611</th>\n",
       "      <td>200304</td>\n",
       "      <td>11325.3</td>\n",
       "    </tr>\n",
       "    <tr>\n",
       "      <th>...</th>\n",
       "      <td>...</td>\n",
       "      <td>...</td>\n",
       "    </tr>\n",
       "    <tr>\n",
       "      <th>34704</th>\n",
       "      <td>202208</td>\n",
       "      <td>55181.8</td>\n",
       "    </tr>\n",
       "    <tr>\n",
       "      <th>34804</th>\n",
       "      <td>202209</td>\n",
       "      <td>51457.7</td>\n",
       "    </tr>\n",
       "    <tr>\n",
       "      <th>35053</th>\n",
       "      <td>202210</td>\n",
       "      <td>49349.4</td>\n",
       "    </tr>\n",
       "    <tr>\n",
       "      <th>35230</th>\n",
       "      <td>202211</td>\n",
       "      <td>48129</td>\n",
       "    </tr>\n",
       "    <tr>\n",
       "      <th>35338</th>\n",
       "      <td>202212</td>\n",
       "      <td>47994.5</td>\n",
       "    </tr>\n",
       "  </tbody>\n",
       "</table>\n",
       "<p>241 rows × 2 columns</p>\n",
       "</div>"
      ],
      "text/plain": [
       "           시점 달러결제수입금액\n",
       "55     200212  11063.3\n",
       "202    200301  11545.6\n",
       "338    200302  10549.5\n",
       "430    200303  12351.8\n",
       "611    200304  11325.3\n",
       "...       ...      ...\n",
       "34704  202208  55181.8\n",
       "34804  202209  51457.7\n",
       "35053  202210  49349.4\n",
       "35230  202211    48129\n",
       "35338  202212  47994.5\n",
       "\n",
       "[241 rows x 2 columns]"
      ]
     },
     "execution_count": 251,
     "metadata": {},
     "output_type": "execute_result"
    }
   ],
   "source": [
    "REGIMTOTUSD"
   ]
  },
  {
   "cell_type": "markdown",
   "id": "19584183",
   "metadata": {},
   "source": [
    "- EXUSDR 달러결제수출비율"
   ]
  },
  {
   "cell_type": "code",
   "execution_count": 252,
   "id": "e33e8949",
   "metadata": {},
   "outputs": [],
   "source": [
    "EXUSDR = ecos.get_statistic_search(통계표코드='303Y001', 주기=\"M\", 검색시작일자=\"200212\", 검색종료일자=\"202310\")"
   ]
  },
  {
   "cell_type": "code",
   "execution_count": 253,
   "id": "64028ef4",
   "metadata": {},
   "outputs": [],
   "source": [
    "EXUSDR = EXUSDR.loc[EXUSDR['통계항목코드1'] == 'REGEXTOTUSD'].loc[EXUSDR['통계항목코드2'] == 'RATIO'][['시점', '값']].rename(columns = {'값':'달러결제수출비율'})"
   ]
  },
  {
   "cell_type": "code",
   "execution_count": 254,
   "id": "533b83c4",
   "metadata": {},
   "outputs": [
    {
     "data": {
      "text/html": [
       "<div>\n",
       "<style scoped>\n",
       "    .dataframe tbody tr th:only-of-type {\n",
       "        vertical-align: middle;\n",
       "    }\n",
       "\n",
       "    .dataframe tbody tr th {\n",
       "        vertical-align: top;\n",
       "    }\n",
       "\n",
       "    .dataframe thead th {\n",
       "        text-align: right;\n",
       "    }\n",
       "</style>\n",
       "<table border=\"1\" class=\"dataframe\">\n",
       "  <thead>\n",
       "    <tr style=\"text-align: right;\">\n",
       "      <th></th>\n",
       "      <th>시점</th>\n",
       "      <th>달러결제수출비율</th>\n",
       "    </tr>\n",
       "  </thead>\n",
       "  <tbody>\n",
       "    <tr>\n",
       "      <th>86</th>\n",
       "      <td>200212</td>\n",
       "      <td>86.6</td>\n",
       "    </tr>\n",
       "    <tr>\n",
       "      <th>230</th>\n",
       "      <td>200301</td>\n",
       "      <td>85.7</td>\n",
       "    </tr>\n",
       "    <tr>\n",
       "      <th>272</th>\n",
       "      <td>200302</td>\n",
       "      <td>85.3</td>\n",
       "    </tr>\n",
       "    <tr>\n",
       "      <th>474</th>\n",
       "      <td>200303</td>\n",
       "      <td>85.8</td>\n",
       "    </tr>\n",
       "    <tr>\n",
       "      <th>559</th>\n",
       "      <td>200304</td>\n",
       "      <td>85.3</td>\n",
       "    </tr>\n",
       "    <tr>\n",
       "      <th>...</th>\n",
       "      <td>...</td>\n",
       "      <td>...</td>\n",
       "    </tr>\n",
       "    <tr>\n",
       "      <th>34923</th>\n",
       "      <td>202208</td>\n",
       "      <td>86</td>\n",
       "    </tr>\n",
       "    <tr>\n",
       "      <th>35009</th>\n",
       "      <td>202209</td>\n",
       "      <td>85.6</td>\n",
       "    </tr>\n",
       "    <tr>\n",
       "      <th>35261</th>\n",
       "      <td>202210</td>\n",
       "      <td>85.4</td>\n",
       "    </tr>\n",
       "    <tr>\n",
       "      <th>35324</th>\n",
       "      <td>202211</td>\n",
       "      <td>84.3</td>\n",
       "    </tr>\n",
       "    <tr>\n",
       "      <th>35564</th>\n",
       "      <td>202212</td>\n",
       "      <td>83.6</td>\n",
       "    </tr>\n",
       "  </tbody>\n",
       "</table>\n",
       "<p>241 rows × 2 columns</p>\n",
       "</div>"
      ],
      "text/plain": [
       "           시점 달러결제수출비율\n",
       "86     200212     86.6\n",
       "230    200301     85.7\n",
       "272    200302     85.3\n",
       "474    200303     85.8\n",
       "559    200304     85.3\n",
       "...       ...      ...\n",
       "34923  202208       86\n",
       "35009  202209     85.6\n",
       "35261  202210     85.4\n",
       "35324  202211     84.3\n",
       "35564  202212     83.6\n",
       "\n",
       "[241 rows x 2 columns]"
      ]
     },
     "execution_count": 254,
     "metadata": {},
     "output_type": "execute_result"
    }
   ],
   "source": [
    "EXUSDR"
   ]
  },
  {
   "cell_type": "markdown",
   "id": "a332e2c5",
   "metadata": {},
   "source": [
    "- IMUSDR 달러결제수입비율"
   ]
  },
  {
   "cell_type": "code",
   "execution_count": 255,
   "id": "fc6d0f51",
   "metadata": {},
   "outputs": [],
   "source": [
    "IMUSDR = ecos.get_statistic_search(통계표코드='303Y004', 주기=\"M\", 검색시작일자=\"200212\", 검색종료일자=\"202310\")"
   ]
  },
  {
   "cell_type": "code",
   "execution_count": 256,
   "id": "d1938a09",
   "metadata": {},
   "outputs": [],
   "source": [
    "IMUSDR = IMUSDR.loc[IMUSDR['통계항목코드1'] == 'REGIMTOTUSD'].loc[IMUSDR['통계항목코드2'] == 'RATIO'][['시점', '값']].rename(columns = {'값':'달러결제수입비율'})"
   ]
  },
  {
   "cell_type": "code",
   "execution_count": 257,
   "id": "feb1ab50",
   "metadata": {},
   "outputs": [
    {
     "data": {
      "text/html": [
       "<div>\n",
       "<style scoped>\n",
       "    .dataframe tbody tr th:only-of-type {\n",
       "        vertical-align: middle;\n",
       "    }\n",
       "\n",
       "    .dataframe tbody tr th {\n",
       "        vertical-align: top;\n",
       "    }\n",
       "\n",
       "    .dataframe thead th {\n",
       "        text-align: right;\n",
       "    }\n",
       "</style>\n",
       "<table border=\"1\" class=\"dataframe\">\n",
       "  <thead>\n",
       "    <tr style=\"text-align: right;\">\n",
       "      <th></th>\n",
       "      <th>시점</th>\n",
       "      <th>달러결제수입비율</th>\n",
       "    </tr>\n",
       "  </thead>\n",
       "  <tbody>\n",
       "    <tr>\n",
       "      <th>56</th>\n",
       "      <td>200212</td>\n",
       "      <td>76.6</td>\n",
       "    </tr>\n",
       "    <tr>\n",
       "      <th>203</th>\n",
       "      <td>200301</td>\n",
       "      <td>79.7</td>\n",
       "    </tr>\n",
       "    <tr>\n",
       "      <th>339</th>\n",
       "      <td>200302</td>\n",
       "      <td>76.1</td>\n",
       "    </tr>\n",
       "    <tr>\n",
       "      <th>431</th>\n",
       "      <td>200303</td>\n",
       "      <td>77.8</td>\n",
       "    </tr>\n",
       "    <tr>\n",
       "      <th>612</th>\n",
       "      <td>200304</td>\n",
       "      <td>76.7</td>\n",
       "    </tr>\n",
       "    <tr>\n",
       "      <th>...</th>\n",
       "      <td>...</td>\n",
       "      <td>...</td>\n",
       "    </tr>\n",
       "    <tr>\n",
       "      <th>34705</th>\n",
       "      <td>202208</td>\n",
       "      <td>83.6</td>\n",
       "    </tr>\n",
       "    <tr>\n",
       "      <th>34805</th>\n",
       "      <td>202209</td>\n",
       "      <td>84.3</td>\n",
       "    </tr>\n",
       "    <tr>\n",
       "      <th>35054</th>\n",
       "      <td>202210</td>\n",
       "      <td>83.4</td>\n",
       "    </tr>\n",
       "    <tr>\n",
       "      <th>35231</th>\n",
       "      <td>202211</td>\n",
       "      <td>81.8</td>\n",
       "    </tr>\n",
       "    <tr>\n",
       "      <th>35339</th>\n",
       "      <td>202212</td>\n",
       "      <td>80.5</td>\n",
       "    </tr>\n",
       "  </tbody>\n",
       "</table>\n",
       "<p>241 rows × 2 columns</p>\n",
       "</div>"
      ],
      "text/plain": [
       "           시점 달러결제수입비율\n",
       "56     200212     76.6\n",
       "203    200301     79.7\n",
       "339    200302     76.1\n",
       "431    200303     77.8\n",
       "612    200304     76.7\n",
       "...       ...      ...\n",
       "34705  202208     83.6\n",
       "34805  202209     84.3\n",
       "35054  202210     83.4\n",
       "35231  202211     81.8\n",
       "35339  202212     80.5\n",
       "\n",
       "[241 rows x 2 columns]"
      ]
     },
     "execution_count": 257,
     "metadata": {},
     "output_type": "execute_result"
    }
   ],
   "source": [
    "IMUSDR"
   ]
  },
  {
   "cell_type": "markdown",
   "id": "7056faf4",
   "metadata": {},
   "source": [
    "- droped KOPPI 한국생산자물가지수"
   ]
  },
  {
   "cell_type": "code",
   "execution_count": 258,
   "id": "3fb79a8c",
   "metadata": {},
   "outputs": [],
   "source": [
    "# KOPPI = ecos.get_statistic_search(통계표코드='902Y007', 주기=\"M\", 검색시작일자=\"200212\", 검색종료일자=\"202310\")"
   ]
  },
  {
   "cell_type": "code",
   "execution_count": 259,
   "id": "0f2c07b8",
   "metadata": {},
   "outputs": [],
   "source": [
    "# KOPPI = KOPPI.loc[KOPPI['통계항목코드1'] == 'KR'][['시점', '값']].rename(columns = {'값':'한국생산자물가지수'})"
   ]
  },
  {
   "cell_type": "markdown",
   "id": "323f6cf0",
   "metadata": {},
   "source": [
    "- droped USPPI 미국생산자물가지수"
   ]
  },
  {
   "cell_type": "code",
   "execution_count": 260,
   "id": "c93e70cf",
   "metadata": {},
   "outputs": [],
   "source": [
    "# USPPI = ecos.get_statistic_search(통계표코드='902Y007', 주기=\"M\", 검색시작일자=\"200212\", 검색종료일자=\"202310\")"
   ]
  },
  {
   "cell_type": "code",
   "execution_count": 261,
   "id": "7f90519c",
   "metadata": {},
   "outputs": [],
   "source": [
    "# USPPI = USPPI.loc[USPPI['통계항목코드1'] == 'US'][['시점', '값']].rename(columns = {'값':'미국생산자물가지수'})"
   ]
  },
  {
   "cell_type": "markdown",
   "id": "eaccb957",
   "metadata": {},
   "source": [
    "- Droped KOCAB 한국경상수지"
   ]
  },
  {
   "cell_type": "code",
   "execution_count": 262,
   "id": "0ed9beb5",
   "metadata": {},
   "outputs": [],
   "source": [
    "# KOCAB = ecos.get_statistic_search(통계표코드='902Y007', 주기=\"M\", 검색시작일자=\"200212\", 검색종료일자=\"202310\")"
   ]
  },
  {
   "cell_type": "code",
   "execution_count": 263,
   "id": "1c2f2cef",
   "metadata": {},
   "outputs": [],
   "source": [
    "# KOCAB = KOCAB.loc[KOCAB['통계항목코드1'] == 'KR'][['시점', '값']].rename(columns = {'값':'한국경상수지'})"
   ]
  },
  {
   "cell_type": "markdown",
   "id": "fbe09b6b",
   "metadata": {},
   "source": [
    "- Droped USCAB 미국경상수지"
   ]
  },
  {
   "cell_type": "code",
   "execution_count": 264,
   "id": "c4f79844",
   "metadata": {},
   "outputs": [],
   "source": [
    "# USCAB = ecos.get_statistic_search(통계표코드='902Y007', 주기=\"M\", 검색시작일자=\"200212\", 검색종료일자=\"202310\")"
   ]
  },
  {
   "cell_type": "code",
   "execution_count": 265,
   "id": "16e36adf",
   "metadata": {},
   "outputs": [],
   "source": [
    "# USCAB = USCAB.loc[USCAB['통계항목코드1'] == 'KR'][['시점', '값']].rename(columns = {'값':'미국경상수지'})"
   ]
  },
  {
   "cell_type": "markdown",
   "id": "d6a1b227",
   "metadata": {},
   "source": [
    "- droped KOFER 한국외환보유액"
   ]
  },
  {
   "cell_type": "code",
   "execution_count": 266,
   "id": "83a0d261",
   "metadata": {},
   "outputs": [],
   "source": [
    "# KOFER = ecos.get_statistic_search(통계표코드='902Y014', 주기=\"M\", 검색시작일자=\"200212\", 검색종료일자=\"202310\")"
   ]
  },
  {
   "cell_type": "code",
   "execution_count": 267,
   "id": "151f7fd3",
   "metadata": {},
   "outputs": [],
   "source": [
    "# KOFER = KOFER.loc[KOFER['통계항목코드1'] == 'KR'][['시점', '값']].rename(columns = {'값':'한국외환보유액'})"
   ]
  },
  {
   "cell_type": "markdown",
   "id": "3ef65741",
   "metadata": {},
   "source": [
    "- Droped USFER 미국외환보유액"
   ]
  },
  {
   "cell_type": "code",
   "execution_count": 268,
   "id": "0ad58d94",
   "metadata": {},
   "outputs": [],
   "source": [
    "# USFER = ecos.get_statistic_search(통계표코드='902Y014', 주기=\"M\", 검색시작일자=\"200212\", 검색종료일자=\"202310\")"
   ]
  },
  {
   "cell_type": "code",
   "execution_count": 269,
   "id": "3e610c4c",
   "metadata": {},
   "outputs": [],
   "source": [
    "# USFER = USFER.loc[USFER['통계항목코드1'] == 'US'][['시점', '값']].rename(columns = {'값':'미국외환보유액'})"
   ]
  },
  {
   "cell_type": "markdown",
   "id": "4314725f",
   "metadata": {},
   "source": [
    "- droped KOIPI 한국산업생산자지수"
   ]
  },
  {
   "cell_type": "code",
   "execution_count": 270,
   "id": "f29b058d",
   "metadata": {},
   "outputs": [],
   "source": [
    "# KOIPI = ecos.get_statistic_search(통계표코드='902Y020', 주기=\"M\", 검색시작일자=\"200212\", 검색종료일자=\"202310\")"
   ]
  },
  {
   "cell_type": "code",
   "execution_count": 271,
   "id": "3cf01cf4",
   "metadata": {},
   "outputs": [],
   "source": [
    "# KOIPI = KOIPI.loc[KOIPI['통계항목코드1'] == 'KOR'][['시점', '값']].rename(columns = {'값':'한국산업생산지수'})"
   ]
  },
  {
   "cell_type": "markdown",
   "id": "1a240207",
   "metadata": {},
   "source": [
    "- droped USIPI 미국산업생산지수"
   ]
  },
  {
   "cell_type": "code",
   "execution_count": 272,
   "id": "64005845",
   "metadata": {},
   "outputs": [],
   "source": [
    "# USIPI = ecos.get_statistic_search(통계표코드='902Y020', 주기=\"M\", 검색시작일자=\"200212\", 검색종료일자=\"202310\")"
   ]
  },
  {
   "cell_type": "code",
   "execution_count": 273,
   "id": "76d09c31",
   "metadata": {},
   "outputs": [],
   "source": [
    "# USIPI = USIPI.loc[USIPI['통계항목코드1'] == 'USA'][['시점', '값']].rename(columns = {'값':'미국산업생산지수'})"
   ]
  },
  {
   "cell_type": "markdown",
   "id": "bed790a7",
   "metadata": {},
   "source": [
    "- KOUR 한국실업률"
   ]
  },
  {
   "cell_type": "code",
   "execution_count": 274,
   "id": "5b4d383e",
   "metadata": {},
   "outputs": [],
   "source": [
    "KOUR = ecos.get_statistic_search(통계표코드='902Y021', 주기=\"M\", 검색시작일자=\"200212\", 검색종료일자=\"202310\")"
   ]
  },
  {
   "cell_type": "code",
   "execution_count": 275,
   "id": "a342b717",
   "metadata": {},
   "outputs": [],
   "source": [
    "KOUR = KOUR.loc[KOUR['통계항목코드1'] == 'KOR'][['시점', '값']].rename(columns = {'값':'한국실업률'})"
   ]
  },
  {
   "cell_type": "markdown",
   "id": "e0fb0df2",
   "metadata": {},
   "source": [
    "- USUR 미국실업률"
   ]
  },
  {
   "cell_type": "code",
   "execution_count": 276,
   "id": "1fccc676",
   "metadata": {},
   "outputs": [],
   "source": [
    "USUR = ecos.get_statistic_search(통계표코드='902Y021', 주기=\"M\", 검색시작일자=\"200212\", 검색종료일자=\"202310\")"
   ]
  },
  {
   "cell_type": "code",
   "execution_count": 277,
   "id": "2514f350",
   "metadata": {},
   "outputs": [],
   "source": [
    "USUR = USUR.loc[USUR['통계항목코드1'] == 'USA'][['시점', '값']].rename(columns = {'값':'미국실업률'})"
   ]
  },
  {
   "cell_type": "markdown",
   "id": "5db6722f",
   "metadata": {},
   "source": [
    "- droped KOSPI"
   ]
  },
  {
   "cell_type": "code",
   "execution_count": 278,
   "id": "65571356",
   "metadata": {},
   "outputs": [],
   "source": [
    "# KOSPI = ecos.get_statistic_search(통계표코드='902Y002', 주기=\"M\", 검색시작일자=\"200212\", 검색종료일자=\"202310\")"
   ]
  },
  {
   "cell_type": "code",
   "execution_count": 279,
   "id": "f452298d",
   "metadata": {},
   "outputs": [],
   "source": [
    "# KOSPI = KOSPI.loc[KOSPI['통계항목코드1'] == '3010101'][['시점', '값']].rename(columns = {'값':'KOSPI'})"
   ]
  },
  {
   "cell_type": "markdown",
   "id": "6bba5439",
   "metadata": {},
   "source": [
    "- droped DJI Dow Jones"
   ]
  },
  {
   "cell_type": "code",
   "execution_count": 280,
   "id": "bdb8a394",
   "metadata": {},
   "outputs": [],
   "source": [
    "# DJI = ecos.get_statistic_search(통계표코드='902Y002', 주기=\"M\", 검색시작일자=\"200212\", 검색종료일자=\"202310\")"
   ]
  },
  {
   "cell_type": "code",
   "execution_count": 281,
   "id": "5f757041",
   "metadata": {},
   "outputs": [],
   "source": [
    "# DJI = DJI.loc[DJI['통계항목코드1'] == '3020101'][['시점', '값']].rename(columns = {'값':'Dow Jones'})"
   ]
  },
  {
   "cell_type": "markdown",
   "id": "8fb74943",
   "metadata": {},
   "source": [
    "# 데이터 병합"
   ]
  },
  {
   "cell_type": "markdown",
   "id": "4f7056c6",
   "metadata": {},
   "source": [
    "- 시점 일치"
   ]
  },
  {
   "cell_type": "code",
   "execution_count": 282,
   "id": "e16409c6",
   "metadata": {},
   "outputs": [],
   "source": [
    "from datetime import datetime, timedelta\n",
    "from dateutil.relativedelta import relativedelta"
   ]
  },
  {
   "cell_type": "code",
   "execution_count": 283,
   "id": "074a61dc",
   "metadata": {},
   "outputs": [],
   "source": [
    "# 이번 달의 월말 데이터로 다음 달의 원/달러 환율을 예측할 것이므로 label인 원/달러 종가를 당긴다\n",
    "KRWUSD['시점'] = pd.to_datetime(KRWUSD['시점'], format='%Y%m').apply(lambda X: X - relativedelta(months=1)).dt.strftime('%Y%m')"
   ]
  },
  {
   "cell_type": "code",
   "execution_count": 284,
   "id": "3b684c6c",
   "metadata": {},
   "outputs": [],
   "source": [
    "# 값은 해당 월에 대한 전망치를 담았으니 데이터를 전망을 한 시점인 한 달 전으로 변경\n",
    "# BM['시점'] = pd.to_datetime(BM['시점'], format='%Y%m').apply(lambda X: X - relativedelta(months=1)).dt.strftime('%Y%m')"
   ]
  },
  {
   "cell_type": "code",
   "execution_count": 285,
   "id": "5be9f4da",
   "metadata": {},
   "outputs": [],
   "source": [
    "# 값은 해당 월에 대한 전망치를 담았으니 데이터를 전망을 한 시점인 한 달 전으로 변경\n",
    "# BN['시점'] = pd.to_datetime(BN['시점'], format='%Y%m').apply(lambda X: X - relativedelta(months=1)).dt.strftime('%Y%m')"
   ]
  },
  {
   "cell_type": "code",
   "execution_count": 286,
   "id": "7856237b",
   "metadata": {},
   "outputs": [],
   "source": [
    "# 형식을 통일\n",
    "M2NS['시점'] = pd.to_datetime(M2NS['시점'], infer_datetime_format=True).dt.strftime('%Y%m')"
   ]
  },
  {
   "cell_type": "markdown",
   "id": "ac9d5818",
   "metadata": {},
   "source": [
    "- 병합"
   ]
  },
  {
   "cell_type": "code",
   "execution_count": 287,
   "id": "f1cc93b0",
   "metadata": {},
   "outputs": [
    {
     "data": {
      "text/html": [
       "<div>\n",
       "<style scoped>\n",
       "    .dataframe tbody tr th:only-of-type {\n",
       "        vertical-align: middle;\n",
       "    }\n",
       "\n",
       "    .dataframe tbody tr th {\n",
       "        vertical-align: top;\n",
       "    }\n",
       "\n",
       "    .dataframe thead th {\n",
       "        text-align: right;\n",
       "    }\n",
       "</style>\n",
       "<table border=\"1\" class=\"dataframe\">\n",
       "  <thead>\n",
       "    <tr style=\"text-align: right;\">\n",
       "      <th></th>\n",
       "      <th>시점</th>\n",
       "      <th>KRW/USD</th>\n",
       "      <th>경제심리지수(원계열)</th>\n",
       "      <th>뉴스심리지수</th>\n",
       "      <th>원자재구입가격실적</th>\n",
       "      <th>M2(말잔, 원계열)</th>\n",
       "      <th>미국M2</th>\n",
       "      <th>USBIR</th>\n",
       "      <th>KOBIR</th>\n",
       "      <th>KOTN</th>\n",
       "      <th>USTN</th>\n",
       "      <th>달러결제수출금액</th>\n",
       "      <th>달러결제수입금액</th>\n",
       "      <th>달러결제수출비율</th>\n",
       "      <th>달러결제수입비율</th>\n",
       "      <th>한국실업률</th>\n",
       "      <th>미국실업률</th>\n",
       "    </tr>\n",
       "  </thead>\n",
       "  <tbody>\n",
       "    <tr>\n",
       "      <th>0</th>\n",
       "      <td>200501</td>\n",
       "      <td>1006</td>\n",
       "      <td>95.3</td>\n",
       "      <td>106.39</td>\n",
       "      <td>125</td>\n",
       "      <td>951377.5</td>\n",
       "      <td>6404.1</td>\n",
       "      <td>2.25</td>\n",
       "      <td>3.25</td>\n",
       "      <td>4.42</td>\n",
       "      <td>4.128</td>\n",
       "      <td>18478.7</td>\n",
       "      <td>15159.4</td>\n",
       "      <td>82.3</td>\n",
       "      <td>77.9</td>\n",
       "      <td>3.8</td>\n",
       "      <td>5.3</td>\n",
       "    </tr>\n",
       "    <tr>\n",
       "      <th>1</th>\n",
       "      <td>200502</td>\n",
       "      <td>1015.5</td>\n",
       "      <td>108.1</td>\n",
       "      <td>110.62</td>\n",
       "      <td>121</td>\n",
       "      <td>970720</td>\n",
       "      <td>6405.7</td>\n",
       "      <td>2.5</td>\n",
       "      <td>3.25</td>\n",
       "      <td>4.88</td>\n",
       "      <td>4.377</td>\n",
       "      <td>16918.5</td>\n",
       "      <td>14327.2</td>\n",
       "      <td>82.9</td>\n",
       "      <td>77.9</td>\n",
       "      <td>3.7</td>\n",
       "      <td>5.4</td>\n",
       "    </tr>\n",
       "    <tr>\n",
       "      <th>2</th>\n",
       "      <td>200503</td>\n",
       "      <td>997.1</td>\n",
       "      <td>110.9</td>\n",
       "      <td>103.98</td>\n",
       "      <td>124</td>\n",
       "      <td>970629.1</td>\n",
       "      <td>6464.9</td>\n",
       "      <td>2.75</td>\n",
       "      <td>3.25</td>\n",
       "      <td>4.77</td>\n",
       "      <td>4.481</td>\n",
       "      <td>19646.9</td>\n",
       "      <td>17966.4</td>\n",
       "      <td>82</td>\n",
       "      <td>78.9</td>\n",
       "      <td>3.7</td>\n",
       "      <td>5.2</td>\n",
       "    </tr>\n",
       "    <tr>\n",
       "      <th>3</th>\n",
       "      <td>200504</td>\n",
       "      <td>1007.7</td>\n",
       "      <td>110.4</td>\n",
       "      <td>100.87</td>\n",
       "      <td>126</td>\n",
       "      <td>987882.7</td>\n",
       "      <td>6508.3</td>\n",
       "      <td>2.75</td>\n",
       "      <td>3.25</td>\n",
       "      <td>4.69</td>\n",
       "      <td>4.198</td>\n",
       "      <td>18863.2</td>\n",
       "      <td>16692.5</td>\n",
       "      <td>82.5</td>\n",
       "      <td>78.6</td>\n",
       "      <td>3.7</td>\n",
       "      <td>5.2</td>\n",
       "    </tr>\n",
       "    <tr>\n",
       "      <th>4</th>\n",
       "      <td>200505</td>\n",
       "      <td>1025.4</td>\n",
       "      <td>103.8</td>\n",
       "      <td>101.94</td>\n",
       "      <td>116</td>\n",
       "      <td>987197.7</td>\n",
       "      <td>6459.8</td>\n",
       "      <td>3</td>\n",
       "      <td>3.25</td>\n",
       "      <td>4.42</td>\n",
       "      <td>3.981</td>\n",
       "      <td>19091.2</td>\n",
       "      <td>16888.4</td>\n",
       "      <td>82.6</td>\n",
       "      <td>79.8</td>\n",
       "      <td>3.7</td>\n",
       "      <td>5.1</td>\n",
       "    </tr>\n",
       "    <tr>\n",
       "      <th>...</th>\n",
       "      <td>...</td>\n",
       "      <td>...</td>\n",
       "      <td>...</td>\n",
       "      <td>...</td>\n",
       "      <td>...</td>\n",
       "      <td>...</td>\n",
       "      <td>...</td>\n",
       "      <td>...</td>\n",
       "      <td>...</td>\n",
       "      <td>...</td>\n",
       "      <td>...</td>\n",
       "      <td>...</td>\n",
       "      <td>...</td>\n",
       "      <td>...</td>\n",
       "      <td>...</td>\n",
       "      <td>...</td>\n",
       "      <td>...</td>\n",
       "    </tr>\n",
       "    <tr>\n",
       "      <th>211</th>\n",
       "      <td>202208</td>\n",
       "      <td>1430.2</td>\n",
       "      <td>99.3</td>\n",
       "      <td>97.92</td>\n",
       "      <td>132</td>\n",
       "      <td>3737384.8</td>\n",
       "      <td>21552.7</td>\n",
       "      <td>2.375</td>\n",
       "      <td>2.5</td>\n",
       "      <td>3.322</td>\n",
       "      <td>3.193</td>\n",
       "      <td>48689.5</td>\n",
       "      <td>55181.8</td>\n",
       "      <td>86</td>\n",
       "      <td>83.6</td>\n",
       "      <td>2.6</td>\n",
       "      <td>3.7</td>\n",
       "    </tr>\n",
       "    <tr>\n",
       "      <th>212</th>\n",
       "      <td>202209</td>\n",
       "      <td>1424.3</td>\n",
       "      <td>98</td>\n",
       "      <td>86.14</td>\n",
       "      <td>127</td>\n",
       "      <td>3747840.6</td>\n",
       "      <td>21475.3</td>\n",
       "      <td>3.125</td>\n",
       "      <td>2.5</td>\n",
       "      <td>3.897</td>\n",
       "      <td>3.829</td>\n",
       "      <td>48955.1</td>\n",
       "      <td>51457.7</td>\n",
       "      <td>85.6</td>\n",
       "      <td>84.3</td>\n",
       "      <td>2.8</td>\n",
       "      <td>3.5</td>\n",
       "    </tr>\n",
       "    <tr>\n",
       "      <th>213</th>\n",
       "      <td>202210</td>\n",
       "      <td>1318.8</td>\n",
       "      <td>95.4</td>\n",
       "      <td>80.15</td>\n",
       "      <td>120</td>\n",
       "      <td>3769959.8</td>\n",
       "      <td>21388.4</td>\n",
       "      <td>3.125</td>\n",
       "      <td>3</td>\n",
       "      <td>4.267</td>\n",
       "      <td>4.048</td>\n",
       "      <td>44748.6</td>\n",
       "      <td>49349.4</td>\n",
       "      <td>85.4</td>\n",
       "      <td>83.4</td>\n",
       "      <td>2.8</td>\n",
       "      <td>3.7</td>\n",
       "    </tr>\n",
       "    <tr>\n",
       "      <th>214</th>\n",
       "      <td>202211</td>\n",
       "      <td>1264.5</td>\n",
       "      <td>91.2</td>\n",
       "      <td>88.53</td>\n",
       "      <td>121</td>\n",
       "      <td>3798048</td>\n",
       "      <td>21400.7</td>\n",
       "      <td>3.875</td>\n",
       "      <td>3.25</td>\n",
       "      <td>3.915</td>\n",
       "      <td>3.605</td>\n",
       "      <td>43660.8</td>\n",
       "      <td>48129</td>\n",
       "      <td>84.3</td>\n",
       "      <td>81.8</td>\n",
       "      <td>2.8</td>\n",
       "      <td>3.6</td>\n",
       "    </tr>\n",
       "    <tr>\n",
       "      <th>215</th>\n",
       "      <td>202212</td>\n",
       "      <td>1231.9</td>\n",
       "      <td>91.5</td>\n",
       "      <td>83.39</td>\n",
       "      <td>114</td>\n",
       "      <td>3758235.5</td>\n",
       "      <td>21432.6</td>\n",
       "      <td>4.375</td>\n",
       "      <td>3.25</td>\n",
       "      <td>3.541</td>\n",
       "      <td>3.875</td>\n",
       "      <td>45861.6</td>\n",
       "      <td>47994.5</td>\n",
       "      <td>83.6</td>\n",
       "      <td>80.5</td>\n",
       "      <td>3.1</td>\n",
       "      <td>3.5</td>\n",
       "    </tr>\n",
       "  </tbody>\n",
       "</table>\n",
       "<p>216 rows × 17 columns</p>\n",
       "</div>"
      ],
      "text/plain": [
       "         시점 KRW/USD 경제심리지수(원계열)  뉴스심리지수 원자재구입가격실적 M2(말잔, 원계열)     미국M2  USBIR  \\\n",
       "0    200501    1006        95.3  106.39       125    951377.5   6404.1   2.25   \n",
       "1    200502  1015.5       108.1  110.62       121      970720   6405.7    2.5   \n",
       "2    200503   997.1       110.9  103.98       124    970629.1   6464.9   2.75   \n",
       "3    200504  1007.7       110.4  100.87       126    987882.7   6508.3   2.75   \n",
       "4    200505  1025.4       103.8  101.94       116    987197.7   6459.8      3   \n",
       "..      ...     ...         ...     ...       ...         ...      ...    ...   \n",
       "211  202208  1430.2        99.3   97.92       132   3737384.8  21552.7  2.375   \n",
       "212  202209  1424.3          98   86.14       127   3747840.6  21475.3  3.125   \n",
       "213  202210  1318.8        95.4   80.15       120   3769959.8  21388.4  3.125   \n",
       "214  202211  1264.5        91.2   88.53       121     3798048  21400.7  3.875   \n",
       "215  202212  1231.9        91.5   83.39       114   3758235.5  21432.6  4.375   \n",
       "\n",
       "    KOBIR   KOTN   USTN 달러결제수출금액 달러결제수입금액 달러결제수출비율 달러결제수입비율 한국실업률 미국실업률  \n",
       "0    3.25   4.42  4.128  18478.7  15159.4     82.3     77.9   3.8   5.3  \n",
       "1    3.25   4.88  4.377  16918.5  14327.2     82.9     77.9   3.7   5.4  \n",
       "2    3.25   4.77  4.481  19646.9  17966.4       82     78.9   3.7   5.2  \n",
       "3    3.25   4.69  4.198  18863.2  16692.5     82.5     78.6   3.7   5.2  \n",
       "4    3.25   4.42  3.981  19091.2  16888.4     82.6     79.8   3.7   5.1  \n",
       "..    ...    ...    ...      ...      ...      ...      ...   ...   ...  \n",
       "211   2.5  3.322  3.193  48689.5  55181.8       86     83.6   2.6   3.7  \n",
       "212   2.5  3.897  3.829  48955.1  51457.7     85.6     84.3   2.8   3.5  \n",
       "213     3  4.267  4.048  44748.6  49349.4     85.4     83.4   2.8   3.7  \n",
       "214  3.25  3.915  3.605  43660.8    48129     84.3     81.8   2.8   3.6  \n",
       "215  3.25  3.541  3.875  45861.6  47994.5     83.6     80.5   3.1   3.5  \n",
       "\n",
       "[216 rows x 17 columns]"
      ]
     },
     "execution_count": 287,
     "metadata": {},
     "output_type": "execute_result"
    }
   ],
   "source": [
    "df = E1000['시점']\n",
    "df_list = [KRWUSD, E1000, A001, AN, KOM2, M2NS, USBIR, KOBIR, KOTN, USTN, REGEXTOTUSD, REGIMTOTUSD, EXUSDR, IMUSDR, KOUR, USUR]\n",
    "for i in df_list:\n",
    "    df = pd.merge(df, i)\n",
    "df"
   ]
  },
  {
   "cell_type": "markdown",
   "id": "a7e55a1f",
   "metadata": {},
   "source": [
    "- to_csv"
   ]
  },
  {
   "cell_type": "code",
   "execution_count": 288,
   "id": "94d023dd",
   "metadata": {},
   "outputs": [],
   "source": [
    "filename = 'monthly_data.csv'\n",
    "df.to_csv(current_directory+'/'+filename)"
   ]
  },
  {
   "cell_type": "code",
   "execution_count": null,
   "id": "04e3711c",
   "metadata": {},
   "outputs": [],
   "source": []
  }
 ],
 "metadata": {
  "kernelspec": {
   "display_name": "Python 3 (ipykernel)",
   "language": "python",
   "name": "python3"
  },
  "language_info": {
   "codemirror_mode": {
    "name": "ipython",
    "version": 3
   },
   "file_extension": ".py",
   "mimetype": "text/x-python",
   "name": "python",
   "nbconvert_exporter": "python",
   "pygments_lexer": "ipython3",
   "version": "3.11.5"
  }
 },
 "nbformat": 4,
 "nbformat_minor": 5
}
