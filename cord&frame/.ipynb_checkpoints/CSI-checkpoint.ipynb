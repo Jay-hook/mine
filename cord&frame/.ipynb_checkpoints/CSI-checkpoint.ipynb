{
 "cells": [
  {
   "cell_type": "code",
   "execution_count": 37,
   "id": "49d2a029-72ff-49f7-8115-51d4ba66189c",
   "metadata": {},
   "outputs": [
    {
     "name": "stdout",
     "output_type": "stream",
     "text": [
      "현재 작업 디렉토리: C:\\Users\\jay_hook\\Desktop\\헤커톤\\cord&frame\n"
     ]
    }
   ],
   "source": [
    "import os\n",
    "\n",
    "# 현재 작업 디렉토리를 얻기\n",
    "current_directory = os.getcwd()\n",
    "\n",
    "print(\"현재 작업 디렉토리:\", current_directory)"
   ]
  },
  {
   "cell_type": "code",
   "execution_count": 38,
   "id": "e1242ce2-9fa9-440d-9d84-fc272fc61483",
   "metadata": {},
   "outputs": [
    {
     "name": "stdout",
     "output_type": "stream",
     "text": [
      "Requirement already satisfied: openpyxl in c:\\users\\jay_hook\\appdata\\local\\programs\\python\\python311\\lib\\site-packages (3.1.2)\n",
      "Requirement already satisfied: et-xmlfile in c:\\users\\jay_hook\\appdata\\local\\programs\\python\\python311\\lib\\site-packages (from openpyxl) (1.1.0)\n",
      "Note: you may need to restart the kernel to use updated packages.\n"
     ]
    }
   ],
   "source": [
    "pip install openpyxl"
   ]
  },
  {
   "cell_type": "code",
   "execution_count": 39,
   "id": "e5c5cd72-104d-4b21-a9e4-8d8ec135a9ce",
   "metadata": {},
   "outputs": [],
   "source": [
    "import pandas as pd"
   ]
  },
  {
   "cell_type": "code",
   "execution_count": 40,
   "id": "893272c3-a5a1-40b5-a247-b0af502972fa",
   "metadata": {},
   "outputs": [
    {
     "name": "stderr",
     "output_type": "stream",
     "text": [
      "C:\\Users\\jay_hook\\AppData\\Local\\Programs\\Python\\Python311\\Lib\\site-packages\\openpyxl\\styles\\stylesheet.py:226: UserWarning: Workbook contains no default style, apply openpyxl's default\n",
      "  warn(\"Workbook contains no default style, apply openpyxl's default\")\n"
     ]
    }
   ],
   "source": [
    "csi = pd.read_excel('../rawdata/소비자동향지수(CSI).xlsx', engine='openpyxl')"
   ]
  },
  {
   "cell_type": "code",
   "execution_count": 41,
   "id": "9b422608-515b-41ed-967c-86864fc45789",
   "metadata": {},
   "outputs": [],
   "source": [
    "csi = csi.transpose().reset_index().drop([0, 3, 4, 'index'], axis=1)"
   ]
  },
  {
   "cell_type": "code",
   "execution_count": 42,
   "id": "6895e367-6efd-4884-abaf-953fd62a9ce6",
   "metadata": {},
   "outputs": [],
   "source": [
    "csi.columns = csi.iloc[0]\n",
    "csi = csi[1:]"
   ]
  },
  {
   "cell_type": "code",
   "execution_count": 43,
   "id": "996cdde2-6623-462b-a8ec-d11f2c85c539",
   "metadata": {},
   "outputs": [],
   "source": [
    "csi.columns = ['날짜','소비자심리지수']"
   ]
  },
  {
   "cell_type": "code",
   "execution_count": 44,
   "id": "5b9f6dab-8549-4142-86cf-37e1634f5a89",
   "metadata": {},
   "outputs": [
    {
     "data": {
      "text/html": [
       "<div>\n",
       "<style scoped>\n",
       "    .dataframe tbody tr th:only-of-type {\n",
       "        vertical-align: middle;\n",
       "    }\n",
       "\n",
       "    .dataframe tbody tr th {\n",
       "        vertical-align: top;\n",
       "    }\n",
       "\n",
       "    .dataframe thead th {\n",
       "        text-align: right;\n",
       "    }\n",
       "</style>\n",
       "<table border=\"1\" class=\"dataframe\">\n",
       "  <thead>\n",
       "    <tr style=\"text-align: right;\">\n",
       "      <th></th>\n",
       "      <th>날짜</th>\n",
       "      <th>소비자심리지수</th>\n",
       "    </tr>\n",
       "  </thead>\n",
       "  <tbody>\n",
       "    <tr>\n",
       "      <th>1</th>\n",
       "      <td>200912월</td>\n",
       "      <td>113.0</td>\n",
       "    </tr>\n",
       "    <tr>\n",
       "      <th>2</th>\n",
       "      <td>201001월</td>\n",
       "      <td>115.0</td>\n",
       "    </tr>\n",
       "    <tr>\n",
       "      <th>3</th>\n",
       "      <td>201002월</td>\n",
       "      <td>112.0</td>\n",
       "    </tr>\n",
       "    <tr>\n",
       "      <th>4</th>\n",
       "      <td>201003월</td>\n",
       "      <td>112.0</td>\n",
       "    </tr>\n",
       "    <tr>\n",
       "      <th>5</th>\n",
       "      <td>201004월</td>\n",
       "      <td>112.0</td>\n",
       "    </tr>\n",
       "    <tr>\n",
       "      <th>...</th>\n",
       "      <td>...</td>\n",
       "      <td>...</td>\n",
       "    </tr>\n",
       "    <tr>\n",
       "      <th>161</th>\n",
       "      <td>202304월</td>\n",
       "      <td>95.1</td>\n",
       "    </tr>\n",
       "    <tr>\n",
       "      <th>162</th>\n",
       "      <td>202305월</td>\n",
       "      <td>98.0</td>\n",
       "    </tr>\n",
       "    <tr>\n",
       "      <th>163</th>\n",
       "      <td>202306월</td>\n",
       "      <td>100.7</td>\n",
       "    </tr>\n",
       "    <tr>\n",
       "      <th>164</th>\n",
       "      <td>202307월</td>\n",
       "      <td>103.2</td>\n",
       "    </tr>\n",
       "    <tr>\n",
       "      <th>165</th>\n",
       "      <td>202308월</td>\n",
       "      <td>103.1</td>\n",
       "    </tr>\n",
       "  </tbody>\n",
       "</table>\n",
       "<p>165 rows × 2 columns</p>\n",
       "</div>"
      ],
      "text/plain": [
       "          날짜 소비자심리지수\n",
       "1    200912월   113.0\n",
       "2    201001월   115.0\n",
       "3    201002월   112.0\n",
       "4    201003월   112.0\n",
       "5    201004월   112.0\n",
       "..       ...     ...\n",
       "161  202304월    95.1\n",
       "162  202305월    98.0\n",
       "163  202306월   100.7\n",
       "164  202307월   103.2\n",
       "165  202308월   103.1\n",
       "\n",
       "[165 rows x 2 columns]"
      ]
     },
     "execution_count": 44,
     "metadata": {},
     "output_type": "execute_result"
    }
   ],
   "source": [
    "csi"
   ]
  },
  {
   "cell_type": "code",
   "execution_count": 45,
   "id": "b97f6e5d-1e76-4d73-aa8b-bc5baa04781e",
   "metadata": {},
   "outputs": [],
   "source": [
    "csi['날짜'] = pd.to_datetime(csi['날짜'], format='%Y%m월')"
   ]
  },
  {
   "cell_type": "code",
   "execution_count": 46,
   "id": "071c7c25-5f87-40df-ae86-1a52bf37bfc0",
   "metadata": {},
   "outputs": [
    {
     "data": {
      "text/html": [
       "<div>\n",
       "<style scoped>\n",
       "    .dataframe tbody tr th:only-of-type {\n",
       "        vertical-align: middle;\n",
       "    }\n",
       "\n",
       "    .dataframe tbody tr th {\n",
       "        vertical-align: top;\n",
       "    }\n",
       "\n",
       "    .dataframe thead th {\n",
       "        text-align: right;\n",
       "    }\n",
       "</style>\n",
       "<table border=\"1\" class=\"dataframe\">\n",
       "  <thead>\n",
       "    <tr style=\"text-align: right;\">\n",
       "      <th></th>\n",
       "      <th>날짜</th>\n",
       "      <th>소비자심리지수</th>\n",
       "    </tr>\n",
       "  </thead>\n",
       "  <tbody>\n",
       "    <tr>\n",
       "      <th>1</th>\n",
       "      <td>2009-12-01</td>\n",
       "      <td>113.0</td>\n",
       "    </tr>\n",
       "    <tr>\n",
       "      <th>2</th>\n",
       "      <td>2010-01-01</td>\n",
       "      <td>115.0</td>\n",
       "    </tr>\n",
       "    <tr>\n",
       "      <th>3</th>\n",
       "      <td>2010-02-01</td>\n",
       "      <td>112.0</td>\n",
       "    </tr>\n",
       "    <tr>\n",
       "      <th>4</th>\n",
       "      <td>2010-03-01</td>\n",
       "      <td>112.0</td>\n",
       "    </tr>\n",
       "    <tr>\n",
       "      <th>5</th>\n",
       "      <td>2010-04-01</td>\n",
       "      <td>112.0</td>\n",
       "    </tr>\n",
       "    <tr>\n",
       "      <th>...</th>\n",
       "      <td>...</td>\n",
       "      <td>...</td>\n",
       "    </tr>\n",
       "    <tr>\n",
       "      <th>161</th>\n",
       "      <td>2023-04-01</td>\n",
       "      <td>95.1</td>\n",
       "    </tr>\n",
       "    <tr>\n",
       "      <th>162</th>\n",
       "      <td>2023-05-01</td>\n",
       "      <td>98.0</td>\n",
       "    </tr>\n",
       "    <tr>\n",
       "      <th>163</th>\n",
       "      <td>2023-06-01</td>\n",
       "      <td>100.7</td>\n",
       "    </tr>\n",
       "    <tr>\n",
       "      <th>164</th>\n",
       "      <td>2023-07-01</td>\n",
       "      <td>103.2</td>\n",
       "    </tr>\n",
       "    <tr>\n",
       "      <th>165</th>\n",
       "      <td>2023-08-01</td>\n",
       "      <td>103.1</td>\n",
       "    </tr>\n",
       "  </tbody>\n",
       "</table>\n",
       "<p>165 rows × 2 columns</p>\n",
       "</div>"
      ],
      "text/plain": [
       "            날짜 소비자심리지수\n",
       "1   2009-12-01   113.0\n",
       "2   2010-01-01   115.0\n",
       "3   2010-02-01   112.0\n",
       "4   2010-03-01   112.0\n",
       "5   2010-04-01   112.0\n",
       "..         ...     ...\n",
       "161 2023-04-01    95.1\n",
       "162 2023-05-01    98.0\n",
       "163 2023-06-01   100.7\n",
       "164 2023-07-01   103.2\n",
       "165 2023-08-01   103.1\n",
       "\n",
       "[165 rows x 2 columns]"
      ]
     },
     "execution_count": 46,
     "metadata": {},
     "output_type": "execute_result"
    }
   ],
   "source": [
    "csi"
   ]
  },
  {
   "cell_type": "code",
   "execution_count": 47,
   "id": "aed8e094-1f86-46da-a370-4c33aa899291",
   "metadata": {},
   "outputs": [],
   "source": [
    "csi['날짜'] = csi['날짜'].dt.strftime('%Y/%m')"
   ]
  },
  {
   "cell_type": "code",
   "execution_count": 48,
   "id": "60f15ac6-6fff-4355-9f6f-2580910f474f",
   "metadata": {},
   "outputs": [
    {
     "data": {
      "text/html": [
       "<div>\n",
       "<style scoped>\n",
       "    .dataframe tbody tr th:only-of-type {\n",
       "        vertical-align: middle;\n",
       "    }\n",
       "\n",
       "    .dataframe tbody tr th {\n",
       "        vertical-align: top;\n",
       "    }\n",
       "\n",
       "    .dataframe thead th {\n",
       "        text-align: right;\n",
       "    }\n",
       "</style>\n",
       "<table border=\"1\" class=\"dataframe\">\n",
       "  <thead>\n",
       "    <tr style=\"text-align: right;\">\n",
       "      <th></th>\n",
       "      <th>날짜</th>\n",
       "      <th>소비자심리지수</th>\n",
       "    </tr>\n",
       "  </thead>\n",
       "  <tbody>\n",
       "    <tr>\n",
       "      <th>1</th>\n",
       "      <td>2009/12</td>\n",
       "      <td>113.0</td>\n",
       "    </tr>\n",
       "    <tr>\n",
       "      <th>2</th>\n",
       "      <td>2010/01</td>\n",
       "      <td>115.0</td>\n",
       "    </tr>\n",
       "    <tr>\n",
       "      <th>3</th>\n",
       "      <td>2010/02</td>\n",
       "      <td>112.0</td>\n",
       "    </tr>\n",
       "    <tr>\n",
       "      <th>4</th>\n",
       "      <td>2010/03</td>\n",
       "      <td>112.0</td>\n",
       "    </tr>\n",
       "    <tr>\n",
       "      <th>5</th>\n",
       "      <td>2010/04</td>\n",
       "      <td>112.0</td>\n",
       "    </tr>\n",
       "    <tr>\n",
       "      <th>...</th>\n",
       "      <td>...</td>\n",
       "      <td>...</td>\n",
       "    </tr>\n",
       "    <tr>\n",
       "      <th>161</th>\n",
       "      <td>2023/04</td>\n",
       "      <td>95.1</td>\n",
       "    </tr>\n",
       "    <tr>\n",
       "      <th>162</th>\n",
       "      <td>2023/05</td>\n",
       "      <td>98.0</td>\n",
       "    </tr>\n",
       "    <tr>\n",
       "      <th>163</th>\n",
       "      <td>2023/06</td>\n",
       "      <td>100.7</td>\n",
       "    </tr>\n",
       "    <tr>\n",
       "      <th>164</th>\n",
       "      <td>2023/07</td>\n",
       "      <td>103.2</td>\n",
       "    </tr>\n",
       "    <tr>\n",
       "      <th>165</th>\n",
       "      <td>2023/08</td>\n",
       "      <td>103.1</td>\n",
       "    </tr>\n",
       "  </tbody>\n",
       "</table>\n",
       "<p>165 rows × 2 columns</p>\n",
       "</div>"
      ],
      "text/plain": [
       "          날짜 소비자심리지수\n",
       "1    2009/12   113.0\n",
       "2    2010/01   115.0\n",
       "3    2010/02   112.0\n",
       "4    2010/03   112.0\n",
       "5    2010/04   112.0\n",
       "..       ...     ...\n",
       "161  2023/04    95.1\n",
       "162  2023/05    98.0\n",
       "163  2023/06   100.7\n",
       "164  2023/07   103.2\n",
       "165  2023/08   103.1\n",
       "\n",
       "[165 rows x 2 columns]"
      ]
     },
     "execution_count": 48,
     "metadata": {},
     "output_type": "execute_result"
    }
   ],
   "source": [
    "csi"
   ]
  },
  {
   "cell_type": "code",
   "execution_count": 49,
   "id": "9a284327-7436-466b-a05a-81774a35ae94",
   "metadata": {},
   "outputs": [],
   "source": [
    "csi[\"소비자심리지수\"] = pd.to_numeric(csi[\"소비자심리지수\"], errors='coerce')"
   ]
  },
  {
   "cell_type": "code",
   "execution_count": 53,
   "id": "7c4a3ad8-f538-48e7-a2b2-d2ea6c8954a1",
   "metadata": {},
   "outputs": [],
   "source": [
    "csi['CSI변화율'] = csi[\"소비자심리지수\"].pct_change() * 100"
   ]
  },
  {
   "cell_type": "code",
   "execution_count": 54,
   "id": "e4f5f867-c417-4bf7-a6cb-77f60b31aa4c",
   "metadata": {},
   "outputs": [
    {
     "data": {
      "text/html": [
       "<div>\n",
       "<style scoped>\n",
       "    .dataframe tbody tr th:only-of-type {\n",
       "        vertical-align: middle;\n",
       "    }\n",
       "\n",
       "    .dataframe tbody tr th {\n",
       "        vertical-align: top;\n",
       "    }\n",
       "\n",
       "    .dataframe thead th {\n",
       "        text-align: right;\n",
       "    }\n",
       "</style>\n",
       "<table border=\"1\" class=\"dataframe\">\n",
       "  <thead>\n",
       "    <tr style=\"text-align: right;\">\n",
       "      <th></th>\n",
       "      <th>날짜</th>\n",
       "      <th>소비자심리지수</th>\n",
       "      <th>CSI변화율</th>\n",
       "    </tr>\n",
       "  </thead>\n",
       "  <tbody>\n",
       "    <tr>\n",
       "      <th>1</th>\n",
       "      <td>2009/12</td>\n",
       "      <td>113.0</td>\n",
       "      <td>NaN</td>\n",
       "    </tr>\n",
       "    <tr>\n",
       "      <th>2</th>\n",
       "      <td>2010/01</td>\n",
       "      <td>115.0</td>\n",
       "      <td>1.769912</td>\n",
       "    </tr>\n",
       "    <tr>\n",
       "      <th>3</th>\n",
       "      <td>2010/02</td>\n",
       "      <td>112.0</td>\n",
       "      <td>-2.608696</td>\n",
       "    </tr>\n",
       "    <tr>\n",
       "      <th>4</th>\n",
       "      <td>2010/03</td>\n",
       "      <td>112.0</td>\n",
       "      <td>0.000000</td>\n",
       "    </tr>\n",
       "    <tr>\n",
       "      <th>5</th>\n",
       "      <td>2010/04</td>\n",
       "      <td>112.0</td>\n",
       "      <td>0.000000</td>\n",
       "    </tr>\n",
       "    <tr>\n",
       "      <th>...</th>\n",
       "      <td>...</td>\n",
       "      <td>...</td>\n",
       "      <td>...</td>\n",
       "    </tr>\n",
       "    <tr>\n",
       "      <th>161</th>\n",
       "      <td>2023/04</td>\n",
       "      <td>95.1</td>\n",
       "      <td>3.369565</td>\n",
       "    </tr>\n",
       "    <tr>\n",
       "      <th>162</th>\n",
       "      <td>2023/05</td>\n",
       "      <td>98.0</td>\n",
       "      <td>3.049422</td>\n",
       "    </tr>\n",
       "    <tr>\n",
       "      <th>163</th>\n",
       "      <td>2023/06</td>\n",
       "      <td>100.7</td>\n",
       "      <td>2.755102</td>\n",
       "    </tr>\n",
       "    <tr>\n",
       "      <th>164</th>\n",
       "      <td>2023/07</td>\n",
       "      <td>103.2</td>\n",
       "      <td>2.482622</td>\n",
       "    </tr>\n",
       "    <tr>\n",
       "      <th>165</th>\n",
       "      <td>2023/08</td>\n",
       "      <td>103.1</td>\n",
       "      <td>-0.096899</td>\n",
       "    </tr>\n",
       "  </tbody>\n",
       "</table>\n",
       "<p>165 rows × 3 columns</p>\n",
       "</div>"
      ],
      "text/plain": [
       "          날짜  소비자심리지수    CSI변화율\n",
       "1    2009/12    113.0       NaN\n",
       "2    2010/01    115.0  1.769912\n",
       "3    2010/02    112.0 -2.608696\n",
       "4    2010/03    112.0  0.000000\n",
       "5    2010/04    112.0  0.000000\n",
       "..       ...      ...       ...\n",
       "161  2023/04     95.1  3.369565\n",
       "162  2023/05     98.0  3.049422\n",
       "163  2023/06    100.7  2.755102\n",
       "164  2023/07    103.2  2.482622\n",
       "165  2023/08    103.1 -0.096899\n",
       "\n",
       "[165 rows x 3 columns]"
      ]
     },
     "execution_count": 54,
     "metadata": {},
     "output_type": "execute_result"
    }
   ],
   "source": [
    "csi"
   ]
  },
  {
   "cell_type": "code",
   "execution_count": 55,
   "id": "67d0ab1f-1e19-4492-923e-1deedbac2aad",
   "metadata": {},
   "outputs": [],
   "source": [
    "output_filename = '../cord&frame/CSI.csv'\n",
    "# 특정 컬럼들을 선택한 후 CSV 파일로 저장\n",
    "csi.to_csv(output_filename, index=False)"
   ]
  },
  {
   "cell_type": "code",
   "execution_count": null,
   "id": "d05c8ece-4bbd-4664-a200-83eeca097f2e",
   "metadata": {},
   "outputs": [],
   "source": []
  }
 ],
 "metadata": {
  "kernelspec": {
   "display_name": "Python 3 (ipykernel)",
   "language": "python",
   "name": "python3"
  },
  "language_info": {
   "codemirror_mode": {
    "name": "ipython",
    "version": 3
   },
   "file_extension": ".py",
   "mimetype": "text/x-python",
   "name": "python",
   "nbconvert_exporter": "python",
   "pygments_lexer": "ipython3",
   "version": "3.11.5"
  }
 },
 "nbformat": 4,
 "nbformat_minor": 5
}
