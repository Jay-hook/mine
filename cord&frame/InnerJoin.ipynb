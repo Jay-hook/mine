{
 "cells": [
  {
   "cell_type": "code",
   "execution_count": 27,
   "id": "3371181c-ede7-4981-b8f9-f33941dead87",
   "metadata": {},
   "outputs": [
    {
     "name": "stdout",
     "output_type": "stream",
     "text": [
      "현재 작업 디렉토리: C:\\Users\\jay_hook\\Desktop\\헤커톤\n"
     ]
    }
   ],
   "source": [
    "import os\n",
    "\n",
    "# 현재 작업 디렉토리를 얻기\n",
    "current_directory = os.getcwd()\n",
    "\n",
    "print(\"현재 작업 디렉토리:\", current_directory)"
   ]
  },
  {
   "cell_type": "code",
   "execution_count": 28,
   "id": "be1c2b01-22f7-4094-8c70-084bcc77e83b",
   "metadata": {},
   "outputs": [],
   "source": [
    "import pandas as pd"
   ]
  },
  {
   "cell_type": "code",
   "execution_count": 29,
   "id": "c4e0228c-a830-4817-b16c-a71f182d5522",
   "metadata": {},
   "outputs": [],
   "source": [
    "raw = pd.read_csv('./rawdata/raw_data_joo.csv', encoding='euc-kr')"
   ]
  },
  {
   "cell_type": "code",
   "execution_count": 30,
   "id": "854f50ef-aed2-46e4-b4df-10a0871de977",
   "metadata": {},
   "outputs": [
    {
     "name": "stdout",
     "output_type": "stream",
     "text": [
      "<class 'pandas.core.frame.DataFrame'>\n",
      "RangeIndex: 3318 entries, 0 to 3317\n",
      "Data columns (total 13 columns):\n",
      " #   Column  Non-Null Count  Dtype  \n",
      "---  ------  --------------  -----  \n",
      " 0   날짜      3318 non-null   object \n",
      " 1   달러원종가   3318 non-null   object \n",
      " 2   달러원시가   3318 non-null   object \n",
      " 3   CD91    3318 non-null   float64\n",
      " 4   WTI가    3318 non-null   float64\n",
      " 5   달러위안화   3318 non-null   float64\n",
      " 6   달러엔     3318 non-null   float64\n",
      " 7   달러인덱스   3318 non-null   object \n",
      " 8   유로달러    3318 non-null   float64\n",
      " 9   유로인덱스   3318 non-null   float64\n",
      " 10  콜금리     3318 non-null   float64\n",
      " 11  코스피종가   3317 non-null   float64\n",
      " 12  BIR     3318 non-null   object \n",
      "dtypes: float64(8), object(5)\n",
      "memory usage: 337.1+ KB\n"
     ]
    }
   ],
   "source": [
    "raw.info()"
   ]
  },
  {
   "cell_type": "code",
   "execution_count": 38,
   "id": "336af91a-387b-424e-ac70-c1996a69d1a9",
   "metadata": {},
   "outputs": [],
   "source": [
    "cd91_sofr = pd.read_csv('./cord&frame/CD91-SOFR.csv')"
   ]
  },
  {
   "cell_type": "code",
   "execution_count": 32,
   "id": "837e876d-9826-48dd-a9a3-b21b5a2fcc1d",
   "metadata": {},
   "outputs": [],
   "source": [
    "bei_change_rate = pd.read_csv('./cord&frame/10Y BEI.csv').drop([0], axis=0).drop('BEI지수', axis=1)"
   ]
  },
  {
   "cell_type": "code",
   "execution_count": 33,
   "id": "afce4528-c06f-4e6b-93ab-5499f916ea68",
   "metadata": {},
   "outputs": [
    {
     "name": "stdout",
     "output_type": "stream",
     "text": [
      "<class 'pandas.core.frame.DataFrame'>\n",
      "RangeIndex: 3586 entries, 1 to 3586\n",
      "Data columns (total 2 columns):\n",
      " #   Column  Non-Null Count  Dtype  \n",
      "---  ------  --------------  -----  \n",
      " 0   날짜      3586 non-null   object \n",
      " 1   BEI변화율  3586 non-null   float64\n",
      "dtypes: float64(1), object(1)\n",
      "memory usage: 56.2+ KB\n"
     ]
    }
   ],
   "source": [
    "bei_change_rate.info()"
   ]
  },
  {
   "cell_type": "code",
   "execution_count": 34,
   "id": "fc9ec940-9b4f-4485-8123-d59cb789a168",
   "metadata": {},
   "outputs": [],
   "source": [
    "raw['날짜'] = pd.to_datetime(raw['날짜'])\n",
    "bei_change_rate['날짜'] = pd.to_datetime(bei_change_rate['날짜'])"
   ]
  },
  {
   "cell_type": "code",
   "execution_count": 35,
   "id": "91c4ff56-ef43-4e84-b129-91acb853dedd",
   "metadata": {},
   "outputs": [
    {
     "data": {
      "text/html": [
       "<div>\n",
       "<style scoped>\n",
       "    .dataframe tbody tr th:only-of-type {\n",
       "        vertical-align: middle;\n",
       "    }\n",
       "\n",
       "    .dataframe tbody tr th {\n",
       "        vertical-align: top;\n",
       "    }\n",
       "\n",
       "    .dataframe thead th {\n",
       "        text-align: right;\n",
       "    }\n",
       "</style>\n",
       "<table border=\"1\" class=\"dataframe\">\n",
       "  <thead>\n",
       "    <tr style=\"text-align: right;\">\n",
       "      <th></th>\n",
       "      <th>날짜</th>\n",
       "      <th>달러원종가</th>\n",
       "      <th>달러원시가</th>\n",
       "      <th>CD91</th>\n",
       "      <th>WTI가</th>\n",
       "      <th>달러위안화</th>\n",
       "      <th>달러엔</th>\n",
       "      <th>달러인덱스</th>\n",
       "      <th>유로달러</th>\n",
       "      <th>유로인덱스</th>\n",
       "      <th>콜금리</th>\n",
       "      <th>코스피종가</th>\n",
       "      <th>BIR</th>\n",
       "    </tr>\n",
       "  </thead>\n",
       "  <tbody>\n",
       "    <tr>\n",
       "      <th>0</th>\n",
       "      <td>2010-01-04</td>\n",
       "      <td>1,150.00</td>\n",
       "      <td>1,164.07</td>\n",
       "      <td>2.88</td>\n",
       "      <td>81.64</td>\n",
       "      <td>6.8285</td>\n",
       "      <td>92.47</td>\n",
       "      <td>92.3566</td>\n",
       "      <td>1.4413</td>\n",
       "      <td>106.23</td>\n",
       "      <td>1.980</td>\n",
       "      <td>1696.140015</td>\n",
       "      <td>2.38</td>\n",
       "    </tr>\n",
       "    <tr>\n",
       "      <th>1</th>\n",
       "      <td>2010-01-05</td>\n",
       "      <td>1,140.20</td>\n",
       "      <td>1,151.00</td>\n",
       "      <td>2.88</td>\n",
       "      <td>81.47</td>\n",
       "      <td>6.8268</td>\n",
       "      <td>91.58</td>\n",
       "      <td>92.2236</td>\n",
       "      <td>1.4369</td>\n",
       "      <td>105.82</td>\n",
       "      <td>1.980</td>\n",
       "      <td>1690.619995</td>\n",
       "      <td>2.34</td>\n",
       "    </tr>\n",
       "    <tr>\n",
       "      <th>2</th>\n",
       "      <td>2010-01-06</td>\n",
       "      <td>1,129.20</td>\n",
       "      <td>1,140.20</td>\n",
       "      <td>2.88</td>\n",
       "      <td>83.25</td>\n",
       "      <td>6.8278</td>\n",
       "      <td>92.38</td>\n",
       "      <td>92.0941</td>\n",
       "      <td>1.4413</td>\n",
       "      <td>106.11</td>\n",
       "      <td>1.960</td>\n",
       "      <td>1705.319946</td>\n",
       "      <td>2.37</td>\n",
       "    </tr>\n",
       "    <tr>\n",
       "      <th>3</th>\n",
       "      <td>2010-01-07</td>\n",
       "      <td>1,138.20</td>\n",
       "      <td>1,129.20</td>\n",
       "      <td>2.88</td>\n",
       "      <td>82.69</td>\n",
       "      <td>6.8281</td>\n",
       "      <td>93.45</td>\n",
       "      <td>92.3684</td>\n",
       "      <td>1.4318</td>\n",
       "      <td>105.84</td>\n",
       "      <td>1.990</td>\n",
       "      <td>1683.449951</td>\n",
       "      <td>2.41</td>\n",
       "    </tr>\n",
       "    <tr>\n",
       "      <th>4</th>\n",
       "      <td>2010-01-08</td>\n",
       "      <td>1,128.25</td>\n",
       "      <td>1,135.50</td>\n",
       "      <td>2.88</td>\n",
       "      <td>82.91</td>\n",
       "      <td>6.8276</td>\n",
       "      <td>92.68</td>\n",
       "      <td>92.1485</td>\n",
       "      <td>1.4413</td>\n",
       "      <td>106.18</td>\n",
       "      <td>2.000</td>\n",
       "      <td>1695.260010</td>\n",
       "      <td>2.42</td>\n",
       "    </tr>\n",
       "    <tr>\n",
       "      <th>...</th>\n",
       "      <td>...</td>\n",
       "      <td>...</td>\n",
       "      <td>...</td>\n",
       "      <td>...</td>\n",
       "      <td>...</td>\n",
       "      <td>...</td>\n",
       "      <td>...</td>\n",
       "      <td>...</td>\n",
       "      <td>...</td>\n",
       "      <td>...</td>\n",
       "      <td>...</td>\n",
       "      <td>...</td>\n",
       "      <td>...</td>\n",
       "    </tr>\n",
       "    <tr>\n",
       "      <th>3313</th>\n",
       "      <td>2023-09-11</td>\n",
       "      <td>1,325.49</td>\n",
       "      <td>1,336.34</td>\n",
       "      <td>3.72</td>\n",
       "      <td>87.42</td>\n",
       "      <td>7.2882</td>\n",
       "      <td>146.58</td>\n",
       "      <td>121.8185</td>\n",
       "      <td>1.0748</td>\n",
       "      <td>124.19</td>\n",
       "      <td>3.602</td>\n",
       "      <td>2556.879883</td>\n",
       "      <td>2.35</td>\n",
       "    </tr>\n",
       "    <tr>\n",
       "      <th>3314</th>\n",
       "      <td>2023-09-12</td>\n",
       "      <td>1,326.15</td>\n",
       "      <td>1,326.05</td>\n",
       "      <td>3.73</td>\n",
       "      <td>88.94</td>\n",
       "      <td>7.2910</td>\n",
       "      <td>147.08</td>\n",
       "      <td>121.7721</td>\n",
       "      <td>1.0752</td>\n",
       "      <td>124.21</td>\n",
       "      <td>3.597</td>\n",
       "      <td>2536.580078</td>\n",
       "      <td>2.34</td>\n",
       "    </tr>\n",
       "    <tr>\n",
       "      <th>3315</th>\n",
       "      <td>2023-09-13</td>\n",
       "      <td>1,326.59</td>\n",
       "      <td>1,326.72</td>\n",
       "      <td>3.75</td>\n",
       "      <td>88.80</td>\n",
       "      <td>7.2700</td>\n",
       "      <td>147.45</td>\n",
       "      <td>121.5454</td>\n",
       "      <td>1.0728</td>\n",
       "      <td>124.25</td>\n",
       "      <td>3.592</td>\n",
       "      <td>2534.699951</td>\n",
       "      <td>2.35</td>\n",
       "    </tr>\n",
       "    <tr>\n",
       "      <th>3316</th>\n",
       "      <td>2023-09-14</td>\n",
       "      <td>1,329.52</td>\n",
       "      <td>1,328.20</td>\n",
       "      <td>3.76</td>\n",
       "      <td>90.67</td>\n",
       "      <td>7.2770</td>\n",
       "      <td>147.47</td>\n",
       "      <td>121.7192</td>\n",
       "      <td>1.0641</td>\n",
       "      <td>124.19</td>\n",
       "      <td>3.587</td>\n",
       "      <td>2572.889893</td>\n",
       "      <td>2.34</td>\n",
       "    </tr>\n",
       "    <tr>\n",
       "      <th>3317</th>\n",
       "      <td>2023-09-15</td>\n",
       "      <td>1,328.46</td>\n",
       "      <td>1,330.02</td>\n",
       "      <td>3.78</td>\n",
       "      <td>91.15</td>\n",
       "      <td>7.2744</td>\n",
       "      <td>147.82</td>\n",
       "      <td>121.6815</td>\n",
       "      <td>1.0655</td>\n",
       "      <td>123.94</td>\n",
       "      <td>3.580</td>\n",
       "      <td>2601.280029</td>\n",
       "      <td>2.35</td>\n",
       "    </tr>\n",
       "  </tbody>\n",
       "</table>\n",
       "<p>3318 rows × 13 columns</p>\n",
       "</div>"
      ],
      "text/plain": [
       "             날짜     달러원종가     달러원시가  CD91   WTI가   달러위안화     달러엔     달러인덱스  \\\n",
       "0    2010-01-04  1,150.00  1,164.07  2.88  81.64  6.8285   92.47   92.3566   \n",
       "1    2010-01-05  1,140.20  1,151.00  2.88  81.47  6.8268   91.58   92.2236   \n",
       "2    2010-01-06  1,129.20  1,140.20  2.88  83.25  6.8278   92.38   92.0941   \n",
       "3    2010-01-07  1,138.20  1,129.20  2.88  82.69  6.8281   93.45   92.3684   \n",
       "4    2010-01-08  1,128.25  1,135.50  2.88  82.91  6.8276   92.68   92.1485   \n",
       "...         ...       ...       ...   ...    ...     ...     ...       ...   \n",
       "3313 2023-09-11  1,325.49  1,336.34  3.72  87.42  7.2882  146.58  121.8185   \n",
       "3314 2023-09-12  1,326.15  1,326.05  3.73  88.94  7.2910  147.08  121.7721   \n",
       "3315 2023-09-13  1,326.59  1,326.72  3.75  88.80  7.2700  147.45  121.5454   \n",
       "3316 2023-09-14  1,329.52  1,328.20  3.76  90.67  7.2770  147.47  121.7192   \n",
       "3317 2023-09-15  1,328.46  1,330.02  3.78  91.15  7.2744  147.82  121.6815   \n",
       "\n",
       "        유로달러   유로인덱스    콜금리        코스피종가   BIR  \n",
       "0     1.4413  106.23  1.980  1696.140015  2.38  \n",
       "1     1.4369  105.82  1.980  1690.619995  2.34  \n",
       "2     1.4413  106.11  1.960  1705.319946  2.37  \n",
       "3     1.4318  105.84  1.990  1683.449951  2.41  \n",
       "4     1.4413  106.18  2.000  1695.260010  2.42  \n",
       "...      ...     ...    ...          ...   ...  \n",
       "3313  1.0748  124.19  3.602  2556.879883  2.35  \n",
       "3314  1.0752  124.21  3.597  2536.580078  2.34  \n",
       "3315  1.0728  124.25  3.592  2534.699951  2.35  \n",
       "3316  1.0641  124.19  3.587  2572.889893  2.34  \n",
       "3317  1.0655  123.94  3.580  2601.280029  2.35  \n",
       "\n",
       "[3318 rows x 13 columns]"
      ]
     },
     "execution_count": 35,
     "metadata": {},
     "output_type": "execute_result"
    }
   ],
   "source": [
    "raw"
   ]
  },
  {
   "cell_type": "code",
   "execution_count": 56,
   "id": "c3a7fc14-1936-4536-bd27-f6fdda2761e2",
   "metadata": {},
   "outputs": [],
   "source": [
    "raw = pd.merge(raw, bei_change_rate, on='날짜', how='left')"
   ]
  },
  {
   "cell_type": "code",
   "execution_count": 44,
   "id": "f0d447ab-8140-4a33-bc42-c620d0494314",
   "metadata": {},
   "outputs": [],
   "source": [
    "cd91_sofr['날짜'] = pd.to_datetime(cd91_sofr['날짜'])"
   ]
  },
  {
   "cell_type": "code",
   "execution_count": 51,
   "id": "0d699471-7c07-4581-ba3f-2776ffcad61e",
   "metadata": {},
   "outputs": [],
   "source": [
    "cd91_sofr = cd91_sofr.drop(['sofr', 'CD91'], axis=1)"
   ]
  },
  {
   "cell_type": "code",
   "execution_count": 58,
   "id": "7fb2aa9f-ef07-45ca-b9ad-b6558eb85cc9",
   "metadata": {},
   "outputs": [],
   "source": [
    "raw = pd.merge(raw, cd91_sofr, on='날짜', how='left')"
   ]
  },
  {
   "cell_type": "code",
   "execution_count": 60,
   "id": "7d8351ac-357a-49d0-b87f-93ab58876b28",
   "metadata": {},
   "outputs": [],
   "source": [
    "output_filename = './cord&frame/raw_data_joo.csv'\n",
    "# 특정 컬럼들을 선택한 후 CSV 파일로 저장\n",
    "raw.to_csv(output_filename, index=False)"
   ]
  }
 ],
 "metadata": {
  "kernelspec": {
   "display_name": "Python 3 (ipykernel)",
   "language": "python",
   "name": "python3"
  },
  "language_info": {
   "codemirror_mode": {
    "name": "ipython",
    "version": 3
   },
   "file_extension": ".py",
   "mimetype": "text/x-python",
   "name": "python",
   "nbconvert_exporter": "python",
   "pygments_lexer": "ipython3",
   "version": "3.11.5"
  }
 },
 "nbformat": 4,
 "nbformat_minor": 5
}
